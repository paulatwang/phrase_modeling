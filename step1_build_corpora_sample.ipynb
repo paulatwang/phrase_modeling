{
 "cells": [
  {
   "cell_type": "markdown",
   "metadata": {},
   "source": [
    "# Phrase Modelling Part I - Building Corpora"
   ]
  },
  {
   "cell_type": "markdown",
   "metadata": {},
   "source": [
    "## Set path"
   ]
  },
  {
   "cell_type": "code",
   "execution_count": 1,
   "metadata": {},
   "outputs": [],
   "source": [
    "import os\n",
    "path = os.getcwd()[:-16]\n",
    "path\n",
    "\n",
    "import warnings\n",
    "warnings.filterwarnings(\"ignore\",category=DeprecationWarning)\n",
    "\n",
    "import time"
   ]
  },
  {
   "cell_type": "markdown",
   "metadata": {},
   "source": [
    "## Read and process document"
   ]
  },
  {
   "cell_type": "markdown",
   "metadata": {},
   "source": [
    "Read data"
   ]
  },
  {
   "cell_type": "code",
   "execution_count": 2,
   "metadata": {},
   "outputs": [],
   "source": [
    "import pandas as pd\n",
    "\n",
    "news = pd.read_csv(path + '/emfdscore/emfd_processed.csv')"
   ]
  },
  {
   "cell_type": "markdown",
   "metadata": {},
   "source": [
    "Process data"
   ]
  },
  {
   "cell_type": "code",
   "execution_count": 3,
   "metadata": {},
   "outputs": [],
   "source": [
    "# 1. Z-transform mf-probability and mf-sentiment scores\n",
    "\n",
    "def standardize(df):\n",
    "    probabilities = ['care_p', 'fairness_p', 'loyalty_p', 'authority_p','sanctity_p']\n",
    "    sentiments = ['care_sent', 'fairness_sent', 'loyalty_sent','authority_sent','sanctity_sent']\n",
    "    \n",
    "    for p in probabilities:\n",
    "        df[p] = (df[p] - df[p].mean()) / df[p].std()\n",
    "    for s in sentiments:\n",
    "        df[s] = (df[s] - df[s].mean()) / df[s].std()\n",
    "        \n",
    "    return df"
   ]
  },
  {
   "cell_type": "code",
   "execution_count": 4,
   "metadata": {},
   "outputs": [],
   "source": [
    "# 2. Multiply transformed mf-probability * mf-sentiment\n",
    "\n",
    "def multiply(df):\n",
    "    foundations = ['care','fairness','loyalty','authority','sanctity']\n",
    "    \n",
    "    for f in foundations:\n",
    "        df[f+'_prod'] = df[f+'_p'] * df[f+'_sent']\n",
    "    \n",
    "    return df"
   ]
  },
  {
   "cell_type": "code",
   "execution_count": 5,
   "metadata": {},
   "outputs": [],
   "source": [
    "# nested functions, putting it all together\n",
    "processed_news = multiply(standardize(news))"
   ]
  },
  {
   "cell_type": "code",
   "execution_count": 20,
   "metadata": {},
   "outputs": [
    {
     "name": "stdout",
     "output_type": "stream",
     "text": [
      "(699176, 21)\n"
     ]
    },
    {
     "data": {
      "text/html": [
       "<div>\n",
       "<style scoped>\n",
       "    .dataframe tbody tr th:only-of-type {\n",
       "        vertical-align: middle;\n",
       "    }\n",
       "\n",
       "    .dataframe tbody tr th {\n",
       "        vertical-align: top;\n",
       "    }\n",
       "\n",
       "    .dataframe thead th {\n",
       "        text-align: right;\n",
       "    }\n",
       "</style>\n",
       "<table border=\"1\" class=\"dataframe\">\n",
       "  <thead>\n",
       "    <tr style=\"text-align: right;\">\n",
       "      <th></th>\n",
       "      <th>datetime2</th>\n",
       "      <th>url</th>\n",
       "      <th>source_x</th>\n",
       "      <th>title</th>\n",
       "      <th>care_p</th>\n",
       "      <th>fairness_p</th>\n",
       "      <th>loyalty_p</th>\n",
       "      <th>authority_p</th>\n",
       "      <th>sanctity_p</th>\n",
       "      <th>care_sent</th>\n",
       "      <th>...</th>\n",
       "      <th>loyalty_sent</th>\n",
       "      <th>authority_sent</th>\n",
       "      <th>sanctity_sent</th>\n",
       "      <th>total_words</th>\n",
       "      <th>datetime2.1</th>\n",
       "      <th>care_prod</th>\n",
       "      <th>fairness_prod</th>\n",
       "      <th>loyalty_prod</th>\n",
       "      <th>authority_prod</th>\n",
       "      <th>sanctity_prod</th>\n",
       "    </tr>\n",
       "  </thead>\n",
       "  <tbody>\n",
       "    <tr>\n",
       "      <th>0</th>\n",
       "      <td>2019-10-31 19:00:00-04:00</td>\n",
       "      <td>https://www.usatoday.com/story/sports/nfl/reds...</td>\n",
       "      <td>usatoday.com</td>\n",
       "      <td>Trent Williams, Redskins OT, says he had cance...</td>\n",
       "      <td>-0.748319</td>\n",
       "      <td>-0.239336</td>\n",
       "      <td>-0.143331</td>\n",
       "      <td>-0.809146</td>\n",
       "      <td>-0.093073</td>\n",
       "      <td>0.623104</td>\n",
       "      <td>...</td>\n",
       "      <td>0.948519</td>\n",
       "      <td>0.384658</td>\n",
       "      <td>0.857586</td>\n",
       "      <td>665.0</td>\n",
       "      <td>2.019110e+13</td>\n",
       "      <td>-0.466280</td>\n",
       "      <td>-0.091422</td>\n",
       "      <td>-0.135952</td>\n",
       "      <td>-0.311245</td>\n",
       "      <td>-0.079818</td>\n",
       "    </tr>\n",
       "    <tr>\n",
       "      <th>1</th>\n",
       "      <td>2019-10-31 19:00:00-04:00</td>\n",
       "      <td>https://www.barrons.com/articles/pinterest-sto...</td>\n",
       "      <td>barrons.com</td>\n",
       "      <td>Pinterest Stock Plunges on Sales Miss</td>\n",
       "      <td>-0.406304</td>\n",
       "      <td>-0.389748</td>\n",
       "      <td>-1.641356</td>\n",
       "      <td>-2.383138</td>\n",
       "      <td>0.327396</td>\n",
       "      <td>-0.572139</td>\n",
       "      <td>...</td>\n",
       "      <td>1.243885</td>\n",
       "      <td>1.200078</td>\n",
       "      <td>-0.108423</td>\n",
       "      <td>229.0</td>\n",
       "      <td>2.019110e+13</td>\n",
       "      <td>0.232462</td>\n",
       "      <td>-0.278476</td>\n",
       "      <td>-2.041658</td>\n",
       "      <td>-2.859952</td>\n",
       "      <td>-0.035497</td>\n",
       "    </tr>\n",
       "    <tr>\n",
       "      <th>2</th>\n",
       "      <td>2019-10-31 19:00:00-04:00</td>\n",
       "      <td>https://www.washingtonpost.com/opinions/global...</td>\n",
       "      <td>washingtonpost.com</td>\n",
       "      <td>Baghdadi's death could mean more American with...</td>\n",
       "      <td>0.190461</td>\n",
       "      <td>-0.532758</td>\n",
       "      <td>0.597286</td>\n",
       "      <td>0.067132</td>\n",
       "      <td>0.102196</td>\n",
       "      <td>-0.366881</td>\n",
       "      <td>...</td>\n",
       "      <td>-0.299219</td>\n",
       "      <td>-0.424403</td>\n",
       "      <td>0.196929</td>\n",
       "      <td>730.0</td>\n",
       "      <td>2.019110e+13</td>\n",
       "      <td>-0.069877</td>\n",
       "      <td>0.108114</td>\n",
       "      <td>-0.178720</td>\n",
       "      <td>-0.028491</td>\n",
       "      <td>0.020125</td>\n",
       "    </tr>\n",
       "    <tr>\n",
       "      <th>3</th>\n",
       "      <td>2019-10-31 19:00:00-04:00</td>\n",
       "      <td>https://www.barrons.com/articles/arista-networ...</td>\n",
       "      <td>barrons.com</td>\n",
       "      <td>Arista Networks Stock Plunges as Earnings Outl...</td>\n",
       "      <td>-1.167978</td>\n",
       "      <td>-0.491382</td>\n",
       "      <td>-0.616291</td>\n",
       "      <td>-1.297638</td>\n",
       "      <td>-0.495363</td>\n",
       "      <td>0.646557</td>\n",
       "      <td>...</td>\n",
       "      <td>0.868904</td>\n",
       "      <td>0.107727</td>\n",
       "      <td>1.179168</td>\n",
       "      <td>363.0</td>\n",
       "      <td>2.019110e+13</td>\n",
       "      <td>-0.755164</td>\n",
       "      <td>-0.212345</td>\n",
       "      <td>-0.535497</td>\n",
       "      <td>-0.139791</td>\n",
       "      <td>-0.584116</td>\n",
       "    </tr>\n",
       "    <tr>\n",
       "      <th>4</th>\n",
       "      <td>2019-10-31 19:00:00-04:00</td>\n",
       "      <td>https://www.usatoday.com/story/sports/nba/2019...</td>\n",
       "      <td>usatoday.com</td>\n",
       "      <td>Joel Embiid, Karl-Anthony Towns suspended two ...</td>\n",
       "      <td>-0.059949</td>\n",
       "      <td>-0.572616</td>\n",
       "      <td>-1.672334</td>\n",
       "      <td>-0.729370</td>\n",
       "      <td>-0.273279</td>\n",
       "      <td>0.546196</td>\n",
       "      <td>...</td>\n",
       "      <td>-1.151896</td>\n",
       "      <td>-1.036594</td>\n",
       "      <td>-1.968677</td>\n",
       "      <td>352.0</td>\n",
       "      <td>2.019110e+13</td>\n",
       "      <td>-0.032744</td>\n",
       "      <td>0.550585</td>\n",
       "      <td>1.926355</td>\n",
       "      <td>0.756060</td>\n",
       "      <td>0.537998</td>\n",
       "    </tr>\n",
       "  </tbody>\n",
       "</table>\n",
       "<p>5 rows × 21 columns</p>\n",
       "</div>"
      ],
      "text/plain": [
       "                   datetime2  \\\n",
       "0  2019-10-31 19:00:00-04:00   \n",
       "1  2019-10-31 19:00:00-04:00   \n",
       "2  2019-10-31 19:00:00-04:00   \n",
       "3  2019-10-31 19:00:00-04:00   \n",
       "4  2019-10-31 19:00:00-04:00   \n",
       "\n",
       "                                                 url            source_x  \\\n",
       "0  https://www.usatoday.com/story/sports/nfl/reds...        usatoday.com   \n",
       "1  https://www.barrons.com/articles/pinterest-sto...         barrons.com   \n",
       "2  https://www.washingtonpost.com/opinions/global...  washingtonpost.com   \n",
       "3  https://www.barrons.com/articles/arista-networ...         barrons.com   \n",
       "4  https://www.usatoday.com/story/sports/nba/2019...        usatoday.com   \n",
       "\n",
       "                                               title    care_p  fairness_p  \\\n",
       "0  Trent Williams, Redskins OT, says he had cance... -0.748319   -0.239336   \n",
       "1              Pinterest Stock Plunges on Sales Miss -0.406304   -0.389748   \n",
       "2  Baghdadi's death could mean more American with...  0.190461   -0.532758   \n",
       "3  Arista Networks Stock Plunges as Earnings Outl... -1.167978   -0.491382   \n",
       "4  Joel Embiid, Karl-Anthony Towns suspended two ... -0.059949   -0.572616   \n",
       "\n",
       "   loyalty_p  authority_p  sanctity_p  care_sent  ...  loyalty_sent  \\\n",
       "0  -0.143331    -0.809146   -0.093073   0.623104  ...      0.948519   \n",
       "1  -1.641356    -2.383138    0.327396  -0.572139  ...      1.243885   \n",
       "2   0.597286     0.067132    0.102196  -0.366881  ...     -0.299219   \n",
       "3  -0.616291    -1.297638   -0.495363   0.646557  ...      0.868904   \n",
       "4  -1.672334    -0.729370   -0.273279   0.546196  ...     -1.151896   \n",
       "\n",
       "   authority_sent  sanctity_sent  total_words   datetime2.1  care_prod  \\\n",
       "0        0.384658       0.857586        665.0  2.019110e+13  -0.466280   \n",
       "1        1.200078      -0.108423        229.0  2.019110e+13   0.232462   \n",
       "2       -0.424403       0.196929        730.0  2.019110e+13  -0.069877   \n",
       "3        0.107727       1.179168        363.0  2.019110e+13  -0.755164   \n",
       "4       -1.036594      -1.968677        352.0  2.019110e+13  -0.032744   \n",
       "\n",
       "   fairness_prod  loyalty_prod  authority_prod  sanctity_prod  \n",
       "0      -0.091422     -0.135952       -0.311245      -0.079818  \n",
       "1      -0.278476     -2.041658       -2.859952      -0.035497  \n",
       "2       0.108114     -0.178720       -0.028491       0.020125  \n",
       "3      -0.212345     -0.535497       -0.139791      -0.584116  \n",
       "4       0.550585      1.926355        0.756060       0.537998  \n",
       "\n",
       "[5 rows x 21 columns]"
      ]
     },
     "execution_count": 20,
     "metadata": {},
     "output_type": "execute_result"
    }
   ],
   "source": [
    "print(processed_news.shape)\n",
    "processed_news.head(5)"
   ]
  },
  {
   "cell_type": "code",
   "execution_count": 7,
   "metadata": {},
   "outputs": [],
   "source": [
    "all_processed_news_titles_list = processed_news.title.tolist()"
   ]
  },
  {
   "cell_type": "code",
   "execution_count": null,
   "metadata": {},
   "outputs": [],
   "source": []
  },
  {
   "cell_type": "code",
   "execution_count": null,
   "metadata": {},
   "outputs": [],
   "source": []
  },
  {
   "cell_type": "markdown",
   "metadata": {},
   "source": [
    "Generate ramdom sample from 10% of the data"
   ]
  },
  {
   "cell_type": "code",
   "execution_count": 420,
   "metadata": {},
   "outputs": [],
   "source": [
    "#n = int(0.1*len(processed_news))\n",
    "#sample = processed_news.sample(n=n, random_state=0)"
   ]
  },
  {
   "cell_type": "code",
   "execution_count": 421,
   "metadata": {},
   "outputs": [
    {
     "data": {
      "text/plain": [
       "69917"
      ]
     },
     "execution_count": 421,
     "metadata": {},
     "output_type": "execute_result"
    }
   ],
   "source": [
    "#len(sample10)"
   ]
  },
  {
   "cell_type": "code",
   "execution_count": 441,
   "metadata": {},
   "outputs": [],
   "source": [
    "#path = os.getcwd() + '/csv/'\n",
    "#sample.to_csv(path + 'sample10.csv')"
   ]
  },
  {
   "cell_type": "code",
   "execution_count": 422,
   "metadata": {},
   "outputs": [],
   "source": [
    "#sample_titles_list = sample.title.tolist()"
   ]
  },
  {
   "cell_type": "code",
   "execution_count": 423,
   "metadata": {},
   "outputs": [
    {
     "data": {
      "text/plain": [
       "['A \"Pro-Life Hero\"? Trump Becomes First President To Speak At \\'March For Life\\'',\n",
       " \"USS Theodore Roosevelt's entire crew has been tested for coronavirus; over 800 positive, officials say\",\n",
       " 'COVID-19 Deaths Explode In Russia, Mexico And Brazil As Global Cases Top 6.5 Million: Live Updates',\n",
       " 'Beware—Android Phones Crippled By Dangerous New Image Shared On Social Media',\n",
       " \"Israel Will Vote Sunday To Annex West Bank Lands Delineated In Trump's 'Peace Plan'\",\n",
       " 'Indonesia study warns Ramadan exodus would fuel coronavirus',\n",
       " 'Trump signs spending bills, avoiding government shutdown',\n",
       " \"Trump lawyers' weak start opens the door to devastating questions\",\n",
       " 'Ex-NASA administrator James Beggs dead at 94',\n",
       " \"Bills' Josh Allen says 57 Buffalo police officers who resigned don't deserve to be part of emergency unit\"]"
      ]
     },
     "execution_count": 423,
     "metadata": {},
     "output_type": "execute_result"
    }
   ],
   "source": [
    "#sample_titles_list[:10]"
   ]
  },
  {
   "cell_type": "markdown",
   "metadata": {},
   "source": [
    "Create dictionary of titles"
   ]
  },
  {
   "cell_type": "code",
   "execution_count": null,
   "metadata": {},
   "outputs": [],
   "source": []
  },
  {
   "cell_type": "code",
   "execution_count": null,
   "metadata": {},
   "outputs": [],
   "source": []
  },
  {
   "cell_type": "code",
   "execution_count": null,
   "metadata": {},
   "outputs": [],
   "source": []
  },
  {
   "cell_type": "markdown",
   "metadata": {},
   "source": [
    "## Build corpus from selected data\n",
    "\n",
    "1. Preprocess words in sentences (remove punctuation & stopwords)\n",
    "2. Build bigrams and trigrams\n",
    "3. Create dictionary using bag-of-words approach (assign IDs to words)\n",
    "4. Create corpus as set of dictionary-defined vectors, each representing a document within the dataset"
   ]
  },
  {
   "cell_type": "code",
   "execution_count": 8,
   "metadata": {},
   "outputs": [],
   "source": [
    "from gensim import corpora, models, utils"
   ]
  },
  {
   "cell_type": "markdown",
   "metadata": {},
   "source": [
    "### Simple preprocess into words"
   ]
  },
  {
   "cell_type": "code",
   "execution_count": 73,
   "metadata": {},
   "outputs": [
    {
     "data": {
      "text/plain": [
       "[\"Ladenburg Thalmann Mulls Sale - Barron's\",\n",
       " 'Delicious festival food items you can get on a stick',\n",
       " 'A Top United Auto Workers Officer Faces Embezzlement Charges',\n",
       " 'Trump, Lifelong New Yorker, Declares Himself a Resident of Florida',\n",
       " \"Three very different books explore California's destiny\",\n",
       " 'Halloween Horror Double Feature: We Are The Monsters',\n",
       " \"Viral video shows horse running back to 'rescue' loved ones amid Easy Fire evacuation in California\",\n",
       " \"Five UCI fraternity brothers charged in CV High graduate's alcohol poisoning death\",\n",
       " 'Billionaire Branson Gets Billions In Bonds To Launch Vegas To California Train Service',\n",
       " 'Former Sheriff and TV Show Host Charged With Sexual Assault and Making Death Threat']"
      ]
     },
     "execution_count": 73,
     "metadata": {},
     "output_type": "execute_result"
    }
   ],
   "source": [
    "all_processed_news_titles_list[10:20]"
   ]
  },
  {
   "cell_type": "code",
   "execution_count": 71,
   "metadata": {},
   "outputs": [
    {
     "name": "stderr",
     "output_type": "stream",
     "text": [
      "[nltk_data] Downloading package averaged_perceptron_tagger to\n",
      "[nltk_data]     /home/pw/nltk_data...\n",
      "[nltk_data]   Package averaged_perceptron_tagger is already up-to-\n",
      "[nltk_data]       date!\n",
      "[nltk_data] Downloading package universal_tagset to\n",
      "[nltk_data]     /home/pw/nltk_data...\n",
      "[nltk_data]   Package universal_tagset is already up-to-date!\n"
     ]
    },
    {
     "data": {
      "text/plain": [
       "True"
      ]
     },
     "execution_count": 71,
     "metadata": {},
     "output_type": "execute_result"
    }
   ],
   "source": [
    "test = all_processed_news_titles_list[:5]\n",
    "\n",
    "import nltk\n",
    "from nltk.tag import pos_tag\n",
    "nltk.download('averaged_perceptron_tagger')\n",
    "nltk.download('universal_tagset')"
   ]
  },
  {
   "cell_type": "code",
   "execution_count": 79,
   "metadata": {},
   "outputs": [
    {
     "name": "stdout",
     "output_type": "stream",
     "text": [
      "Defaulting to user installation because normal site-packages is not writeable\n",
      "Requirement already satisfied: stanfordnlp in /home/pw/.local/lib/python3.8/site-packages (0.2.0)\n",
      "Requirement already satisfied: tqdm in /usr/local/miniconda3/envs/nlp/lib/python3.8/site-packages (from stanfordnlp) (4.55.1)\n",
      "Requirement already satisfied: protobuf in /usr/local/miniconda3/envs/nlp/lib/python3.8/site-packages (from stanfordnlp) (3.14.0)\n",
      "Requirement already satisfied: numpy in /home/pw/.local/lib/python3.8/site-packages (from stanfordnlp) (1.22.1)\n",
      "Requirement already satisfied: requests in /usr/local/miniconda3/envs/nlp/lib/python3.8/site-packages (from stanfordnlp) (2.25.1)\n",
      "Requirement already satisfied: torch>=1.0.0 in /home/pw/.local/lib/python3.8/site-packages (from stanfordnlp) (1.10.2)\n",
      "Requirement already satisfied: typing-extensions in /home/pw/.local/lib/python3.8/site-packages (from torch>=1.0.0->stanfordnlp) (4.1.1)\n",
      "Requirement already satisfied: six>=1.9 in /usr/local/miniconda3/envs/nlp/lib/python3.8/site-packages (from protobuf->stanfordnlp) (1.15.0)\n",
      "Requirement already satisfied: urllib3<1.27,>=1.21.1 in /usr/local/miniconda3/envs/nlp/lib/python3.8/site-packages (from requests->stanfordnlp) (1.26.2)\n",
      "Requirement already satisfied: chardet<5,>=3.0.2 in /usr/local/miniconda3/envs/nlp/lib/python3.8/site-packages (from requests->stanfordnlp) (4.0.0)\n",
      "Requirement already satisfied: certifi>=2017.4.17 in /usr/local/miniconda3/envs/nlp/lib/python3.8/site-packages (from requests->stanfordnlp) (2020.12.5)\n",
      "Requirement already satisfied: idna<3,>=2.5 in /usr/local/miniconda3/envs/nlp/lib/python3.8/site-packages (from requests->stanfordnlp) (2.10)\n",
      "Using the default treebank \"en_ewt\" for language \"en\".\n",
      "Would you like to download the models for: en_ewt now? (Y/n)\n"
     ]
    },
    {
     "name": "stdin",
     "output_type": "stream",
     "text": [
      " Y\n"
     ]
    },
    {
     "name": "stdout",
     "output_type": "stream",
     "text": [
      "\n",
      "Default download directory: /home/pw/stanfordnlp_resources\n",
      "Hit enter to continue or type an alternate directory.\n"
     ]
    },
    {
     "name": "stdin",
     "output_type": "stream",
     "text": [
      " \n"
     ]
    },
    {
     "name": "stdout",
     "output_type": "stream",
     "text": [
      "\n",
      "Downloading models for: en_ewt\n",
      "Download location: /home/pw/stanfordnlp_resources/en_ewt_models.zip\n"
     ]
    },
    {
     "name": "stderr",
     "output_type": "stream",
     "text": [
      "100%|██████████| 235M/235M [00:40<00:00, 5.83MB/s] \n"
     ]
    },
    {
     "name": "stdout",
     "output_type": "stream",
     "text": [
      "\n",
      "Download complete.  Models saved to: /home/pw/stanfordnlp_resources/en_ewt_models.zip\n",
      "Extracting models file for: en_ewt\n",
      "Cleaning up...Done.\n",
      "Use device: gpu\n",
      "---\n",
      "Loading: tokenize\n",
      "With settings: \n",
      "{'model_path': '/home/pw/stanfordnlp_resources/en_ewt_models/en_ewt_tokenizer.pt', 'lang': 'en', 'shorthand': 'en_ewt', 'mode': 'predict'}\n",
      "---\n",
      "Loading: pos\n",
      "With settings: \n",
      "{'model_path': '/home/pw/stanfordnlp_resources/en_ewt_models/en_ewt_tagger.pt', 'pretrain_path': '/home/pw/stanfordnlp_resources/en_ewt_models/en_ewt.pretrain.pt', 'lang': 'en', 'shorthand': 'en_ewt', 'mode': 'predict'}\n",
      "Done loading processors!\n",
      "---\n"
     ]
    }
   ],
   "source": [
    "! pip install stanfordnlp\n",
    "import stanfordnlp\n",
    "stanfordnlp.download('en')\n",
    "stf_nlp = stanfordnlp.Pipeline(processors='tokenize,mwt,pos')"
   ]
  },
  {
   "cell_type": "code",
   "execution_count": 100,
   "metadata": {},
   "outputs": [],
   "source": [
    "tagged_titles = [stf_nlp(title) for title in all_processed_news_titles_list]"
   ]
  },
  {
   "cell_type": "code",
   "execution_count": 138,
   "metadata": {},
   "outputs": [],
   "source": [
    "def filter_upos(titles):\n",
    "    for title in titles:\n",
    "        # visual of upos and xpos tags of each word  \n",
    "        #print(*[f'word: {word.text+\" \"}\\tupos: {word.upos}\\txpos: {word.xpos}' for sent in title.sentences for word in sent.words], sep='\\n')\n",
    "        \n",
    "        # create list with upos tag condition \n",
    "        yield [word.text if word.upos in [\"ADV\",\"ADJ\",\"VERB\"] else None for sent in title.sentences for word in sent.words]"
   ]
  },
  {
   "cell_type": "code",
   "execution_count": 130,
   "metadata": {},
   "outputs": [],
   "source": [
    "titles_upos_filter = list(filter_upos(tagged_titles)) # list of lists"
   ]
  },
  {
   "cell_type": "code",
   "execution_count": 139,
   "metadata": {},
   "outputs": [],
   "source": [
    "titles_upos_filter_none = [list(filter(None, title)) for title in titles_upos_filter] # remove None values"
   ]
  },
  {
   "cell_type": "code",
   "execution_count": 140,
   "metadata": {},
   "outputs": [],
   "source": [
    "def sent_to_words(titles):\n",
    "    for title in titles:\n",
    "        yield(utils.simple_preprocess(str(title), deacc=True))  # deacc=True removes punctuations\n",
    "\n",
    "words = list(sent_to_words(titles_upos_filter_none)) # format: list of list"
   ]
  },
  {
   "cell_type": "code",
   "execution_count": 143,
   "metadata": {},
   "outputs": [
    {
     "data": {
      "text/plain": [
       "[['says', 'had', 'misdiagnosed'],\n",
       " ['plunges'],\n",
       " ['mean', 'more', 'american', 'bad'],\n",
       " ['plunges', 'disappoints'],\n",
       " ['suspended']]"
      ]
     },
     "execution_count": 143,
     "metadata": {},
     "output_type": "execute_result"
    }
   ],
   "source": [
    "words[:5]"
   ]
  },
  {
   "cell_type": "markdown",
   "metadata": {},
   "source": [
    "### Remove stopwords"
   ]
  },
  {
   "cell_type": "code",
   "execution_count": 144,
   "metadata": {},
   "outputs": [],
   "source": [
    "from spacy.lang.en import English\n",
    "from spacy.lang.en.stop_words import STOP_WORDS\n",
    "import en_core_web_sm\n",
    "nlp = en_core_web_sm.load()\n",
    "\n",
    "def stop_remove(texts):\n",
    "    ls=[]\n",
    "    for nested_list in texts:\n",
    "        filtered_words = []\n",
    "        for word in nested_list:\n",
    "            lexeme = nlp.vocab[str(word)]\n",
    "            if lexeme.is_stop == False:\n",
    "                filtered_words.append(word)\n",
    "        ls.append(filtered_words)\n",
    "    return ls\n",
    "\n",
    "words_nostops = stop_remove(words) # format: list of list"
   ]
  },
  {
   "cell_type": "code",
   "execution_count": 145,
   "metadata": {},
   "outputs": [
    {
     "data": {
      "text/plain": [
       "[['says', 'misdiagnosed'],\n",
       " ['plunges'],\n",
       " ['mean', 'american', 'bad'],\n",
       " ['plunges', 'disappoints'],\n",
       " ['suspended']]"
      ]
     },
     "execution_count": 145,
     "metadata": {},
     "output_type": "execute_result"
    }
   ],
   "source": [
    "words_nostops[:5]"
   ]
  },
  {
   "cell_type": "markdown",
   "metadata": {},
   "source": [
    "### Remove words that appear only once"
   ]
  },
  {
   "cell_type": "code",
   "execution_count": 146,
   "metadata": {},
   "outputs": [
    {
     "name": "stdout",
     "output_type": "stream",
     "text": [
      "Before removal: 1453200\n",
      "After removal: 1447920\n"
     ]
    }
   ],
   "source": [
    "from collections import defaultdict\n",
    "\n",
    "def filter_low_freq(texts):\n",
    "    count1 = sum([len(ele) for ele in texts]) \n",
    "\n",
    "    # remove words that appear only once\n",
    "    frequency = defaultdict(int)\n",
    "    for text in texts:\n",
    "        for token in text:\n",
    "            frequency[token] += 1\n",
    "    texts = [[token for token in text if frequency[token] > 1] for text in texts]\n",
    "\n",
    "    count2 = sum([len(ele) for ele in texts]) \n",
    "    \n",
    "    print('Before removal: %d' % count1)\n",
    "    print('After removal: %d' % count2)\n",
    "    \n",
    "    return texts\n",
    "\n",
    "words_filter = filter_low_freq(words_nostops)"
   ]
  },
  {
   "cell_type": "markdown",
   "metadata": {},
   "source": [
    "### Build bigram and trigram models"
   ]
  },
  {
   "cell_type": "code",
   "execution_count": 147,
   "metadata": {},
   "outputs": [
    {
     "name": "stdout",
     "output_type": "stream",
     "text": [
      "Elapsed: 12.233544826507568 seconds\n"
     ]
    }
   ],
   "source": [
    "start = time.time()\n",
    "\n",
    "bigram = models.Phrases(words_filter, min_count=5, threshold=100)\n",
    "trigram = models.Phrases(bigram[words_filter], threshold=100)  \n",
    "\n",
    "bigram_mod = models.phrases.Phraser(bigram)\n",
    "trigram_mod = models.phrases.Phraser(trigram)\n",
    "\n",
    "end = time.time()\n",
    "print(\"Elapsed:\", end - start, 'seconds')"
   ]
  },
  {
   "cell_type": "markdown",
   "metadata": {},
   "source": [
    "Define functions for trigrams and lemmatization"
   ]
  },
  {
   "cell_type": "code",
   "execution_count": 148,
   "metadata": {},
   "outputs": [
    {
     "name": "stdout",
     "output_type": "stream",
     "text": [
      "Elapsed: 6.11836838722229 seconds\n"
     ]
    }
   ],
   "source": [
    "start = time.time()\n",
    "\n",
    "def make_trigrams(texts):\n",
    "    return [trigram_mod[bigram_mod[doc]] for doc in texts]\n",
    "\n",
    "words_trigrams = make_trigrams(words_filter)\n",
    "\n",
    "end = time.time()\n",
    "print(\"Elapsed:\", end - start, 'seconds')"
   ]
  },
  {
   "cell_type": "code",
   "execution_count": 149,
   "metadata": {},
   "outputs": [
    {
     "name": "stdout",
     "output_type": "stream",
     "text": [
      "Elapsed: 23.012170791625977 seconds\n"
     ]
    }
   ],
   "source": [
    "start = time.time()\n",
    "df = pd.DataFrame(words_trigrams)\n",
    "end = time.time()\n",
    "print(\"Elapsed:\", end - start, 'seconds')"
   ]
  },
  {
   "cell_type": "code",
   "execution_count": 150,
   "metadata": {},
   "outputs": [
    {
     "data": {
      "text/html": [
       "<div>\n",
       "<style scoped>\n",
       "    .dataframe tbody tr th:only-of-type {\n",
       "        vertical-align: middle;\n",
       "    }\n",
       "\n",
       "    .dataframe tbody tr th {\n",
       "        vertical-align: top;\n",
       "    }\n",
       "\n",
       "    .dataframe thead th {\n",
       "        text-align: right;\n",
       "    }\n",
       "</style>\n",
       "<table border=\"1\" class=\"dataframe\">\n",
       "  <thead>\n",
       "    <tr style=\"text-align: right;\">\n",
       "      <th></th>\n",
       "      <th>0</th>\n",
       "      <th>1</th>\n",
       "      <th>2</th>\n",
       "      <th>3</th>\n",
       "      <th>4</th>\n",
       "      <th>5</th>\n",
       "      <th>6</th>\n",
       "      <th>7</th>\n",
       "      <th>8</th>\n",
       "      <th>9</th>\n",
       "      <th>...</th>\n",
       "      <th>124</th>\n",
       "      <th>125</th>\n",
       "      <th>126</th>\n",
       "      <th>127</th>\n",
       "      <th>128</th>\n",
       "      <th>129</th>\n",
       "      <th>130</th>\n",
       "      <th>131</th>\n",
       "      <th>132</th>\n",
       "      <th>133</th>\n",
       "    </tr>\n",
       "  </thead>\n",
       "  <tbody>\n",
       "    <tr>\n",
       "      <th>0</th>\n",
       "      <td>says</td>\n",
       "      <td>misdiagnosed</td>\n",
       "      <td>None</td>\n",
       "      <td>None</td>\n",
       "      <td>None</td>\n",
       "      <td>None</td>\n",
       "      <td>None</td>\n",
       "      <td>None</td>\n",
       "      <td>None</td>\n",
       "      <td>None</td>\n",
       "      <td>...</td>\n",
       "      <td>None</td>\n",
       "      <td>None</td>\n",
       "      <td>None</td>\n",
       "      <td>None</td>\n",
       "      <td>None</td>\n",
       "      <td>None</td>\n",
       "      <td>None</td>\n",
       "      <td>None</td>\n",
       "      <td>None</td>\n",
       "      <td>None</td>\n",
       "    </tr>\n",
       "    <tr>\n",
       "      <th>1</th>\n",
       "      <td>plunges</td>\n",
       "      <td>None</td>\n",
       "      <td>None</td>\n",
       "      <td>None</td>\n",
       "      <td>None</td>\n",
       "      <td>None</td>\n",
       "      <td>None</td>\n",
       "      <td>None</td>\n",
       "      <td>None</td>\n",
       "      <td>None</td>\n",
       "      <td>...</td>\n",
       "      <td>None</td>\n",
       "      <td>None</td>\n",
       "      <td>None</td>\n",
       "      <td>None</td>\n",
       "      <td>None</td>\n",
       "      <td>None</td>\n",
       "      <td>None</td>\n",
       "      <td>None</td>\n",
       "      <td>None</td>\n",
       "      <td>None</td>\n",
       "    </tr>\n",
       "    <tr>\n",
       "      <th>2</th>\n",
       "      <td>mean</td>\n",
       "      <td>american</td>\n",
       "      <td>bad</td>\n",
       "      <td>None</td>\n",
       "      <td>None</td>\n",
       "      <td>None</td>\n",
       "      <td>None</td>\n",
       "      <td>None</td>\n",
       "      <td>None</td>\n",
       "      <td>None</td>\n",
       "      <td>...</td>\n",
       "      <td>None</td>\n",
       "      <td>None</td>\n",
       "      <td>None</td>\n",
       "      <td>None</td>\n",
       "      <td>None</td>\n",
       "      <td>None</td>\n",
       "      <td>None</td>\n",
       "      <td>None</td>\n",
       "      <td>None</td>\n",
       "      <td>None</td>\n",
       "    </tr>\n",
       "    <tr>\n",
       "      <th>3</th>\n",
       "      <td>plunges</td>\n",
       "      <td>disappoints</td>\n",
       "      <td>None</td>\n",
       "      <td>None</td>\n",
       "      <td>None</td>\n",
       "      <td>None</td>\n",
       "      <td>None</td>\n",
       "      <td>None</td>\n",
       "      <td>None</td>\n",
       "      <td>None</td>\n",
       "      <td>...</td>\n",
       "      <td>None</td>\n",
       "      <td>None</td>\n",
       "      <td>None</td>\n",
       "      <td>None</td>\n",
       "      <td>None</td>\n",
       "      <td>None</td>\n",
       "      <td>None</td>\n",
       "      <td>None</td>\n",
       "      <td>None</td>\n",
       "      <td>None</td>\n",
       "    </tr>\n",
       "    <tr>\n",
       "      <th>4</th>\n",
       "      <td>suspended</td>\n",
       "      <td>None</td>\n",
       "      <td>None</td>\n",
       "      <td>None</td>\n",
       "      <td>None</td>\n",
       "      <td>None</td>\n",
       "      <td>None</td>\n",
       "      <td>None</td>\n",
       "      <td>None</td>\n",
       "      <td>None</td>\n",
       "      <td>...</td>\n",
       "      <td>None</td>\n",
       "      <td>None</td>\n",
       "      <td>None</td>\n",
       "      <td>None</td>\n",
       "      <td>None</td>\n",
       "      <td>None</td>\n",
       "      <td>None</td>\n",
       "      <td>None</td>\n",
       "      <td>None</td>\n",
       "      <td>None</td>\n",
       "    </tr>\n",
       "    <tr>\n",
       "      <th>...</th>\n",
       "      <td>...</td>\n",
       "      <td>...</td>\n",
       "      <td>...</td>\n",
       "      <td>...</td>\n",
       "      <td>...</td>\n",
       "      <td>...</td>\n",
       "      <td>...</td>\n",
       "      <td>...</td>\n",
       "      <td>...</td>\n",
       "      <td>...</td>\n",
       "      <td>...</td>\n",
       "      <td>...</td>\n",
       "      <td>...</td>\n",
       "      <td>...</td>\n",
       "      <td>...</td>\n",
       "      <td>...</td>\n",
       "      <td>...</td>\n",
       "      <td>...</td>\n",
       "      <td>...</td>\n",
       "      <td>...</td>\n",
       "      <td>...</td>\n",
       "    </tr>\n",
       "    <tr>\n",
       "      <th>699171</th>\n",
       "      <td>urge</td>\n",
       "      <td>halt</td>\n",
       "      <td>None</td>\n",
       "      <td>None</td>\n",
       "      <td>None</td>\n",
       "      <td>None</td>\n",
       "      <td>None</td>\n",
       "      <td>None</td>\n",
       "      <td>None</td>\n",
       "      <td>None</td>\n",
       "      <td>...</td>\n",
       "      <td>None</td>\n",
       "      <td>None</td>\n",
       "      <td>None</td>\n",
       "      <td>None</td>\n",
       "      <td>None</td>\n",
       "      <td>None</td>\n",
       "      <td>None</td>\n",
       "      <td>None</td>\n",
       "      <td>None</td>\n",
       "      <td>None</td>\n",
       "    </tr>\n",
       "    <tr>\n",
       "      <th>699172</th>\n",
       "      <td>None</td>\n",
       "      <td>None</td>\n",
       "      <td>None</td>\n",
       "      <td>None</td>\n",
       "      <td>None</td>\n",
       "      <td>None</td>\n",
       "      <td>None</td>\n",
       "      <td>None</td>\n",
       "      <td>None</td>\n",
       "      <td>None</td>\n",
       "      <td>...</td>\n",
       "      <td>None</td>\n",
       "      <td>None</td>\n",
       "      <td>None</td>\n",
       "      <td>None</td>\n",
       "      <td>None</td>\n",
       "      <td>None</td>\n",
       "      <td>None</td>\n",
       "      <td>None</td>\n",
       "      <td>None</td>\n",
       "      <td>None</td>\n",
       "    </tr>\n",
       "    <tr>\n",
       "      <th>699173</th>\n",
       "      <td>reportedly</td>\n",
       "      <td>says</td>\n",
       "      <td>considering</td>\n",
       "      <td>slave</td>\n",
       "      <td>None</td>\n",
       "      <td>None</td>\n",
       "      <td>None</td>\n",
       "      <td>None</td>\n",
       "      <td>None</td>\n",
       "      <td>None</td>\n",
       "      <td>...</td>\n",
       "      <td>None</td>\n",
       "      <td>None</td>\n",
       "      <td>None</td>\n",
       "      <td>None</td>\n",
       "      <td>None</td>\n",
       "      <td>None</td>\n",
       "      <td>None</td>\n",
       "      <td>None</td>\n",
       "      <td>None</td>\n",
       "      <td>None</td>\n",
       "    </tr>\n",
       "    <tr>\n",
       "      <th>699174</th>\n",
       "      <td>extends</td>\n",
       "      <td>plummet</td>\n",
       "      <td>public</td>\n",
       "      <td>None</td>\n",
       "      <td>None</td>\n",
       "      <td>None</td>\n",
       "      <td>None</td>\n",
       "      <td>None</td>\n",
       "      <td>None</td>\n",
       "      <td>None</td>\n",
       "      <td>...</td>\n",
       "      <td>None</td>\n",
       "      <td>None</td>\n",
       "      <td>None</td>\n",
       "      <td>None</td>\n",
       "      <td>None</td>\n",
       "      <td>None</td>\n",
       "      <td>None</td>\n",
       "      <td>None</td>\n",
       "      <td>None</td>\n",
       "      <td>None</td>\n",
       "    </tr>\n",
       "    <tr>\n",
       "      <th>699175</th>\n",
       "      <td>pay</td>\n",
       "      <td>None</td>\n",
       "      <td>None</td>\n",
       "      <td>None</td>\n",
       "      <td>None</td>\n",
       "      <td>None</td>\n",
       "      <td>None</td>\n",
       "      <td>None</td>\n",
       "      <td>None</td>\n",
       "      <td>None</td>\n",
       "      <td>...</td>\n",
       "      <td>None</td>\n",
       "      <td>None</td>\n",
       "      <td>None</td>\n",
       "      <td>None</td>\n",
       "      <td>None</td>\n",
       "      <td>None</td>\n",
       "      <td>None</td>\n",
       "      <td>None</td>\n",
       "      <td>None</td>\n",
       "      <td>None</td>\n",
       "    </tr>\n",
       "  </tbody>\n",
       "</table>\n",
       "<p>699176 rows × 134 columns</p>\n",
       "</div>"
      ],
      "text/plain": [
       "               0             1            2      3     4     5     6     7    \\\n",
       "0             says  misdiagnosed         None   None  None  None  None  None   \n",
       "1          plunges          None         None   None  None  None  None  None   \n",
       "2             mean      american          bad   None  None  None  None  None   \n",
       "3          plunges   disappoints         None   None  None  None  None  None   \n",
       "4        suspended          None         None   None  None  None  None  None   \n",
       "...            ...           ...          ...    ...   ...   ...   ...   ...   \n",
       "699171        urge          halt         None   None  None  None  None  None   \n",
       "699172        None          None         None   None  None  None  None  None   \n",
       "699173  reportedly          says  considering  slave  None  None  None  None   \n",
       "699174     extends       plummet       public   None  None  None  None  None   \n",
       "699175         pay          None         None   None  None  None  None  None   \n",
       "\n",
       "         8     9    ...   124   125   126   127   128   129   130   131   132  \\\n",
       "0       None  None  ...  None  None  None  None  None  None  None  None  None   \n",
       "1       None  None  ...  None  None  None  None  None  None  None  None  None   \n",
       "2       None  None  ...  None  None  None  None  None  None  None  None  None   \n",
       "3       None  None  ...  None  None  None  None  None  None  None  None  None   \n",
       "4       None  None  ...  None  None  None  None  None  None  None  None  None   \n",
       "...      ...   ...  ...   ...   ...   ...   ...   ...   ...   ...   ...   ...   \n",
       "699171  None  None  ...  None  None  None  None  None  None  None  None  None   \n",
       "699172  None  None  ...  None  None  None  None  None  None  None  None  None   \n",
       "699173  None  None  ...  None  None  None  None  None  None  None  None  None   \n",
       "699174  None  None  ...  None  None  None  None  None  None  None  None  None   \n",
       "699175  None  None  ...  None  None  None  None  None  None  None  None  None   \n",
       "\n",
       "         133  \n",
       "0       None  \n",
       "1       None  \n",
       "2       None  \n",
       "3       None  \n",
       "4       None  \n",
       "...      ...  \n",
       "699171  None  \n",
       "699172  None  \n",
       "699173  None  \n",
       "699174  None  \n",
       "699175  None  \n",
       "\n",
       "[699176 rows x 134 columns]"
      ]
     },
     "execution_count": 150,
     "metadata": {},
     "output_type": "execute_result"
    }
   ],
   "source": [
    "df"
   ]
  },
  {
   "cell_type": "markdown",
   "metadata": {},
   "source": [
    "Save csv with trigrams (filtered by upos) to file"
   ]
  },
  {
   "cell_type": "code",
   "execution_count": 152,
   "metadata": {},
   "outputs": [],
   "source": [
    "path = os.getcwd() + '/csv/'\n",
    "df.to_csv(path + 'allnews_UPOSfilter.csv')"
   ]
  },
  {
   "cell_type": "markdown",
   "metadata": {},
   "source": [
    "Create consolidated dataframe with the titles, emfdscores, and trigrams"
   ]
  },
  {
   "cell_type": "code",
   "execution_count": 151,
   "metadata": {},
   "outputs": [
    {
     "name": "stdout",
     "output_type": "stream",
     "text": [
      "(699176, 155)\n"
     ]
    },
    {
     "data": {
      "text/html": [
       "<div>\n",
       "<style scoped>\n",
       "    .dataframe tbody tr th:only-of-type {\n",
       "        vertical-align: middle;\n",
       "    }\n",
       "\n",
       "    .dataframe tbody tr th {\n",
       "        vertical-align: top;\n",
       "    }\n",
       "\n",
       "    .dataframe thead th {\n",
       "        text-align: right;\n",
       "    }\n",
       "</style>\n",
       "<table border=\"1\" class=\"dataframe\">\n",
       "  <thead>\n",
       "    <tr style=\"text-align: right;\">\n",
       "      <th></th>\n",
       "      <th>datetime2</th>\n",
       "      <th>url</th>\n",
       "      <th>source_x</th>\n",
       "      <th>title</th>\n",
       "      <th>care_p</th>\n",
       "      <th>fairness_p</th>\n",
       "      <th>loyalty_p</th>\n",
       "      <th>authority_p</th>\n",
       "      <th>sanctity_p</th>\n",
       "      <th>care_sent</th>\n",
       "      <th>...</th>\n",
       "      <th>124</th>\n",
       "      <th>125</th>\n",
       "      <th>126</th>\n",
       "      <th>127</th>\n",
       "      <th>128</th>\n",
       "      <th>129</th>\n",
       "      <th>130</th>\n",
       "      <th>131</th>\n",
       "      <th>132</th>\n",
       "      <th>133</th>\n",
       "    </tr>\n",
       "  </thead>\n",
       "  <tbody>\n",
       "    <tr>\n",
       "      <th>0</th>\n",
       "      <td>2019-10-31 19:00:00-04:00</td>\n",
       "      <td>https://www.usatoday.com/story/sports/nfl/reds...</td>\n",
       "      <td>usatoday.com</td>\n",
       "      <td>Trent Williams, Redskins OT, says he had cance...</td>\n",
       "      <td>-0.748319</td>\n",
       "      <td>-0.239336</td>\n",
       "      <td>-0.143331</td>\n",
       "      <td>-0.809146</td>\n",
       "      <td>-0.093073</td>\n",
       "      <td>0.623104</td>\n",
       "      <td>...</td>\n",
       "      <td>None</td>\n",
       "      <td>None</td>\n",
       "      <td>None</td>\n",
       "      <td>None</td>\n",
       "      <td>None</td>\n",
       "      <td>None</td>\n",
       "      <td>None</td>\n",
       "      <td>None</td>\n",
       "      <td>None</td>\n",
       "      <td>None</td>\n",
       "    </tr>\n",
       "    <tr>\n",
       "      <th>1</th>\n",
       "      <td>2019-10-31 19:00:00-04:00</td>\n",
       "      <td>https://www.barrons.com/articles/pinterest-sto...</td>\n",
       "      <td>barrons.com</td>\n",
       "      <td>Pinterest Stock Plunges on Sales Miss</td>\n",
       "      <td>-0.406304</td>\n",
       "      <td>-0.389748</td>\n",
       "      <td>-1.641356</td>\n",
       "      <td>-2.383138</td>\n",
       "      <td>0.327396</td>\n",
       "      <td>-0.572139</td>\n",
       "      <td>...</td>\n",
       "      <td>None</td>\n",
       "      <td>None</td>\n",
       "      <td>None</td>\n",
       "      <td>None</td>\n",
       "      <td>None</td>\n",
       "      <td>None</td>\n",
       "      <td>None</td>\n",
       "      <td>None</td>\n",
       "      <td>None</td>\n",
       "      <td>None</td>\n",
       "    </tr>\n",
       "    <tr>\n",
       "      <th>2</th>\n",
       "      <td>2019-10-31 19:00:00-04:00</td>\n",
       "      <td>https://www.washingtonpost.com/opinions/global...</td>\n",
       "      <td>washingtonpost.com</td>\n",
       "      <td>Baghdadi's death could mean more American with...</td>\n",
       "      <td>0.190461</td>\n",
       "      <td>-0.532758</td>\n",
       "      <td>0.597286</td>\n",
       "      <td>0.067132</td>\n",
       "      <td>0.102196</td>\n",
       "      <td>-0.366881</td>\n",
       "      <td>...</td>\n",
       "      <td>None</td>\n",
       "      <td>None</td>\n",
       "      <td>None</td>\n",
       "      <td>None</td>\n",
       "      <td>None</td>\n",
       "      <td>None</td>\n",
       "      <td>None</td>\n",
       "      <td>None</td>\n",
       "      <td>None</td>\n",
       "      <td>None</td>\n",
       "    </tr>\n",
       "    <tr>\n",
       "      <th>3</th>\n",
       "      <td>2019-10-31 19:00:00-04:00</td>\n",
       "      <td>https://www.barrons.com/articles/arista-networ...</td>\n",
       "      <td>barrons.com</td>\n",
       "      <td>Arista Networks Stock Plunges as Earnings Outl...</td>\n",
       "      <td>-1.167978</td>\n",
       "      <td>-0.491382</td>\n",
       "      <td>-0.616291</td>\n",
       "      <td>-1.297638</td>\n",
       "      <td>-0.495363</td>\n",
       "      <td>0.646557</td>\n",
       "      <td>...</td>\n",
       "      <td>None</td>\n",
       "      <td>None</td>\n",
       "      <td>None</td>\n",
       "      <td>None</td>\n",
       "      <td>None</td>\n",
       "      <td>None</td>\n",
       "      <td>None</td>\n",
       "      <td>None</td>\n",
       "      <td>None</td>\n",
       "      <td>None</td>\n",
       "    </tr>\n",
       "    <tr>\n",
       "      <th>4</th>\n",
       "      <td>2019-10-31 19:00:00-04:00</td>\n",
       "      <td>https://www.usatoday.com/story/sports/nba/2019...</td>\n",
       "      <td>usatoday.com</td>\n",
       "      <td>Joel Embiid, Karl-Anthony Towns suspended two ...</td>\n",
       "      <td>-0.059949</td>\n",
       "      <td>-0.572616</td>\n",
       "      <td>-1.672334</td>\n",
       "      <td>-0.729370</td>\n",
       "      <td>-0.273279</td>\n",
       "      <td>0.546196</td>\n",
       "      <td>...</td>\n",
       "      <td>None</td>\n",
       "      <td>None</td>\n",
       "      <td>None</td>\n",
       "      <td>None</td>\n",
       "      <td>None</td>\n",
       "      <td>None</td>\n",
       "      <td>None</td>\n",
       "      <td>None</td>\n",
       "      <td>None</td>\n",
       "      <td>None</td>\n",
       "    </tr>\n",
       "  </tbody>\n",
       "</table>\n",
       "<p>5 rows × 155 columns</p>\n",
       "</div>"
      ],
      "text/plain": [
       "                   datetime2  \\\n",
       "0  2019-10-31 19:00:00-04:00   \n",
       "1  2019-10-31 19:00:00-04:00   \n",
       "2  2019-10-31 19:00:00-04:00   \n",
       "3  2019-10-31 19:00:00-04:00   \n",
       "4  2019-10-31 19:00:00-04:00   \n",
       "\n",
       "                                                 url            source_x  \\\n",
       "0  https://www.usatoday.com/story/sports/nfl/reds...        usatoday.com   \n",
       "1  https://www.barrons.com/articles/pinterest-sto...         barrons.com   \n",
       "2  https://www.washingtonpost.com/opinions/global...  washingtonpost.com   \n",
       "3  https://www.barrons.com/articles/arista-networ...         barrons.com   \n",
       "4  https://www.usatoday.com/story/sports/nba/2019...        usatoday.com   \n",
       "\n",
       "                                               title    care_p  fairness_p  \\\n",
       "0  Trent Williams, Redskins OT, says he had cance... -0.748319   -0.239336   \n",
       "1              Pinterest Stock Plunges on Sales Miss -0.406304   -0.389748   \n",
       "2  Baghdadi's death could mean more American with...  0.190461   -0.532758   \n",
       "3  Arista Networks Stock Plunges as Earnings Outl... -1.167978   -0.491382   \n",
       "4  Joel Embiid, Karl-Anthony Towns suspended two ... -0.059949   -0.572616   \n",
       "\n",
       "   loyalty_p  authority_p  sanctity_p  care_sent  ...   124   125   126   127  \\\n",
       "0  -0.143331    -0.809146   -0.093073   0.623104  ...  None  None  None  None   \n",
       "1  -1.641356    -2.383138    0.327396  -0.572139  ...  None  None  None  None   \n",
       "2   0.597286     0.067132    0.102196  -0.366881  ...  None  None  None  None   \n",
       "3  -0.616291    -1.297638   -0.495363   0.646557  ...  None  None  None  None   \n",
       "4  -1.672334    -0.729370   -0.273279   0.546196  ...  None  None  None  None   \n",
       "\n",
       "    128   129   130   131   132   133  \n",
       "0  None  None  None  None  None  None  \n",
       "1  None  None  None  None  None  None  \n",
       "2  None  None  None  None  None  None  \n",
       "3  None  None  None  None  None  None  \n",
       "4  None  None  None  None  None  None  \n",
       "\n",
       "[5 rows x 155 columns]"
      ]
     },
     "execution_count": 151,
     "metadata": {},
     "output_type": "execute_result"
    }
   ],
   "source": [
    "allnews_addtrigrams = pd.concat([processed_news, df], axis=1)\n",
    "print(allnews_addtrigrams.shape)\n",
    "allnews_addtrigrams.head(5)"
   ]
  },
  {
   "cell_type": "markdown",
   "metadata": {},
   "source": [
    "Save consolidated csv (titles, emfdscores, trigrams) to file"
   ]
  },
  {
   "cell_type": "code",
   "execution_count": 153,
   "metadata": {},
   "outputs": [],
   "source": [
    "path = os.getcwd() + '/csv/'\n",
    "allnews_addtrigrams.to_csv(path + 'allnews_UPOSfilter_addtrigrams.csv')"
   ]
  },
  {
   "cell_type": "code",
   "execution_count": 462,
   "metadata": {},
   "outputs": [],
   "source": [
    "#sample = sample.reset_index(drop=True)\n",
    "#sample_addtrigrams = pd.concat([sample, df], axis=1)\n",
    "\n",
    "#path = os.getcwd() + '/csv/'\n",
    "#sample_addtrigrams.to_csv(path + 'sample10_addtrigrams.csv')"
   ]
  },
  {
   "cell_type": "markdown",
   "metadata": {},
   "source": [
    "### Create dictionary & corpus from lemmatized trigrams"
   ]
  },
  {
   "cell_type": "markdown",
   "metadata": {},
   "source": [
    "Create dictionary"
   ]
  },
  {
   "cell_type": "code",
   "execution_count": 154,
   "metadata": {},
   "outputs": [],
   "source": [
    "id2word = corpora.Dictionary(words_trigrams)"
   ]
  },
  {
   "cell_type": "markdown",
   "metadata": {},
   "source": [
    "Plot the frequency of number of document appearances"
   ]
  },
  {
   "cell_type": "code",
   "execution_count": 155,
   "metadata": {},
   "outputs": [
    {
     "data": {
      "text/plain": [
       "<module 'matplotlib.pyplot' from '/usr/local/miniconda3/envs/nlp/lib/python3.8/site-packages/matplotlib/pyplot.py'>"
      ]
     },
     "execution_count": 155,
     "metadata": {},
     "output_type": "execute_result"
    },
    {
     "data": {
      "image/png": "[encoded data removed]",
      "text/plain": [
       "<Figure size 432x288 with 1 Axes>"
      ]
     },
     "metadata": {
      "needs_background": "light"
     },
     "output_type": "display_data"
    }
   ],
   "source": [
    "from collections import Counter\n",
    "\n",
    "# get list of how many documents the word appeared in\n",
    "doc_occurences = sorted(id2word.dfs.values()) \n",
    "\n",
    "# get frequency of each appearance count (e.g., there was 5000 words that appeared in a document once)\n",
    "freq_doc_occur = Counter(doc_occurences).items() \n",
    "\n",
    "# x=number of document appearances, y=how many words have that number of document appearances\n",
    "x, y = zip(*freq_doc_occur) \n",
    "\n",
    "import matplotlib.pyplot as plt\n",
    "\n",
    "plt.plot(x,y,)\n",
    "plt.ylim([0, 200])\n",
    "plt.xlim([0, 700])\n",
    "plt"
   ]
  },
  {
   "cell_type": "markdown",
   "metadata": {},
   "source": [
    "View trigrams and their document occurrence rates"
   ]
  },
  {
   "cell_type": "code",
   "execution_count": 156,
   "metadata": {},
   "outputs": [
    {
     "data": {
      "text/html": [
       "<div>\n",
       "<style scoped>\n",
       "    .dataframe tbody tr th:only-of-type {\n",
       "        vertical-align: middle;\n",
       "    }\n",
       "\n",
       "    .dataframe tbody tr th {\n",
       "        vertical-align: top;\n",
       "    }\n",
       "\n",
       "    .dataframe thead th {\n",
       "        text-align: right;\n",
       "    }\n",
       "</style>\n",
       "<table border=\"1\" class=\"dataframe\">\n",
       "  <thead>\n",
       "    <tr style=\"text-align: right;\">\n",
       "      <th></th>\n",
       "      <th>ID</th>\n",
       "      <th>trigrams</th>\n",
       "      <th>doc_occur</th>\n",
       "    </tr>\n",
       "  </thead>\n",
       "  <tbody>\n",
       "    <tr>\n",
       "      <th>2099</th>\n",
       "      <td>4102</td>\n",
       "      <td>pure</td>\n",
       "      <td>99</td>\n",
       "    </tr>\n",
       "    <tr>\n",
       "      <th>466</th>\n",
       "      <td>1514</td>\n",
       "      <td>agreed</td>\n",
       "      <td>99</td>\n",
       "    </tr>\n",
       "    <tr>\n",
       "      <th>1977</th>\n",
       "      <td>3937</td>\n",
       "      <td>fixed</td>\n",
       "      <td>99</td>\n",
       "    </tr>\n",
       "    <tr>\n",
       "      <th>716</th>\n",
       "      <td>2056</td>\n",
       "      <td>homemade</td>\n",
       "      <td>99</td>\n",
       "    </tr>\n",
       "    <tr>\n",
       "      <th>1551</th>\n",
       "      <td>3376</td>\n",
       "      <td>barely</td>\n",
       "      <td>99</td>\n",
       "    </tr>\n",
       "    <tr>\n",
       "      <th>153</th>\n",
       "      <td>662</td>\n",
       "      <td>sensitive</td>\n",
       "      <td>99</td>\n",
       "    </tr>\n",
       "    <tr>\n",
       "      <th>2073</th>\n",
       "      <td>4067</td>\n",
       "      <td>overtakes</td>\n",
       "      <td>99</td>\n",
       "    </tr>\n",
       "    <tr>\n",
       "      <th>2285</th>\n",
       "      <td>4319</td>\n",
       "      <td>forecasts</td>\n",
       "      <td>99</td>\n",
       "    </tr>\n",
       "    <tr>\n",
       "      <th>1019</th>\n",
       "      <td>2609</td>\n",
       "      <td>writes</td>\n",
       "      <td>99</td>\n",
       "    </tr>\n",
       "    <tr>\n",
       "      <th>3823</th>\n",
       "      <td>6029</td>\n",
       "      <td>challenged</td>\n",
       "      <td>99</td>\n",
       "    </tr>\n",
       "    <tr>\n",
       "      <th>1146</th>\n",
       "      <td>2790</td>\n",
       "      <td>jumped</td>\n",
       "      <td>99</td>\n",
       "    </tr>\n",
       "    <tr>\n",
       "      <th>2195</th>\n",
       "      <td>4212</td>\n",
       "      <td>differently</td>\n",
       "      <td>99</td>\n",
       "    </tr>\n",
       "    <tr>\n",
       "      <th>2185</th>\n",
       "      <td>4201</td>\n",
       "      <td>gloomy</td>\n",
       "      <td>99</td>\n",
       "    </tr>\n",
       "    <tr>\n",
       "      <th>3052</th>\n",
       "      <td>5199</td>\n",
       "      <td>residential</td>\n",
       "      <td>98</td>\n",
       "    </tr>\n",
       "    <tr>\n",
       "      <th>47</th>\n",
       "      <td>245</td>\n",
       "      <td>persists</td>\n",
       "      <td>98</td>\n",
       "    </tr>\n",
       "    <tr>\n",
       "      <th>48</th>\n",
       "      <td>244</td>\n",
       "      <td>kurdish</td>\n",
       "      <td>98</td>\n",
       "    </tr>\n",
       "    <tr>\n",
       "      <th>775</th>\n",
       "      <td>2158</td>\n",
       "      <td>estranged</td>\n",
       "      <td>98</td>\n",
       "    </tr>\n",
       "    <tr>\n",
       "      <th>1132</th>\n",
       "      <td>2775</td>\n",
       "      <td>compare</td>\n",
       "      <td>98</td>\n",
       "    </tr>\n",
       "    <tr>\n",
       "      <th>760</th>\n",
       "      <td>2136</td>\n",
       "      <td>invokes</td>\n",
       "      <td>98</td>\n",
       "    </tr>\n",
       "    <tr>\n",
       "      <th>704</th>\n",
       "      <td>2031</td>\n",
       "      <td>grown</td>\n",
       "      <td>98</td>\n",
       "    </tr>\n",
       "    <tr>\n",
       "      <th>2257</th>\n",
       "      <td>4289</td>\n",
       "      <td>hungarian</td>\n",
       "      <td>98</td>\n",
       "    </tr>\n",
       "    <tr>\n",
       "      <th>1770</th>\n",
       "      <td>3674</td>\n",
       "      <td>veteran</td>\n",
       "      <td>98</td>\n",
       "    </tr>\n",
       "    <tr>\n",
       "      <th>2910</th>\n",
       "      <td>5041</td>\n",
       "      <td>bar</td>\n",
       "      <td>98</td>\n",
       "    </tr>\n",
       "    <tr>\n",
       "      <th>250</th>\n",
       "      <td>1009</td>\n",
       "      <td>gotten</td>\n",
       "      <td>98</td>\n",
       "    </tr>\n",
       "    <tr>\n",
       "      <th>2154</th>\n",
       "      <td>4162</td>\n",
       "      <td>aussie</td>\n",
       "      <td>98</td>\n",
       "    </tr>\n",
       "    <tr>\n",
       "      <th>186</th>\n",
       "      <td>809</td>\n",
       "      <td>collecting</td>\n",
       "      <td>98</td>\n",
       "    </tr>\n",
       "    <tr>\n",
       "      <th>4806</th>\n",
       "      <td>7052</td>\n",
       "      <td>owe</td>\n",
       "      <td>98</td>\n",
       "    </tr>\n",
       "    <tr>\n",
       "      <th>1105</th>\n",
       "      <td>2731</td>\n",
       "      <td>sheds</td>\n",
       "      <td>98</td>\n",
       "    </tr>\n",
       "    <tr>\n",
       "      <th>2673</th>\n",
       "      <td>4761</td>\n",
       "      <td>romantic</td>\n",
       "      <td>98</td>\n",
       "    </tr>\n",
       "    <tr>\n",
       "      <th>2267</th>\n",
       "      <td>4300</td>\n",
       "      <td>dumps</td>\n",
       "      <td>98</td>\n",
       "    </tr>\n",
       "    <tr>\n",
       "      <th>188</th>\n",
       "      <td>814</td>\n",
       "      <td>chosen</td>\n",
       "      <td>98</td>\n",
       "    </tr>\n",
       "    <tr>\n",
       "      <th>5891</th>\n",
       "      <td>8159</td>\n",
       "      <td>eye</td>\n",
       "      <td>98</td>\n",
       "    </tr>\n",
       "    <tr>\n",
       "      <th>2348</th>\n",
       "      <td>4392</td>\n",
       "      <td>evangelical</td>\n",
       "      <td>98</td>\n",
       "    </tr>\n",
       "    <tr>\n",
       "      <th>1728</th>\n",
       "      <td>3616</td>\n",
       "      <td>eligible</td>\n",
       "      <td>98</td>\n",
       "    </tr>\n",
       "    <tr>\n",
       "      <th>1028</th>\n",
       "      <td>2623</td>\n",
       "      <td>intense</td>\n",
       "      <td>98</td>\n",
       "    </tr>\n",
       "    <tr>\n",
       "      <th>3521</th>\n",
       "      <td>5706</td>\n",
       "      <td>phased</td>\n",
       "      <td>97</td>\n",
       "    </tr>\n",
       "    <tr>\n",
       "      <th>3722</th>\n",
       "      <td>5921</td>\n",
       "      <td>shed</td>\n",
       "      <td>97</td>\n",
       "    </tr>\n",
       "    <tr>\n",
       "      <th>4133</th>\n",
       "      <td>6353</td>\n",
       "      <td>likes</td>\n",
       "      <td>97</td>\n",
       "    </tr>\n",
       "    <tr>\n",
       "      <th>1650</th>\n",
       "      <td>3508</td>\n",
       "      <td>useful</td>\n",
       "      <td>97</td>\n",
       "    </tr>\n",
       "    <tr>\n",
       "      <th>1647</th>\n",
       "      <td>3504</td>\n",
       "      <td>listening</td>\n",
       "      <td>97</td>\n",
       "    </tr>\n",
       "    <tr>\n",
       "      <th>3730</th>\n",
       "      <td>5930</td>\n",
       "      <td>dismal</td>\n",
       "      <td>97</td>\n",
       "    </tr>\n",
       "    <tr>\n",
       "      <th>527</th>\n",
       "      <td>1646</td>\n",
       "      <td>stunned</td>\n",
       "      <td>97</td>\n",
       "    </tr>\n",
       "    <tr>\n",
       "      <th>2697</th>\n",
       "      <td>4788</td>\n",
       "      <td>appropriate</td>\n",
       "      <td>97</td>\n",
       "    </tr>\n",
       "    <tr>\n",
       "      <th>4284</th>\n",
       "      <td>6517</td>\n",
       "      <td>allege</td>\n",
       "      <td>97</td>\n",
       "    </tr>\n",
       "    <tr>\n",
       "      <th>2362</th>\n",
       "      <td>4407</td>\n",
       "      <td>perfectly</td>\n",
       "      <td>97</td>\n",
       "    </tr>\n",
       "    <tr>\n",
       "      <th>1455</th>\n",
       "      <td>3241</td>\n",
       "      <td>prompting</td>\n",
       "      <td>97</td>\n",
       "    </tr>\n",
       "    <tr>\n",
       "      <th>218</th>\n",
       "      <td>903</td>\n",
       "      <td>fueling</td>\n",
       "      <td>97</td>\n",
       "    </tr>\n",
       "    <tr>\n",
       "      <th>2190</th>\n",
       "      <td>4205</td>\n",
       "      <td>entered</td>\n",
       "      <td>96</td>\n",
       "    </tr>\n",
       "    <tr>\n",
       "      <th>5762</th>\n",
       "      <td>8027</td>\n",
       "      <td>bashes</td>\n",
       "      <td>96</td>\n",
       "    </tr>\n",
       "    <tr>\n",
       "      <th>909</th>\n",
       "      <td>2412</td>\n",
       "      <td>handed</td>\n",
       "      <td>96</td>\n",
       "    </tr>\n",
       "  </tbody>\n",
       "</table>\n",
       "</div>"
      ],
      "text/plain": [
       "        ID     trigrams  doc_occur\n",
       "2099  4102         pure         99\n",
       "466   1514       agreed         99\n",
       "1977  3937        fixed         99\n",
       "716   2056     homemade         99\n",
       "1551  3376       barely         99\n",
       "153    662    sensitive         99\n",
       "2073  4067    overtakes         99\n",
       "2285  4319    forecasts         99\n",
       "1019  2609       writes         99\n",
       "3823  6029   challenged         99\n",
       "1146  2790       jumped         99\n",
       "2195  4212  differently         99\n",
       "2185  4201       gloomy         99\n",
       "3052  5199  residential         98\n",
       "47     245     persists         98\n",
       "48     244      kurdish         98\n",
       "775   2158    estranged         98\n",
       "1132  2775      compare         98\n",
       "760   2136      invokes         98\n",
       "704   2031        grown         98\n",
       "2257  4289    hungarian         98\n",
       "1770  3674      veteran         98\n",
       "2910  5041          bar         98\n",
       "250   1009       gotten         98\n",
       "2154  4162       aussie         98\n",
       "186    809   collecting         98\n",
       "4806  7052          owe         98\n",
       "1105  2731        sheds         98\n",
       "2673  4761     romantic         98\n",
       "2267  4300        dumps         98\n",
       "188    814       chosen         98\n",
       "5891  8159          eye         98\n",
       "2348  4392  evangelical         98\n",
       "1728  3616     eligible         98\n",
       "1028  2623      intense         98\n",
       "3521  5706       phased         97\n",
       "3722  5921         shed         97\n",
       "4133  6353        likes         97\n",
       "1650  3508       useful         97\n",
       "1647  3504    listening         97\n",
       "3730  5930       dismal         97\n",
       "527   1646      stunned         97\n",
       "2697  4788  appropriate         97\n",
       "4284  6517       allege         97\n",
       "2362  4407    perfectly         97\n",
       "1455  3241    prompting         97\n",
       "218    903      fueling         97\n",
       "2190  4205      entered         96\n",
       "5762  8027       bashes         96\n",
       "909   2412       handed         96"
      ]
     },
     "execution_count": 156,
     "metadata": {},
     "output_type": "execute_result"
    }
   ],
   "source": [
    "ls=[]\n",
    "for key, value in id2word.dfs.items():\n",
    "    if value < 100 :\n",
    "        ls.append([key,id2word[key], value])\n",
    "\n",
    "pd.DataFrame(ls, columns=['ID','trigrams','doc_occur']).sort_values(by='doc_occur', ascending=False).head(50)"
   ]
  },
  {
   "cell_type": "markdown",
   "metadata": {},
   "source": [
    "Filter trigrams from dictionary"
   ]
  },
  {
   "cell_type": "code",
   "execution_count": 158,
   "metadata": {},
   "outputs": [
    {
     "name": "stdout",
     "output_type": "stream",
     "text": [
      "Number of unique tokens in dictionary: 17043\n",
      "Number of unique tokens after filtering: 17043\n"
     ]
    }
   ],
   "source": [
    "path = os.getcwd() + '/tmp_sample/'\n",
    "\n",
    "# Create Dictionary\n",
    "id2word = corpora.Dictionary(words_trigrams)\n",
    "print('Number of unique tokens in dictionary: %d' % len(id2word))\n",
    "\n",
    "# Filter out words that occur in less than 100 documents\n",
    "#id2word.filter_extremes(no_below=100)\n",
    "print('Number of unique tokens after filtering: %d' % len(id2word))\n",
    "\n",
    "# Filter out specific words\n",
    "#id2word.filter_tokens(bad_ids= \n",
    "#                      (\n",
    "#                          id2word.token2id['coronavirus'], \n",
    "#                          id2word.token2id['covid'],\n",
    "#                          id2word.token2id['pandemic'],\n",
    "                          #id2word.token2id['update'],\n",
    "                          #id2word.token2id['cases'],\n",
    "                          #id2word.token2id['virus'],\n",
    "                          #id2word.token2id['china'],\n",
    "                          #id2word.token2id['trump'],\n",
    "                          #id2word.token2id['says'],\n",
    "                          #id2word.token2id['new'],\n",
    "#                      ))\n",
    "#print('Number of unique tokens after filtering: %d' % len(id2word))\n",
    "\n",
    "# Save to tmp folder\n",
    "id2word.save(path + 'allnews_UPOSfilter_dict.dict') "
   ]
  },
  {
   "cell_type": "markdown",
   "metadata": {},
   "source": [
    "Create corpus"
   ]
  },
  {
   "cell_type": "code",
   "execution_count": 159,
   "metadata": {},
   "outputs": [
    {
     "name": "stdout",
     "output_type": "stream",
     "text": [
      "Elapsed: 3.9705405235290527 seconds\n"
     ]
    }
   ],
   "source": [
    "start = time.time()\n",
    "path = os.getcwd() + '/tmp_sample/'\n",
    "\n",
    "# Create Corpus\n",
    "texts = words_trigrams\n",
    "\n",
    "# Bag-of-words representation of the documents.\n",
    "corpus = [id2word.doc2bow(text) for text in texts]\n",
    "corpora.MmCorpus.serialize(path + 'allnews_UPOSfilter_corpus.mm', corpus) # Save to tmp folder\n",
    "\n",
    "end = time.time()\n",
    "print(\"Elapsed:\", end - start, 'seconds')"
   ]
  },
  {
   "cell_type": "code",
   "execution_count": 160,
   "metadata": {},
   "outputs": [
    {
     "name": "stdout",
     "output_type": "stream",
     "text": [
      "Number of unique tokens in dictionary: 17043\n",
      "Number of documents in corpus: 699176\n"
     ]
    }
   ],
   "source": [
    "print('Number of unique tokens in dictionary: %d' % len(id2word))\n",
    "print('Number of documents in corpus: %d' % len(corpus))"
   ]
  },
  {
   "cell_type": "code",
   "execution_count": null,
   "metadata": {},
   "outputs": [],
   "source": []
  }
 ],
 "metadata": {
  "kernelspec": {
   "display_name": "Python 3",
   "language": "python",
   "name": "python3"
  },
  "language_info": {
   "codemirror_mode": {
    "name": "ipython",
    "version": 3
   },
   "file_extension": ".py",
   "mimetype": "text/x-python",
   "name": "python",
   "nbconvert_exporter": "python",
   "pygments_lexer": "ipython3",
   "version": "3.8.6"
  },
  "toc-autonumbering": false,
  "toc-showcode": true
 },
 "nbformat": 4,
 "nbformat_minor": 4
}
