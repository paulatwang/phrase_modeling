{
 "cells": [
  {
   "cell_type": "markdown",
   "metadata": {},
   "source": [
    "# Phrase Modelling Part II - Building the Models"
   ]
  },
  {
   "cell_type": "code",
   "execution_count": 1,
   "metadata": {},
   "outputs": [],
   "source": [
    "import os\n",
    "from gensim import corpora, models, utils\n",
    "\n",
    "import time\n",
    "\n",
    "import warnings\n",
    "warnings.filterwarnings(\"ignore\",category=DeprecationWarning)"
   ]
  },
  {
   "cell_type": "code",
   "execution_count": null,
   "metadata": {},
   "outputs": [],
   "source": []
  },
  {
   "cell_type": "markdown",
   "metadata": {},
   "source": [
    "## Load data"
   ]
  },
  {
   "cell_type": "markdown",
   "metadata": {},
   "source": [
    "Load dictionary and corpus"
   ]
  },
  {
   "cell_type": "code",
   "execution_count": 2,
   "metadata": {},
   "outputs": [],
   "source": [
    "path = os.getcwd() + '/tmp_sample/'\n",
    "\n",
    "allnews_dict = corpora.Dictionary.load(path + 'allnews_dict.dict')\n",
    "allnews_corpus = corpora.MmCorpus(path + 'allnews_corpus.mm')"
   ]
  },
  {
   "cell_type": "code",
   "execution_count": 16,
   "metadata": {},
   "outputs": [
    {
     "name": "stderr",
     "output_type": "stream",
     "text": [
      "/usr/local/miniconda3/envs/nlp/lib/python3.8/site-packages/ipykernel/ipkernel.py:283: DeprecationWarning: `should_run_async` will not call `transform_cell` automatically in the future. Please pass the result to `transformed_cell` argument and any exception that happen during thetransform in `preprocessing_exc_tuple` in IPython 7.17 and above.\n",
      "  and should_run_async(code)\n"
     ]
    }
   ],
   "source": [
    "path = os.getcwd() + '/tmp_sample/'\n",
    "\n",
    "allnews_UPOSfilter_dict = corpora.Dictionary.load(path + 'allnews_UPOSfilter_dict.dict')\n",
    "allnews_UPOSfilter_corpus = corpora.MmCorpus(path + 'allnews_UPOSfilter_corpus.mm')"
   ]
  },
  {
   "cell_type": "markdown",
   "metadata": {},
   "source": [
    "## Build models\n"
   ]
  },
  {
   "cell_type": "code",
   "execution_count": 3,
   "metadata": {},
   "outputs": [
    {
     "name": "stdout",
     "output_type": "stream",
     "text": [
      "Elapsed: 500.42062497138977 seconds\n"
     ]
    }
   ],
   "source": [
    "start = time.time()\n",
    "\n",
    "# Build LDA model\n",
    "allnews_model = models.ldamodel.LdaModel(corpus=allnews_corpus,\n",
    "                                     id2word=allnews_dict,\n",
    "                                     num_topics=4, \n",
    "                                     random_state=100,\n",
    "                                     chunksize=100,\n",
    "                                     passes=10,\n",
    "                                     alpha='auto',\n",
    "                                     per_word_topics=True,\n",
    "                                     eval_every = None)\n",
    "\n",
    "end = time.time()\n",
    "print(\"Elapsed:\", end - start, 'seconds')"
   ]
  },
  {
   "cell_type": "markdown",
   "metadata": {},
   "source": [
    "Save model to file"
   ]
  },
  {
   "cell_type": "code",
   "execution_count": 4,
   "metadata": {},
   "outputs": [],
   "source": [
    "path = os.getcwd() + '/tmp_sample/'\n",
    "\n",
    "allnews_model.save(path + 'allnews_lda_model')"
   ]
  },
  {
   "cell_type": "code",
   "execution_count": null,
   "metadata": {},
   "outputs": [],
   "source": []
  },
  {
   "cell_type": "code",
   "execution_count": 10,
   "metadata": {},
   "outputs": [
    {
     "name": "stderr",
     "output_type": "stream",
     "text": [
      "/usr/local/miniconda3/envs/nlp/lib/python3.8/site-packages/ipykernel/ipkernel.py:283: DeprecationWarning: `should_run_async` will not call `transform_cell` automatically in the future. Please pass the result to `transformed_cell` argument and any exception that happen during thetransform in `preprocessing_exc_tuple` in IPython 7.17 and above.\n",
      "  and should_run_async(code)\n"
     ]
    },
    {
     "name": "stdout",
     "output_type": "stream",
     "text": [
      "Elapsed: 656.1959517002106 seconds\n"
     ]
    }
   ],
   "source": [
    "start = time.time()\n",
    "\n",
    "# Build LDA model\n",
    "allnews_model_10 = models.ldamodel.LdaModel(corpus=allnews_corpus,\n",
    "                                     id2word=allnews_dict,\n",
    "                                     num_topics=10, \n",
    "                                     random_state=100,\n",
    "                                     chunksize=100,\n",
    "                                     passes=10,\n",
    "                                     alpha='auto',\n",
    "                                     per_word_topics=True,\n",
    "                                     eval_every = None)\n",
    "\n",
    "end = time.time()\n",
    "print(\"Elapsed:\", end - start, 'seconds')"
   ]
  },
  {
   "cell_type": "code",
   "execution_count": 13,
   "metadata": {},
   "outputs": [
    {
     "name": "stderr",
     "output_type": "stream",
     "text": [
      "/usr/local/miniconda3/envs/nlp/lib/python3.8/site-packages/ipykernel/ipkernel.py:283: DeprecationWarning: `should_run_async` will not call `transform_cell` automatically in the future. Please pass the result to `transformed_cell` argument and any exception that happen during thetransform in `preprocessing_exc_tuple` in IPython 7.17 and above.\n",
      "  and should_run_async(code)\n"
     ]
    }
   ],
   "source": [
    "path = os.getcwd() + '/tmp_sample/'\n",
    "\n",
    "allnews_model_10.save(path + 'allnews_lda_model_10')"
   ]
  },
  {
   "cell_type": "code",
   "execution_count": null,
   "metadata": {},
   "outputs": [],
   "source": []
  },
  {
   "cell_type": "code",
   "execution_count": 17,
   "metadata": {},
   "outputs": [
    {
     "name": "stderr",
     "output_type": "stream",
     "text": [
      "/usr/local/miniconda3/envs/nlp/lib/python3.8/site-packages/ipykernel/ipkernel.py:283: DeprecationWarning: `should_run_async` will not call `transform_cell` automatically in the future. Please pass the result to `transformed_cell` argument and any exception that happen during thetransform in `preprocessing_exc_tuple` in IPython 7.17 and above.\n",
      "  and should_run_async(code)\n"
     ]
    },
    {
     "name": "stdout",
     "output_type": "stream",
     "text": [
      "Elapsed: 1133.1565628051758 seconds\n"
     ]
    }
   ],
   "source": [
    "start = time.time()\n",
    "\n",
    "# Build LDA model\n",
    "allnews_UPOSfilter_model = models.ldamodel.LdaModel(corpus=allnews_UPOSfilter_corpus,\n",
    "                                     id2word=allnews_UPOSfilter_dict,\n",
    "                                     num_topics=10, \n",
    "                                     random_state=100,\n",
    "                                     chunksize=100,\n",
    "                                     passes=10,\n",
    "                                     alpha='auto',\n",
    "                                     per_word_topics=True,\n",
    "                                     eval_every = None)\n",
    "\n",
    "end = time.time()\n",
    "print(\"Elapsed:\", end - start, 'seconds')"
   ]
  },
  {
   "cell_type": "code",
   "execution_count": 18,
   "metadata": {},
   "outputs": [
    {
     "name": "stderr",
     "output_type": "stream",
     "text": [
      "/usr/local/miniconda3/envs/nlp/lib/python3.8/site-packages/ipykernel/ipkernel.py:283: DeprecationWarning: `should_run_async` will not call `transform_cell` automatically in the future. Please pass the result to `transformed_cell` argument and any exception that happen during thetransform in `preprocessing_exc_tuple` in IPython 7.17 and above.\n",
      "  and should_run_async(code)\n"
     ]
    }
   ],
   "source": [
    "path = os.getcwd() + '/tmp_sample/'\n",
    "\n",
    "allnews_UPOSfilter_model.save(path + 'allnews_UPOSfilter_lda_model_10')"
   ]
  },
  {
   "cell_type": "code",
   "execution_count": null,
   "metadata": {},
   "outputs": [],
   "source": []
  },
  {
   "cell_type": "code",
   "execution_count": null,
   "metadata": {},
   "outputs": [],
   "source": []
  },
  {
   "cell_type": "code",
   "execution_count": null,
   "metadata": {},
   "outputs": [],
   "source": []
  },
  {
   "cell_type": "code",
   "execution_count": null,
   "metadata": {},
   "outputs": [],
   "source": []
  },
  {
   "cell_type": "code",
   "execution_count": null,
   "metadata": {},
   "outputs": [],
   "source": []
  },
  {
   "cell_type": "code",
   "execution_count": null,
   "metadata": {},
   "outputs": [],
   "source": []
  },
  {
   "cell_type": "markdown",
   "metadata": {},
   "source": [
    "Quick visualization"
   ]
  },
  {
   "cell_type": "code",
   "execution_count": 5,
   "metadata": {},
   "outputs": [],
   "source": [
    "import warnings\n",
    "warnings.filterwarnings(\"ignore\",category=DeprecationWarning)"
   ]
  },
  {
   "cell_type": "code",
   "execution_count": 6,
   "metadata": {},
   "outputs": [
    {
     "name": "stderr",
     "output_type": "stream",
     "text": [
      "/usr/local/miniconda3/envs/nlp/lib/python3.8/site-packages/sklearn/linear_model/_least_angle.py:34: DeprecationWarning: `np.float` is a deprecated alias for the builtin `float`. To silence this warning, use `float` by itself. Doing this will not modify any behavior and is safe. If you specifically wanted the numpy scalar type, use `np.float64` here.\n",
      "Deprecated in NumPy 1.20; for more details and guidance: https://numpy.org/devdocs/release/1.20.0-notes.html#deprecations\n",
      "  method='lar', copy_X=True, eps=np.finfo(np.float).eps,\n",
      "/usr/local/miniconda3/envs/nlp/lib/python3.8/site-packages/sklearn/linear_model/_least_angle.py:164: DeprecationWarning: `np.float` is a deprecated alias for the builtin `float`. To silence this warning, use `float` by itself. Doing this will not modify any behavior and is safe. If you specifically wanted the numpy scalar type, use `np.float64` here.\n",
      "Deprecated in NumPy 1.20; for more details and guidance: https://numpy.org/devdocs/release/1.20.0-notes.html#deprecations\n",
      "  method='lar', copy_X=True, eps=np.finfo(np.float).eps,\n",
      "/usr/local/miniconda3/envs/nlp/lib/python3.8/site-packages/sklearn/linear_model/_least_angle.py:281: DeprecationWarning: `np.float` is a deprecated alias for the builtin `float`. To silence this warning, use `float` by itself. Doing this will not modify any behavior and is safe. If you specifically wanted the numpy scalar type, use `np.float64` here.\n",
      "Deprecated in NumPy 1.20; for more details and guidance: https://numpy.org/devdocs/release/1.20.0-notes.html#deprecations\n",
      "  eps=np.finfo(np.float).eps, copy_Gram=True, verbose=0,\n",
      "/usr/local/miniconda3/envs/nlp/lib/python3.8/site-packages/sklearn/linear_model/_least_angle.py:865: DeprecationWarning: `np.float` is a deprecated alias for the builtin `float`. To silence this warning, use `float` by itself. Doing this will not modify any behavior and is safe. If you specifically wanted the numpy scalar type, use `np.float64` here.\n",
      "Deprecated in NumPy 1.20; for more details and guidance: https://numpy.org/devdocs/release/1.20.0-notes.html#deprecations\n",
      "  eps=np.finfo(np.float).eps, copy_X=True, fit_path=True,\n",
      "/usr/local/miniconda3/envs/nlp/lib/python3.8/site-packages/sklearn/linear_model/_least_angle.py:1121: DeprecationWarning: `np.float` is a deprecated alias for the builtin `float`. To silence this warning, use `float` by itself. Doing this will not modify any behavior and is safe. If you specifically wanted the numpy scalar type, use `np.float64` here.\n",
      "Deprecated in NumPy 1.20; for more details and guidance: https://numpy.org/devdocs/release/1.20.0-notes.html#deprecations\n",
      "  eps=np.finfo(np.float).eps, copy_X=True, fit_path=True,\n",
      "/usr/local/miniconda3/envs/nlp/lib/python3.8/site-packages/sklearn/linear_model/_least_angle.py:1149: DeprecationWarning: `np.float` is a deprecated alias for the builtin `float`. To silence this warning, use `float` by itself. Doing this will not modify any behavior and is safe. If you specifically wanted the numpy scalar type, use `np.float64` here.\n",
      "Deprecated in NumPy 1.20; for more details and guidance: https://numpy.org/devdocs/release/1.20.0-notes.html#deprecations\n",
      "  eps=np.finfo(np.float).eps, positive=False):\n",
      "/usr/local/miniconda3/envs/nlp/lib/python3.8/site-packages/sklearn/linear_model/_least_angle.py:1379: DeprecationWarning: `np.float` is a deprecated alias for the builtin `float`. To silence this warning, use `float` by itself. Doing this will not modify any behavior and is safe. If you specifically wanted the numpy scalar type, use `np.float64` here.\n",
      "Deprecated in NumPy 1.20; for more details and guidance: https://numpy.org/devdocs/release/1.20.0-notes.html#deprecations\n",
      "  max_n_alphas=1000, n_jobs=None, eps=np.finfo(np.float).eps,\n",
      "/usr/local/miniconda3/envs/nlp/lib/python3.8/site-packages/sklearn/linear_model/_least_angle.py:1621: DeprecationWarning: `np.float` is a deprecated alias for the builtin `float`. To silence this warning, use `float` by itself. Doing this will not modify any behavior and is safe. If you specifically wanted the numpy scalar type, use `np.float64` here.\n",
      "Deprecated in NumPy 1.20; for more details and guidance: https://numpy.org/devdocs/release/1.20.0-notes.html#deprecations\n",
      "  max_n_alphas=1000, n_jobs=None, eps=np.finfo(np.float).eps,\n",
      "/usr/local/miniconda3/envs/nlp/lib/python3.8/site-packages/sklearn/linear_model/_least_angle.py:1755: DeprecationWarning: `np.float` is a deprecated alias for the builtin `float`. To silence this warning, use `float` by itself. Doing this will not modify any behavior and is safe. If you specifically wanted the numpy scalar type, use `np.float64` here.\n",
      "Deprecated in NumPy 1.20; for more details and guidance: https://numpy.org/devdocs/release/1.20.0-notes.html#deprecations\n",
      "  eps=np.finfo(np.float).eps, copy_X=True, positive=False):\n",
      "/usr/local/miniconda3/envs/nlp/lib/python3.8/site-packages/sklearn/decomposition/_lda.py:28: DeprecationWarning: `np.float` is a deprecated alias for the builtin `float`. To silence this warning, use `float` by itself. Doing this will not modify any behavior and is safe. If you specifically wanted the numpy scalar type, use `np.float64` here.\n",
      "Deprecated in NumPy 1.20; for more details and guidance: https://numpy.org/devdocs/release/1.20.0-notes.html#deprecations\n",
      "  EPS = np.finfo(np.float).eps\n"
     ]
    }
   ],
   "source": [
    "import pyLDAvis\n",
    "import pyLDAvis.gensim_models"
   ]
  },
  {
   "cell_type": "code",
   "execution_count": 19,
   "metadata": {},
   "outputs": [
    {
     "name": "stderr",
     "output_type": "stream",
     "text": [
      "/usr/local/miniconda3/envs/nlp/lib/python3.8/site-packages/ipykernel/ipkernel.py:283: DeprecationWarning: `should_run_async` will not call `transform_cell` automatically in the future. Please pass the result to `transformed_cell` argument and any exception that happen during thetransform in `preprocessing_exc_tuple` in IPython 7.17 and above.\n",
      "  and should_run_async(code)\n"
     ]
    }
   ],
   "source": [
    "pyLDAvis.enable_notebook()\n",
    "vis = pyLDAvis.gensim_models.prepare(allnews_UPOSfilter_model, allnews_UPOSfilter_corpus, allnews_UPOSfilter_dict)"
   ]
  },
  {
   "cell_type": "code",
   "execution_count": 20,
   "metadata": {},
   "outputs": [
    {
     "name": "stderr",
     "output_type": "stream",
     "text": [
      "/usr/local/miniconda3/envs/nlp/lib/python3.8/site-packages/ipykernel/ipkernel.py:283: DeprecationWarning: `should_run_async` will not call `transform_cell` automatically in the future. Please pass the result to `transformed_cell` argument and any exception that happen during thetransform in `preprocessing_exc_tuple` in IPython 7.17 and above.\n",
      "  and should_run_async(code)\n"
     ]
    },
    {
     "data": {
      "text/html": [
       "\n",
       "<link rel=\"stylesheet\" type=\"text/css\" href=\"https://cdn.jsdelivr.net/gh/bmabey/pyLDAvis@3.3.1/pyLDAvis/js/ldavis.v1.0.0.css\">\n",
       "\n",
       "\n",
       "<div id=\"ldavis_el16575921405281907912327486908524\"></div>\n",
       "<script type=\"text/javascript\">\n",
       "\n",
       "var ldavis_el16575921405281907912327486908524_data = {\"mdsDat\": {\"x\": [-0.16053130383984193, -0.1456899607475424, -0.18494113269066143, -0.1969660498822778, 0.18853080532613756, 0.11481843542868905, -0.024926082550100474, 0.057588804465145346, 0.1962021148257332, 0.15591436966471925], \"y\": [-0.06367291210600051, -0.022262547198190676, 0.06051185425469952, 0.06684218678672023, 0.3994663384558645, -0.11026597060115015, -0.028497248171449194, -0.00887704620176172, -0.15481997835804048, -0.13842467686069096], \"topics\": [1, 2, 3, 4, 5, 6, 7, 8, 9, 10], \"cluster\": [1, 1, 1, 1, 1, 1, 1, 1, 1, 1], \"Freq\": [17.037814434777037, 15.579184270813567, 13.77439059647819, 12.54581223044213, 8.297507222560894, 7.926037628288094, 7.267785602339101, 7.126132082025243, 5.508891070151015, 4.936444862124727]}, \"tinfo\": {\"Term\": [\"says\", \"new\", \"black\", \"best\", \"russian\", \"global\", \"pandemic\", \"set\", \"chinese\", \"high\", \"european\", \"need\", \"close\", \"warns\", \"american\", \"know\", \"hit\", \"safe\", \"second\", \"higher\", \"calls\", \"economic\", \"sees\", \"federal\", \"right\", \"dead\", \"major\", \"dies\", \"rise\", \"social\", \"says\", \"warns\", \"national\", \"biggest\", \"low\", \"wear\", \"seeks\", \"makes\", \"small\", \"faces\", \"racist\", \"exclusive\", \"human\", \"linked\", \"hits\", \"suspends\", \"pushes\", \"bad\", \"coming\", \"protect\", \"drop\", \"key\", \"confirms\", \"legal\", \"join\", \"facing\", \"special\", \"support\", \"military\", \"return\", \"new\", \"watch\", \"old\", \"found\", \"urges\", \"wants\", \"live\", \"announces\", \"remove\", \"launches\", \"arrested\", \"change\", \"british\", \"possible\", \"virtual\", \"israeli\", \"agrees\", \"stay\", \"including\", \"returning\", \"missing\", \"reportedly\", \"hard\", \"removes\", \"working\", \"find\", \"accused\", \"closed\", \"massive\", \"reach\", \"second\", \"social\", \"killed\", \"help\", \"want\", \"bans\", \"shows\", \"stop\", \"record\", \"primary\", \"end\", \"wins\", \"daily\", \"extends\", \"boost\", \"soon\", \"grow\", \"plans\", \"reports\", \"green\", \"fight\", \"tells\", \"private\", \"continue\", \"gives\", \"push\", \"political\", \"asks\", \"foreign\", \"reopens\", \"global\", \"hit\", \"economic\", \"sees\", \"dead\", \"cut\", \"online\", \"german\", \"open\", \"strong\", \"french\", \"pay\", \"extend\", \"raises\", \"unveils\", \"fed\", \"seen\", \"early\", \"fall\", \"australian\", \"finds\", \"mexican\", \"seek\", \"loses\", \"th\", \"save\", \"come\", \"avoid\", \"goes\", \"approves\", \"agricultural\", \"black\", \"need\", \"right\", \"rise\", \"buy\", \"takes\", \"rising\", \"white\", \"vote\", \"far\", \"reopen\", \"away\", \"threatens\", \"ready\", \"win\", \"expects\", \"religious\", \"spanish\", \"little\", \"backs\", \"criminal\", \"allow\", \"growing\", \"attack\", \"keeps\", \"discuss\", \"claims\", \"official\", \"hot\", \"pulls\", \"set\", \"american\", \"calls\", \"big\", \"gets\", \"public\", \"face\", \"real\", \"likely\", \"nuclear\", \"lower\", \"racial\", \"good\", \"reveals\", \"golden\", \"posts\", \"pakistani\", \"wrong\", \"upbeat\", \"slow\", \"getting\", \"trying\", \"launch\", \"post\", \"talks\", \"bring\", \"held\", \"let\", \"needed\", \"weekly\", \"close\", \"federal\", \"major\", \"dies\", \"financial\", \"local\", \"long\", \"better\", \"use\", \"corporate\", \"cuts\", \"young\", \"looking\", \"paid\", \"making\", \"expected\", \"digital\", \"great\", \"indian\", \"leaves\", \"lose\", \"true\", \"late\", \"think\", \"replace\", \"releases\", \"gay\", \"critical\", \"supports\", \"ongoing\", \"high\", \"know\", \"safe\", \"higher\", \"central\", \"charged\", \"free\", \"kill\", \"executive\", \"positive\", \"african\", \"cancels\", \"urge\", \"joins\", \"moves\", \"turn\", \"ahead\", \"following\", \"lead\", \"asian\", \"meet\", \"looks\", \"migrant\", \"offers\", \"senior\", \"banned\", \"work\", \"fresh\", \"slip\", \"faster\", \"pandemic\", \"chinese\", \"european\", \"led\", \"nearly\", \"going\", \"leads\", \"worst\", \"italian\", \"needs\", \"remain\", \"rejects\", \"denies\", \"sets\", \"presidential\", \"drops\", \"reported\", \"clean\", \"holds\", \"rises\", \"puts\", \"weak\", \"canadian\", \"draws\", \"protest\", \"past\", \"slips\", \"flying\", \"considers\", \"red\", \"best\", \"russian\", \"latest\", \"passes\", \"build\", \"based\", \"start\", \"begins\", \"leave\", \"kills\", \"sells\", \"libyan\", \"turkish\", \"historic\", \"double\", \"backed\", \"adds\", \"demands\", \"female\", \"single\", \"spreading\", \"final\", \"curb\", \"grows\", \"closes\", \"fake\", \"called\", \"cancel\", \"captures\", \"smart\"], \"Freq\": [38975.0, 25702.0, 11622.0, 6973.0, 6023.0, 8722.0, 5255.0, 5796.0, 4961.0, 5045.0, 4507.0, 5119.0, 4817.0, 7075.0, 4697.0, 4419.0, 5589.0, 4376.0, 5647.0, 4199.0, 4338.0, 5249.0, 5080.0, 4004.0, 3990.0, 4782.0, 3758.0, 3678.0, 3766.0, 4721.0, 38974.27980272078, 7074.752849925045, 4381.067902022211, 3263.582033810438, 3004.6565040165024, 2858.9465831534762, 2766.4932096491766, 2720.7597065721156, 2490.816975383971, 2482.173846053617, 2455.8510501148057, 2348.6288187781606, 2306.038023313813, 2286.1769586117525, 2183.776309569301, 2137.475132719343, 2120.504830528542, 2056.2964164043465, 1982.3769537494206, 1924.3669358373102, 1859.268854811009, 1847.9911223424388, 1824.5774266912579, 1815.480978417058, 1780.9490092222775, 1711.8427003183674, 1691.4132784480178, 1604.2313892047935, 1589.5206199808306, 1495.1864284564988, 25701.799377872725, 4096.119872519488, 3323.231958626505, 3197.770078785998, 3038.367978026232, 2835.6319083692956, 2829.838562488999, 2592.278053983711, 2356.2693531513887, 2231.4465264572796, 2223.7935109254063, 2165.1037281411554, 2064.4326528393644, 2049.632156973241, 2001.46238043371, 1938.350674818667, 1932.4183952849648, 1926.8058506207933, 1913.1578583593032, 1895.7238719684394, 1778.5448957675978, 1680.6593673128646, 1654.4598546812263, 1605.6060329875986, 1586.7336562765106, 1522.894475722161, 1455.2955463762619, 1356.5099694712083, 1341.925789345806, 1326.1331780506432, 5646.218533135022, 4720.91804647481, 4022.312565710707, 3802.2210135758337, 3694.969034740602, 3404.4793173322023, 3000.8483628228187, 2808.3577593491586, 2738.0980868586653, 2663.129107247228, 2575.4259740681687, 2511.8809915635825, 2409.038866039172, 2217.677015580422, 2197.811220350313, 2153.463694898138, 2109.6935296518272, 2103.438886171263, 2042.0773749906734, 1839.066844984513, 1781.0181106406342, 1739.0345391286428, 1738.5262411483602, 1716.2178531238717, 1679.8743633677332, 1598.6791018297045, 1567.3366380353677, 1490.595982130337, 1463.8677958345436, 1391.4589989669103, 8721.478688797366, 5588.674316358693, 5248.75799940056, 5079.083320903087, 4781.988919649648, 4222.183722815497, 3372.4513038128252, 3332.1132766095693, 3148.078743517883, 2838.579660845053, 2554.5025261546602, 2333.6925879479168, 2332.8674766878835, 2225.619786846959, 2064.507545710669, 2029.671043025928, 2024.5486100804314, 1963.979673350573, 1949.0634263901209, 1669.8176963800981, 1652.474760133429, 1592.42850010336, 1530.0105693870514, 1506.8239197683472, 1493.7281510565517, 1486.3252977857546, 1453.639384949537, 1439.1827445864608, 1391.021844068675, 1365.9193562193402, 4614.477075993986, 11621.1159001877, 5119.048503409961, 3989.082531504089, 3765.676525142785, 3689.696126537205, 2728.4840217604983, 2712.5436295859968, 2603.9637832925614, 2600.5486347554747, 2588.6508625358665, 2215.8527423452806, 1984.9973988618253, 1814.3647784687707, 1649.6550844415724, 1506.803383879051, 1466.7390675983058, 1382.9496673839183, 1319.5953560364724, 1314.417829326953, 1312.7262302854542, 1294.9035347966092, 1191.8152837388263, 1168.7190992391177, 1146.425891776553, 1131.1692171317443, 1047.434620821246, 1040.031101537771, 1004.6886851785445, 987.6876044917285, 984.8668675275924, 5795.190315498731, 4696.726367908065, 4337.968455493678, 3632.976880505922, 3584.0269271064435, 3487.478169240277, 3381.722947477236, 2764.108425427396, 2691.8612733077102, 2299.512844671952, 2241.994805506668, 2168.2256768401003, 1978.6960420700586, 1589.973037445258, 1557.3064951489844, 1408.6847753304492, 1331.9480997176115, 1221.7864368742269, 1219.7401085689569, 1198.0353580850676, 1141.8613676973985, 1108.8863395545873, 1077.2047053509696, 1053.6166122134675, 1035.3173928750036, 1034.3941607571626, 981.8863937795982, 964.174579816386, 948.1842885522475, 924.290040962445, 4816.536313380038, 4003.958098696917, 3758.0682773622298, 3677.3576093127153, 3386.5687134789205, 2842.3102287321403, 2331.7893085219835, 2167.5459170154245, 2061.5195404368133, 1892.46285464761, 1847.429683445025, 1809.0000946880323, 1754.885855857348, 1640.9479681166183, 1590.1292043596532, 1495.0978829224705, 1455.3215940107725, 1437.7994304133435, 1331.9709922296477, 1245.6037754099689, 1157.3782503603613, 1155.6662824459663, 1087.9577473714498, 920.5861129844216, 885.7777182504643, 866.720924770413, 840.9855324280417, 837.4449907701412, 828.0525855783161, 778.3110167535241, 5044.29340496103, 4418.166033414864, 4375.743113597753, 4198.959732549151, 2903.0842397442307, 2883.129872393815, 2684.186447723695, 2412.7200061493472, 2311.2731893175287, 1882.1078496236053, 1831.2280906780684, 1828.6294896146535, 1785.3972819251135, 1761.4805100493147, 1752.6728588245512, 1708.2043290920813, 1626.5579110208685, 1597.2184149563088, 1584.0256125273336, 1547.360794025303, 1528.7024877684428, 1391.3107699250666, 1382.1603099217532, 1322.2275599502393, 1155.3210352717279, 1128.6237774080419, 1098.4844259527306, 1036.082461888694, 980.4535913348153, 932.8482374177444, 5254.122607658435, 4960.700714171235, 4506.585245473442, 2164.9656314657864, 2161.5113683502946, 2022.733486196169, 1972.2713997823892, 1871.747025244541, 1779.8878440728317, 1727.3186409545444, 1664.3636681901512, 1549.901299998053, 1374.72173937281, 1330.6300571736854, 1297.9650343462015, 1253.4679560920713, 1246.9841234753974, 1174.047966917033, 1171.0079384333274, 1079.4147984227156, 1013.4297405734953, 1010.4781715124028, 860.8300920497853, 811.8176795376455, 797.6875941480292, 746.6409095350158, 721.4138436876772, 710.3942744315921, 703.3945635501542, 691.8272234980882, 6972.784816770066, 6022.4275315513505, 2375.8243078944606, 2229.0257089206557, 1943.4992579434916, 1747.4559154294327, 1658.2603077743227, 1657.9207980965616, 1575.5862691821146, 1346.8791124175539, 1146.4093398784717, 1127.2987202836605, 1124.6297676496595, 1110.294063907745, 1069.7153972938872, 1038.580234607659, 995.6740390695703, 966.2266566087902, 949.7499430618815, 945.0723128359327, 942.7513180209746, 898.2708641559116, 790.462417230577, 767.6839842974035, 763.0524228418819, 753.389927251964, 718.0964970253044, 634.6130868976408, 633.5987159338947, 625.2801348188154], \"Total\": [38975.0, 25702.0, 11622.0, 6973.0, 6023.0, 8722.0, 5255.0, 5796.0, 4961.0, 5045.0, 4507.0, 5119.0, 4817.0, 7075.0, 4697.0, 4419.0, 5589.0, 4376.0, 5647.0, 4199.0, 4338.0, 5249.0, 5080.0, 4004.0, 3990.0, 4782.0, 3758.0, 3678.0, 3766.0, 4721.0, 38975.19876687759, 7075.671886739011, 4381.986949602432, 3264.501022362381, 3005.5754950346955, 2859.865623675961, 2767.412147199983, 2721.678707571374, 2491.736006012362, 2483.0928469581063, 2456.7700071462723, 2349.5477426995135, 2306.957052235625, 2287.0959705787373, 2184.6952265767736, 2138.394162307028, 2121.4238539855487, 2057.2154586253805, 1983.2959644807613, 1925.2859254392004, 1860.1878014130014, 1848.910042140469, 1825.4964464790946, 1816.3999576885299, 1781.8680285042913, 1712.7617424849611, 1692.3322955767085, 1605.15041239439, 1590.439510626912, 1496.105362590913, 25702.712573228284, 4097.033036455345, 3324.1451538140705, 3198.68327300757, 3039.2811658013607, 2836.54508086143, 2830.751759913855, 2593.191199531135, 2357.1825185241273, 2232.3597173007565, 2224.7066597270496, 2166.0169088814996, 2065.3458963264534, 2050.5453584771353, 2002.3755794821736, 1939.263882327124, 1933.3316744598146, 1927.7190432300793, 1914.071088418707, 1896.6373822412231, 1779.4580695843977, 1681.5726210564176, 1655.3730580959568, 1606.5193450858417, 1587.6468605209418, 1523.8076645365327, 1456.2087181114189, 1357.4232032776645, 1342.8389759703416, 1327.0463933739838, 5647.142173210841, 4721.841740933073, 4023.236248870296, 3803.1446958070605, 3695.8927282668765, 3405.403206872753, 3001.7720659883103, 2809.281435220713, 2739.0217524961536, 2664.0528645840277, 2576.3497037951897, 2512.8047670672668, 2409.9625624741543, 2218.6007733664583, 2198.734949036748, 2154.3874447871326, 2110.617409462603, 2104.3625734021034, 2043.0010469439912, 1839.99054809144, 1781.9417526963764, 1739.9582294762074, 1739.4499220459297, 1717.1415976032727, 1680.7980418275417, 1599.6027938884274, 1568.2602504575023, 1491.5196496414658, 1464.7914018283464, 1392.3827017171475, 8722.402943676278, 5589.598567797197, 5249.682245160769, 5080.007584891816, 4782.913195084183, 4223.108038446942, 3373.375616966787, 3333.037483060189, 3149.0030266886915, 2839.5040988919536, 2555.4267967654805, 2334.616824395471, 2333.7918252224626, 2226.544034266099, 2065.4319295266214, 2030.5953380426345, 2025.472885915376, 1964.9039392748596, 1949.987654927719, 1670.7419546320502, 1653.3989980154809, 1593.352773139245, 1530.9348604663944, 1507.7482780633334, 1494.6523701769056, 1487.249620358676, 1454.56374477593, 1440.1070666948822, 1391.9461362153988, 1366.8436096423525, 5526.092988053805, 11622.034408581023, 5119.967052581952, 3990.0010622851314, 3766.5950321363057, 3690.614681775245, 2729.4025322397238, 2713.462157802873, 2604.88229865911, 2601.4671923935284, 2589.5694445533304, 2216.7712019289115, 1985.9159616240552, 1815.2832544135465, 1650.5735651089965, 1507.7219022029185, 1467.6576522796395, 1383.8684418322518, 1320.5138706765968, 1315.3363828040733, 1313.644757637301, 1295.822186886736, 1192.7338135281607, 1169.63758941899, 1147.3445420033315, 1132.087733937205, 1048.353206079726, 1040.9496075185718, 1005.6072692282933, 988.6061051592882, 985.7853758829694, 5796.111581728223, 4697.647714436628, 4338.889752580994, 3633.898118021272, 3584.9481823036226, 3488.399473499067, 3382.644238784154, 2765.029733346897, 2692.7825897035873, 2300.4341898879416, 2242.916090060917, 2169.146922053304, 1979.6173418720882, 1590.8942743706612, 1558.2279338562796, 1409.6061843908599, 1332.8695862383508, 1222.7077432570966, 1220.6615182930816, 1198.9565965496822, 1142.7826525419207, 1109.8076383945463, 1078.1259564615568, 1054.5379553385048, 1036.2386229651802, 1035.3154337810447, 982.8076089928481, 965.0958152603478, 949.1055631988163, 925.2111902935571, 4817.448225404335, 4004.8699966984386, 3758.9801632157078, 3678.2695060426463, 3387.480645703943, 2843.222135924971, 2332.701185682818, 2168.4578291276885, 2062.431415196689, 1893.3747743093923, 1848.3416244924108, 1809.9120064498918, 1755.7977876949176, 1641.8599357270307, 1591.0410971222218, 1496.0097586169247, 1456.2334685589146, 1438.7113378356592, 1332.8828485084919, 1246.515693892185, 1158.2901206681336, 1156.5782804665478, 1088.8696040621724, 921.4979757150542, 886.6896614763173, 867.6328577642713, 841.8974198389509, 838.3569385043086, 828.9645558749017, 779.2231902348566, 5045.213186312433, 4419.085841513301, 4376.662995050872, 4199.8795072302, 2904.004030173677, 2884.0496057462424, 2685.1062279891057, 2413.639820658941, 2312.192995172983, 1883.0275630844387, 1832.1479078276675, 1829.54938457142, 1786.3171417679657, 1762.400280580836, 1753.5925988305187, 1709.1241634437717, 1627.4776420635828, 1598.138169413638, 1584.9454187933159, 1548.280527971966, 1529.6222135377625, 1392.2305699502854, 1383.0802380925768, 1323.1473013407374, 1156.2408632112342, 1129.5436549638518, 1099.4042590513168, 1037.002233828344, 981.3734912744129, 933.7682150127645, 5255.051479123812, 4961.629543041077, 4507.514114703998, 2165.894479081457, 2162.4401709869517, 2023.6623353780444, 1973.200282782681, 1872.6758891819736, 1780.8168042984562, 1728.2474825857646, 1665.292543126569, 1550.830161625876, 1375.6505322685525, 1331.5588910362833, 1298.8937844208403, 1254.3967703007645, 1247.9129203198136, 1174.9769462413642, 1171.9367002027343, 1080.3435681012984, 1014.3585162464688, 1011.4070031484919, 861.7589291025872, 812.7465943589523, 798.6164129250934, 747.569774521093, 722.3429620526202, 711.3232729803394, 704.3234119107069, 692.7560849382398, 6973.7174465573635, 6023.360189873739, 2376.756806778994, 2229.9583282597173, 1944.4317805812032, 1748.388514469522, 1659.1928408102435, 1658.8533610017798, 1576.5188994801263, 1347.8117420515057, 1147.3419482334896, 1128.2317758741938, 1125.5623184138103, 1111.2265787587248, 1070.6479762316717, 1039.5127546063077, 996.6065194351086, 967.1592333415687, 950.6825335165249, 946.0048001962821, 943.6840562498237, 899.2034289968794, 791.3950397200658, 768.6165014905366, 763.9849586021992, 754.3225132020971, 719.0290432990777, 635.5455777129382, 634.5316353685861, 626.2127416789064], \"Category\": [\"Default\", \"Default\", \"Default\", \"Default\", \"Default\", \"Default\", \"Default\", \"Default\", \"Default\", \"Default\", \"Default\", \"Default\", \"Default\", \"Default\", \"Default\", \"Default\", \"Default\", \"Default\", \"Default\", \"Default\", \"Default\", \"Default\", \"Default\", \"Default\", \"Default\", \"Default\", \"Default\", \"Default\", \"Default\", \"Default\", \"Topic1\", \"Topic1\", \"Topic1\", \"Topic1\", \"Topic1\", \"Topic1\", \"Topic1\", \"Topic1\", \"Topic1\", \"Topic1\", \"Topic1\", \"Topic1\", \"Topic1\", \"Topic1\", \"Topic1\", \"Topic1\", \"Topic1\", \"Topic1\", \"Topic1\", \"Topic1\", \"Topic1\", \"Topic1\", \"Topic1\", \"Topic1\", \"Topic1\", \"Topic1\", \"Topic1\", \"Topic1\", \"Topic1\", \"Topic1\", \"Topic2\", \"Topic2\", \"Topic2\", \"Topic2\", \"Topic2\", \"Topic2\", \"Topic2\", \"Topic2\", \"Topic2\", \"Topic2\", \"Topic2\", \"Topic2\", \"Topic2\", \"Topic2\", \"Topic2\", \"Topic2\", \"Topic2\", \"Topic2\", \"Topic2\", \"Topic2\", \"Topic2\", \"Topic2\", \"Topic2\", \"Topic2\", \"Topic2\", \"Topic2\", \"Topic2\", \"Topic2\", \"Topic2\", \"Topic2\", \"Topic3\", \"Topic3\", \"Topic3\", \"Topic3\", \"Topic3\", \"Topic3\", \"Topic3\", \"Topic3\", \"Topic3\", \"Topic3\", \"Topic3\", \"Topic3\", \"Topic3\", \"Topic3\", \"Topic3\", \"Topic3\", \"Topic3\", \"Topic3\", \"Topic3\", \"Topic3\", \"Topic3\", \"Topic3\", \"Topic3\", \"Topic3\", \"Topic3\", \"Topic3\", \"Topic3\", \"Topic3\", \"Topic3\", \"Topic3\", \"Topic4\", \"Topic4\", \"Topic4\", \"Topic4\", \"Topic4\", \"Topic4\", \"Topic4\", \"Topic4\", \"Topic4\", \"Topic4\", \"Topic4\", \"Topic4\", \"Topic4\", \"Topic4\", \"Topic4\", \"Topic4\", \"Topic4\", \"Topic4\", \"Topic4\", \"Topic4\", \"Topic4\", \"Topic4\", \"Topic4\", \"Topic4\", \"Topic4\", \"Topic4\", \"Topic4\", \"Topic4\", \"Topic4\", \"Topic4\", \"Topic4\", \"Topic5\", \"Topic5\", \"Topic5\", \"Topic5\", \"Topic5\", \"Topic5\", \"Topic5\", \"Topic5\", \"Topic5\", \"Topic5\", \"Topic5\", \"Topic5\", \"Topic5\", \"Topic5\", \"Topic5\", \"Topic5\", \"Topic5\", \"Topic5\", \"Topic5\", \"Topic5\", \"Topic5\", \"Topic5\", \"Topic5\", \"Topic5\", \"Topic5\", \"Topic5\", \"Topic5\", \"Topic5\", \"Topic5\", \"Topic5\", \"Topic6\", \"Topic6\", \"Topic6\", \"Topic6\", \"Topic6\", \"Topic6\", \"Topic6\", \"Topic6\", \"Topic6\", \"Topic6\", \"Topic6\", \"Topic6\", \"Topic6\", \"Topic6\", \"Topic6\", \"Topic6\", \"Topic6\", \"Topic6\", \"Topic6\", \"Topic6\", \"Topic6\", \"Topic6\", \"Topic6\", \"Topic6\", \"Topic6\", \"Topic6\", \"Topic6\", \"Topic6\", \"Topic6\", \"Topic6\", \"Topic7\", \"Topic7\", \"Topic7\", \"Topic7\", \"Topic7\", \"Topic7\", \"Topic7\", \"Topic7\", \"Topic7\", \"Topic7\", \"Topic7\", \"Topic7\", \"Topic7\", \"Topic7\", \"Topic7\", \"Topic7\", \"Topic7\", \"Topic7\", \"Topic7\", \"Topic7\", \"Topic7\", \"Topic7\", \"Topic7\", \"Topic7\", \"Topic7\", \"Topic7\", \"Topic7\", \"Topic7\", \"Topic7\", \"Topic7\", \"Topic8\", \"Topic8\", \"Topic8\", \"Topic8\", \"Topic8\", \"Topic8\", \"Topic8\", \"Topic8\", \"Topic8\", \"Topic8\", \"Topic8\", \"Topic8\", \"Topic8\", \"Topic8\", \"Topic8\", \"Topic8\", \"Topic8\", \"Topic8\", \"Topic8\", \"Topic8\", \"Topic8\", \"Topic8\", \"Topic8\", \"Topic8\", \"Topic8\", \"Topic8\", \"Topic8\", \"Topic8\", \"Topic8\", \"Topic8\", \"Topic9\", \"Topic9\", \"Topic9\", \"Topic9\", \"Topic9\", \"Topic9\", \"Topic9\", \"Topic9\", \"Topic9\", \"Topic9\", \"Topic9\", \"Topic9\", \"Topic9\", \"Topic9\", \"Topic9\", \"Topic9\", \"Topic9\", \"Topic9\", \"Topic9\", \"Topic9\", \"Topic9\", \"Topic9\", \"Topic9\", \"Topic9\", \"Topic9\", \"Topic9\", \"Topic9\", \"Topic9\", \"Topic9\", \"Topic9\", \"Topic10\", \"Topic10\", \"Topic10\", \"Topic10\", \"Topic10\", \"Topic10\", \"Topic10\", \"Topic10\", \"Topic10\", \"Topic10\", \"Topic10\", \"Topic10\", \"Topic10\", \"Topic10\", \"Topic10\", \"Topic10\", \"Topic10\", \"Topic10\", \"Topic10\", \"Topic10\", \"Topic10\", \"Topic10\", \"Topic10\", \"Topic10\", \"Topic10\", \"Topic10\", \"Topic10\", \"Topic10\", \"Topic10\", \"Topic10\"], \"logprob\": [30.0, 29.0, 28.0, 27.0, 26.0, 25.0, 24.0, 23.0, 22.0, 21.0, 20.0, 19.0, 18.0, 17.0, 16.0, 15.0, 14.0, 13.0, 12.0, 11.0, 10.0, 9.0, 8.0, 7.0, 6.0, 5.0, 4.0, 3.0, 2.0, 1.0, -1.8367, -3.5431, -4.0223, -4.3168, -4.3994, -4.4492, -4.482, -4.4987, -4.587, -4.5905, -4.6011, -4.6458, -4.6641, -4.6727, -4.7186, -4.74, -4.748, -4.7787, -4.8153, -4.845, -4.8794, -4.8855, -4.8983, -4.9033, -4.9225, -4.962, -4.974, -5.027, -5.0362, -5.0974, -2.1636, -4.0001, -4.2092, -4.2477, -4.2988, -4.3678, -4.3699, -4.4576, -4.553, -4.6075, -4.6109, -4.6376, -4.6853, -4.6925, -4.7162, -4.7483, -4.7513, -4.7542, -4.7614, -4.7705, -4.8343, -4.8909, -4.9066, -4.9366, -4.9484, -4.9895, -5.0349, -5.1052, -5.116, -5.1278, -3.556, -3.735, -3.8951, -3.9514, -3.98, -4.0619, -4.1881, -4.2544, -4.2797, -4.3075, -4.341, -4.366, -4.4078, -4.4905, -4.4995, -4.5199, -4.5404, -4.5434, -4.573, -4.6777, -4.7098, -4.7337, -4.7339, -4.7469, -4.7683, -4.8178, -4.8376, -4.8878, -4.9059, -4.9566, -3.0278, -3.4728, -3.5356, -3.5684, -3.6287, -3.7532, -3.9779, -3.99, -4.0468, -4.1503, -4.2557, -4.3461, -4.3465, -4.3935, -4.4687, -4.4857, -4.4882, -4.5186, -4.5262, -4.6808, -4.6913, -4.7283, -4.7683, -4.7836, -4.7923, -4.7973, -4.8195, -4.8295, -4.8635, -4.8817, -3.6644, -2.3273, -3.1472, -3.3966, -3.4542, -3.4746, -3.7764, -3.7822, -3.8231, -3.8244, -3.829, -3.9845, -4.0945, -4.1844, -4.2796, -4.3701, -4.3971, -4.4559, -4.5028, -4.5067, -4.508, -4.5217, -4.6047, -4.6242, -4.6435, -4.6569, -4.7338, -4.7409, -4.7755, -4.7925, -4.7954, -2.9773, -3.1875, -3.2669, -3.4443, -3.4578, -3.4851, -3.5159, -3.7176, -3.7441, -3.9016, -3.927, -3.9604, -4.0519, -4.2706, -4.2914, -4.3917, -4.4477, -4.534, -4.5357, -4.5536, -4.6017, -4.631, -4.66, -4.6821, -4.6996, -4.7005, -4.7526, -4.7708, -4.7875, -4.8131, -3.0756, -3.2603, -3.3237, -3.3454, -3.4278, -3.603, -3.801, -3.874, -3.9242, -4.0097, -4.0338, -4.0549, -4.0852, -4.1524, -4.1838, -4.2454, -4.2724, -4.2845, -4.361, -4.428, -4.5015, -4.503, -4.5633, -4.7304, -4.7689, -4.7907, -4.8208, -4.825, -4.8363, -4.8983, -3.0097, -3.1422, -3.1519, -3.1931, -3.5622, -3.5691, -3.6406, -3.7472, -3.7901, -3.9956, -4.023, -4.0244, -4.0483, -4.0618, -4.0668, -4.0925, -4.1415, -4.1597, -4.168, -4.1914, -4.2035, -4.2977, -4.3043, -4.3486, -4.4836, -4.5069, -4.534, -4.5925, -4.6477, -4.6975, -2.7115, -2.769, -2.865, -3.5981, -3.5997, -3.6661, -3.6914, -3.7437, -3.794, -3.824, -3.8611, -3.9323, -4.0523, -4.0849, -4.1097, -4.1446, -4.1498, -4.2101, -4.2127, -4.2941, -4.3572, -4.3601, -4.5204, -4.579, -4.5966, -4.6627, -4.6971, -4.7125, -4.7224, -4.739, -2.3188, -2.4653, -3.3955, -3.4593, -3.5963, -3.7027, -3.7551, -3.7553, -3.8062, -3.963, -4.1242, -4.141, -4.1434, -4.1562, -4.1934, -4.223, -4.2652, -4.2952, -4.3124, -4.3173, -4.3198, -4.3681, -4.496, -4.5252, -4.5312, -4.544, -4.592, -4.7156, -4.7172, -4.7304], \"loglift\": [30.0, 29.0, 28.0, 27.0, 26.0, 25.0, 24.0, 23.0, 22.0, 21.0, 20.0, 19.0, 18.0, 17.0, 16.0, 15.0, 14.0, 13.0, 12.0, 11.0, 10.0, 9.0, 8.0, 7.0, 6.0, 5.0, 4.0, 3.0, 2.0, 1.0, 1.7697, 1.7696, 1.7695, 1.7695, 1.7694, 1.7694, 1.7694, 1.7694, 1.7694, 1.7694, 1.7694, 1.7693, 1.7693, 1.7693, 1.7693, 1.7693, 1.7693, 1.7693, 1.7693, 1.7693, 1.7692, 1.7692, 1.7692, 1.7692, 1.7692, 1.7692, 1.7692, 1.7692, 1.7692, 1.7691, 1.8592, 1.859, 1.859, 1.8589, 1.8589, 1.8589, 1.8589, 1.8589, 1.8588, 1.8588, 1.8588, 1.8588, 1.8588, 1.8588, 1.8588, 1.8588, 1.8588, 1.8588, 1.8588, 1.8588, 1.8587, 1.8587, 1.8587, 1.8587, 1.8587, 1.8586, 1.8586, 1.8586, 1.8586, 1.8585, 1.9822, 1.9822, 1.9821, 1.9821, 1.9821, 1.9821, 1.9821, 1.982, 1.982, 1.982, 1.982, 1.982, 1.982, 1.9819, 1.9819, 1.9819, 1.9819, 1.9819, 1.9819, 1.9819, 1.9818, 1.9818, 1.9818, 1.9818, 1.9818, 1.9818, 1.9818, 1.9817, 1.9817, 1.9817, 2.0757, 2.0756, 2.0756, 2.0756, 2.0756, 2.0756, 2.0755, 2.0755, 2.0755, 2.0755, 2.0754, 2.0754, 2.0754, 2.0754, 2.0753, 2.0753, 2.0753, 2.0753, 2.0753, 2.0752, 2.0752, 2.0752, 2.0752, 2.0752, 2.0752, 2.0752, 2.0751, 2.0751, 2.0751, 2.0751, 1.8955, 2.4891, 2.489, 2.489, 2.489, 2.489, 2.4889, 2.4889, 2.4889, 2.4889, 2.4889, 2.4888, 2.4888, 2.4887, 2.4887, 2.4886, 2.4886, 2.4886, 2.4885, 2.4885, 2.4885, 2.4885, 2.4884, 2.4884, 2.4884, 2.4884, 2.4883, 2.4883, 2.4883, 2.4883, 2.4883, 2.5349, 2.5348, 2.5348, 2.5348, 2.5348, 2.5348, 2.5347, 2.5347, 2.5347, 2.5346, 2.5346, 2.5346, 2.5346, 2.5344, 2.5344, 2.5344, 2.5343, 2.5343, 2.5343, 2.5342, 2.5342, 2.5342, 2.5342, 2.5341, 2.5341, 2.5341, 2.5341, 2.5341, 2.534, 2.534, 2.6215, 2.6215, 2.6215, 2.6215, 2.6214, 2.6214, 2.6213, 2.6213, 2.6213, 2.6212, 2.6212, 2.6212, 2.6212, 2.6212, 2.6211, 2.6211, 2.6211, 2.6211, 2.621, 2.621, 2.6209, 2.6209, 2.6209, 2.6207, 2.6207, 2.6207, 2.6206, 2.6206, 2.6206, 2.6205, 2.6412, 2.6412, 2.6412, 2.6412, 2.6411, 2.6411, 2.6411, 2.641, 2.641, 2.6409, 2.6409, 2.6409, 2.6409, 2.6409, 2.6409, 2.6409, 2.6408, 2.6408, 2.6408, 2.6408, 2.6408, 2.6407, 2.6407, 2.6407, 2.6406, 2.6406, 2.6406, 2.6405, 2.6405, 2.6404, 2.8986, 2.8986, 2.8986, 2.8984, 2.8984, 2.8983, 2.8983, 2.8983, 2.8983, 2.8983, 2.8982, 2.8982, 2.8981, 2.8981, 2.8981, 2.8981, 2.8981, 2.898, 2.898, 2.8979, 2.8979, 2.8979, 2.8977, 2.8977, 2.8976, 2.8976, 2.8975, 2.8975, 2.8975, 2.8975, 3.0084, 3.0084, 3.0081, 3.0081, 3.008, 3.008, 3.008, 3.008, 3.0079, 3.0078, 3.0077, 3.0077, 3.0077, 3.0077, 3.0077, 3.0076, 3.0076, 3.0076, 3.0075, 3.0075, 3.0075, 3.0075, 3.0073, 3.0073, 3.0073, 3.0073, 3.0072, 3.0071, 3.0071, 3.007]}, \"token.table\": {\"Topic\": [2, 10, 8, 2, 1, 3, 4, 8, 5, 6, 2, 4, 2, 8, 3, 5, 4, 4, 5, 10, 5, 1, 8, 3, 10, 10, 10, 7, 6, 1, 5, 3, 6, 2, 10, 5, 10, 6, 9, 10, 8, 10, 8, 2, 8, 9, 5, 9, 7, 2, 10, 4, 1, 1, 9, 3, 7, 5, 7, 10, 4, 7, 3, 4, 10, 9, 7, 7, 5, 10, 9, 1, 9, 4, 4, 3, 9, 1, 8, 7, 5, 4, 3, 6, 1, 1, 10, 4, 5, 8, 4, 7, 10, 3, 10, 7, 2, 4, 9, 8, 3, 2, 8, 4, 8, 7, 4, 6, 6, 3, 4, 4, 9, 6, 6, 7, 3, 3, 5, 10, 2, 6, 3, 8, 8, 10, 4, 1, 9, 5, 1, 2, 7, 2, 9, 1, 8, 5, 1, 8, 3, 10, 8, 7, 10, 6, 2, 8, 9, 10, 7, 9, 1, 6, 10, 6, 1, 5, 2, 7, 7, 7, 8, 7, 4, 1, 6, 7, 1, 7, 2, 8, 4, 8, 1, 2, 8, 1, 9, 5, 6, 9, 2, 6, 8, 5, 2, 7, 4, 4, 7, 6, 9, 10, 9, 4, 3, 3, 8, 2, 6, 6, 9, 3, 3, 1, 9, 6, 5, 3, 1, 9, 6, 1, 4, 2, 5, 6, 3, 9, 9, 7, 5, 9, 2, 2, 5, 3, 7, 9, 2, 3, 1, 2, 6, 5, 5, 9, 5, 10, 8, 4, 1, 3, 4, 1, 4, 4, 10, 8, 6, 9, 3, 10, 8, 9, 6, 1, 10, 3, 3, 5, 1, 10, 10, 2, 3, 4, 1, 7, 1, 5, 6, 3, 4, 7, 5, 7, 6, 10, 8, 4, 6, 8, 2, 7, 2, 5, 3, 2, 1, 2, 9, 1, 6, 5, 5, 3, 8, 2, 9, 6, 7], \"Freq\": [0.9991699554491155, 0.9993914153446916, 0.9993734633417077, 0.9993112022745985, 0.005428790298109964, 0.15942547508782928, 0.8349479478493125, 0.9997065139014891, 0.9993847633731536, 0.9998621194103939, 0.9995406433851269, 0.9993828045605209, 0.9996823582453175, 0.9991729354281531, 0.9996515971870765, 0.9988281270759489, 0.9995559130899938, 0.9992312608413046, 0.9995387712059547, 0.9995067356277876, 0.9995091841736113, 0.9994091729088053, 0.9995186950398396, 0.999587946922138, 0.9992058318514273, 0.9994855717679202, 0.9998971213613311, 0.9997888687888975, 0.9997528499720953, 0.9998465240602014, 0.9999109959113304, 0.9996657400488086, 0.9987294367125963, 0.9993483433797471, 0.9992636509053687, 0.9998334473175212, 0.9985688432078401, 0.9997949354254818, 0.9991193255132528, 0.9991415600515993, 0.9996997159103477, 0.9991621609720416, 0.9996542600618853, 0.9995305166467862, 0.9996360652936929, 0.9998731176853055, 0.999087748809632, 0.9991685400769016, 0.999906957919761, 0.9996882304084367, 0.9987107617877696, 0.9996124303400558, 0.9993465602189633, 0.9997280485097344, 0.9981210167256591, 0.9993351756169288, 0.9992739027011207, 0.9993655094849769, 0.9983814310564072, 0.9982372397474727, 0.9997376248874396, 0.9992741469030222, 0.9996005902792257, 0.9998090713657272, 0.9988014038416781, 0.9995271093542342, 0.9996548632337677, 0.9991529733483359, 0.9987092078586889, 0.9993947812483125, 0.9990813934329172, 0.9993614615620535, 0.9988865004009619, 0.9995399575232196, 0.9998700406750528, 0.9994761177827678, 0.999885942741184, 0.9997668731349616, 0.999484041697439, 0.9993250320653936, 0.9995519034847002, 0.999660713001946, 0.9997292106927617, 0.9998095458053888, 0.9995598847785957, 0.99955525484598, 0.9982467536379327, 0.9994935070869689, 0.9997801006825563, 0.99917729582094, 0.9997068160103193, 0.999782765308448, 0.9992820594757323, 0.9994715019753303, 0.9986616721443979, 0.9998581111586415, 0.9994699695011848, 0.9991538654510134, 0.9981397023960777, 0.9992878153870415, 0.9994597170441071, 0.9997863892892004, 0.9995880133241752, 0.999832984155124, 0.999033527801918, 0.998934050850135, 0.999688727454923, 0.9997355101788352, 0.999315134386946, 0.9995252006441689, 0.9998391562869388, 0.999320278140955, 0.9996727045977655, 0.9992119677554229, 0.9996881509072332, 0.9995055729269992, 0.999461655880533, 0.9997074744765039, 0.9994548829271922, 0.999197907552933, 0.999170544615764, 0.9991782633900487, 0.9996990133432676, 0.9997595371557887, 0.9997905875088354, 0.9988961938256598, 0.9998929139919555, 0.9996817741127841, 0.9992007245761889, 0.9993869093503216, 0.9995851451873812, 0.9994404134594647, 0.9993376398312277, 0.9993482669694197, 0.9995413316538317, 0.9995128547735267, 0.9992054696108115, 0.999039178762743, 0.9995077953390229, 0.9997349146076127, 0.9996927227749444, 0.9993977333583174, 0.9997542836794208, 0.9992013698803528, 0.9996815800519282, 0.9989556355128929, 0.9993909058248011, 0.9994035007249426, 0.9993917075761878, 0.9996708574313334, 0.9995862916971588, 0.9995870163158472, 0.9992292679359499, 0.9988645528837443, 0.9989082244441845, 0.9997093750878442, 0.9995208025404986, 0.9989839992099783, 0.9997344310000966, 0.9995701581281571, 0.9996994104143635, 0.9995456266658332, 0.9991161162692116, 0.9988861852094626, 0.9995037115450767, 0.9998085241792641, 0.9995915629367604, 0.9997392475689818, 0.9997506290623187, 0.9993456503894809, 0.9993752222080571, 0.9995932240443061, 0.999150989559845, 0.9992189620942986, 0.999723654609952, 0.99974257916372, 0.999662065846472, 0.9997747712136564, 0.9997964470911809, 0.9998111213271452, 0.9988351525460559, 0.9992781805856311, 0.9999722763414074, 0.9998112574183387, 0.9991328997613683, 0.9993961169067928, 0.9996555042691934, 0.9984302440556371, 0.9995922135205257, 0.99968147801695, 0.9994762429435554, 0.9993475834040111, 0.9997999107852722, 0.99957024835506, 0.9992378309817863, 0.9997357920199041, 0.9993525006482602, 0.9991964022188699, 0.9994543026854288, 0.9997340422269223, 0.9994898663099023, 0.9995699618818558, 0.9993118879837901, 0.999604788404155, 0.9997413423403414, 0.999332085991899, 0.9992281489396947, 0.9995988207458181, 0.9992032993162776, 0.9996231602678299, 0.999800203064205, 0.9986607139145479, 0.9994712566301326, 0.9996865774394703, 0.999755659776889, 0.9992114869689496, 0.9996525055767759, 0.9996275868810819, 0.9996269644462581, 0.9989085841977018, 0.9994646985553818, 0.9992705926722254, 0.9993724534746222, 0.9992238341954368, 0.9994983339156666, 0.9996767265284229, 0.9996521057616409, 0.9990069528187601, 0.9992222064761993, 0.999268442288762, 0.9996594728950464, 0.9995100115364656, 0.9992611732979829, 0.9996639409055251, 0.9994378794461279, 0.9997491072635059, 0.9998420238620747, 0.9987563510896263, 0.9998296796579439, 0.9997741808839482, 0.9998485158552025, 0.9991597776583229, 0.999969242828375, 0.9997977431458589, 0.9993893532046755, 0.9994897228439892, 0.9997665306118564, 0.9998016568135031, 0.9988303851039738, 0.9989268125260787, 0.9998082194049321, 0.9995802731369633, 0.999742796597697, 0.9989378487338821, 0.9986004398054106, 0.9981408248945847, 0.999202142469181, 0.9997046211915764, 0.9980633711226397, 0.9998217346155894, 0.9993559910542137, 0.9996108555252559, 0.9992127458772779, 0.9992751215353345, 0.9992810716265742, 0.9996269979110263, 0.9995438565874365, 0.9998224693909932, 0.9992832993185518, 0.9988364329113159, 0.999348033056018, 0.9994861394670969, 0.9988046933035213, 0.999449280183872, 0.9995635304971762, 0.9994596019435987, 0.9992930830985046, 0.9995000074994366, 0.9992722717283559, 0.9995004111237459, 0.9993422575914516, 0.9997908769006392, 0.9994580657429042, 0.9992626495390051, 0.9995784642053599, 0.9997908220397002, 0.9993130262392985, 0.9998204119602606, 0.9997584539561852, 0.9998078363481308, 0.9999050426942111, 0.9997478574260562, 0.9986088655268236, 0.9996973201577043, 0.9986909039727753, 0.9996612903932112, 0.9995211967128264, 0.9996797335480201, 0.9987227091038118, 0.9995925664976092, 0.9996390783979876, 0.9994211672732102, 0.9994961045362196], \"Term\": [\"accused\", \"adds\", \"african\", \"agrees\", \"agricultural\", \"agricultural\", \"agricultural\", \"ahead\", \"allow\", \"american\", \"announces\", \"approves\", \"arrested\", \"asian\", \"asks\", \"attack\", \"australian\", \"avoid\", \"away\", \"backed\", \"backs\", \"bad\", \"banned\", \"bans\", \"based\", \"begins\", \"best\", \"better\", \"big\", \"biggest\", \"black\", \"boost\", \"bring\", \"british\", \"build\", \"buy\", \"called\", \"calls\", \"canadian\", \"cancel\", \"cancels\", \"captures\", \"central\", \"change\", \"charged\", \"chinese\", \"claims\", \"clean\", \"close\", \"closed\", \"closes\", \"come\", \"coming\", \"confirms\", \"considers\", \"continue\", \"corporate\", \"criminal\", \"critical\", \"curb\", \"cut\", \"cuts\", \"daily\", \"dead\", \"demands\", \"denies\", \"dies\", \"digital\", \"discuss\", \"double\", \"draws\", \"drop\", \"drops\", \"early\", \"economic\", \"end\", \"european\", \"exclusive\", \"executive\", \"expected\", \"expects\", \"extend\", \"extends\", \"face\", \"faces\", \"facing\", \"fake\", \"fall\", \"far\", \"faster\", \"fed\", \"federal\", \"female\", \"fight\", \"final\", \"financial\", \"find\", \"finds\", \"flying\", \"following\", \"foreign\", \"found\", \"free\", \"french\", \"fresh\", \"gay\", \"german\", \"gets\", \"getting\", \"gives\", \"global\", \"goes\", \"going\", \"golden\", \"good\", \"great\", \"green\", \"grow\", \"growing\", \"grows\", \"hard\", \"held\", \"help\", \"high\", \"higher\", \"historic\", \"hit\", \"hits\", \"holds\", \"hot\", \"human\", \"including\", \"indian\", \"israeli\", \"italian\", \"join\", \"joins\", \"keeps\", \"key\", \"kill\", \"killed\", \"kills\", \"know\", \"late\", \"latest\", \"launch\", \"launches\", \"lead\", \"leads\", \"leave\", \"leaves\", \"led\", \"legal\", \"let\", \"libyan\", \"likely\", \"linked\", \"little\", \"live\", \"local\", \"long\", \"looking\", \"looks\", \"lose\", \"loses\", \"low\", \"lower\", \"major\", \"makes\", \"making\", \"massive\", \"meet\", \"mexican\", \"migrant\", \"military\", \"missing\", \"moves\", \"national\", \"nearly\", \"need\", \"needed\", \"needs\", \"new\", \"nuclear\", \"offers\", \"official\", \"old\", \"ongoing\", \"online\", \"open\", \"paid\", \"pakistani\", \"pandemic\", \"passes\", \"past\", \"pay\", \"plans\", \"political\", \"positive\", \"possible\", \"post\", \"posts\", \"presidential\", \"primary\", \"private\", \"protect\", \"protest\", \"public\", \"pulls\", \"push\", \"pushes\", \"puts\", \"racial\", \"racist\", \"raises\", \"reach\", \"ready\", \"real\", \"record\", \"red\", \"rejects\", \"releases\", \"religious\", \"remain\", \"remove\", \"removes\", \"reopen\", \"reopens\", \"replace\", \"reported\", \"reportedly\", \"reports\", \"return\", \"returning\", \"reveals\", \"right\", \"rise\", \"rises\", \"rising\", \"russian\", \"safe\", \"save\", \"says\", \"second\", \"seek\", \"seeks\", \"seen\", \"sees\", \"sells\", \"senior\", \"set\", \"sets\", \"shows\", \"single\", \"slip\", \"slips\", \"slow\", \"small\", \"smart\", \"social\", \"soon\", \"spanish\", \"special\", \"spreading\", \"start\", \"stay\", \"stop\", \"strong\", \"support\", \"supports\", \"suspends\", \"takes\", \"talks\", \"tells\", \"th\", \"think\", \"threatens\", \"true\", \"trying\", \"turkish\", \"turn\", \"unveils\", \"upbeat\", \"urge\", \"urges\", \"use\", \"virtual\", \"vote\", \"want\", \"wants\", \"warns\", \"watch\", \"weak\", \"wear\", \"weekly\", \"white\", \"win\", \"wins\", \"work\", \"working\", \"worst\", \"wrong\", \"young\"]}, \"R\": 30, \"lambda.step\": 0.01, \"plot.opts\": {\"xlab\": \"PC1\", \"ylab\": \"PC2\"}, \"topic.order\": [2, 1, 9, 4, 10, 6, 8, 7, 5, 3]};\n",
       "\n",
       "function LDAvis_load_lib(url, callback){\n",
       "  var s = document.createElement('script');\n",
       "  s.src = url;\n",
       "  s.async = true;\n",
       "  s.onreadystatechange = s.onload = callback;\n",
       "  s.onerror = function(){console.warn(\"failed to load library \" + url);};\n",
       "  document.getElementsByTagName(\"head\")[0].appendChild(s);\n",
       "}\n",
       "\n",
       "if(typeof(LDAvis) !== \"undefined\"){\n",
       "   // already loaded: just create the visualization\n",
       "   !function(LDAvis){\n",
       "       new LDAvis(\"#\" + \"ldavis_el16575921405281907912327486908524\", ldavis_el16575921405281907912327486908524_data);\n",
       "   }(LDAvis);\n",
       "}else if(typeof define === \"function\" && define.amd){\n",
       "   // require.js is available: use it to load d3/LDAvis\n",
       "   require.config({paths: {d3: \"https://d3js.org/d3.v5\"}});\n",
       "   require([\"d3\"], function(d3){\n",
       "      window.d3 = d3;\n",
       "      LDAvis_load_lib(\"https://cdn.jsdelivr.net/gh/bmabey/pyLDAvis@3.3.1/pyLDAvis/js/ldavis.v3.0.0.js\", function(){\n",
       "        new LDAvis(\"#\" + \"ldavis_el16575921405281907912327486908524\", ldavis_el16575921405281907912327486908524_data);\n",
       "      });\n",
       "    });\n",
       "}else{\n",
       "    // require.js not available: dynamically load d3 & LDAvis\n",
       "    LDAvis_load_lib(\"https://d3js.org/d3.v5.js\", function(){\n",
       "         LDAvis_load_lib(\"https://cdn.jsdelivr.net/gh/bmabey/pyLDAvis@3.3.1/pyLDAvis/js/ldavis.v3.0.0.js\", function(){\n",
       "                 new LDAvis(\"#\" + \"ldavis_el16575921405281907912327486908524\", ldavis_el16575921405281907912327486908524_data);\n",
       "            })\n",
       "         });\n",
       "}\n",
       "</script>"
      ],
      "text/plain": [
       "PreparedData(topic_coordinates=              x         y  topics  cluster       Freq\n",
       "topic                                                \n",
       "1     -0.160531 -0.063673       1        1  17.037814\n",
       "0     -0.145690 -0.022263       2        1  15.579184\n",
       "8     -0.184941  0.060512       3        1  13.774391\n",
       "3     -0.196966  0.066842       4        1  12.545812\n",
       "9      0.188531  0.399466       5        1   8.297507\n",
       "5      0.114818 -0.110266       6        1   7.926038\n",
       "7     -0.024926 -0.028497       7        1   7.267786\n",
       "6      0.057589 -0.008877       8        1   7.126132\n",
       "4      0.196202 -0.154820       9        1   5.508891\n",
       "2      0.155914 -0.138425      10        1   4.936445, topic_info=          Term          Freq         Total Category  logprob  loglift\n",
       "1         says  38975.000000  38975.000000  Default  30.0000  30.0000\n",
       "37         new  25702.000000  25702.000000  Default  29.0000  29.0000\n",
       "175      black  11622.000000  11622.000000  Default  28.0000  28.0000\n",
       "266       best   6973.000000   6973.000000  Default  27.0000  27.0000\n",
       "418    russian   6023.000000   6023.000000  Default  26.0000  26.0000\n",
       "...        ...           ...           ...      ...      ...      ...\n",
       "271       fake    753.389927    754.322513  Topic10  -4.5440   3.0073\n",
       "279     called    718.096497    719.029043  Topic10  -4.5920   3.0072\n",
       "2011    cancel    634.613087    635.545578  Topic10  -4.7156   3.0071\n",
       "3106  captures    633.598716    634.531635  Topic10  -4.7172   3.0071\n",
       "38       smart    625.280135    626.212742  Topic10  -4.7304   3.0070\n",
       "\n",
       "[331 rows x 6 columns], token_table=       Topic      Freq          Term\n",
       "term                                \n",
       "31         2  0.999170       accused\n",
       "1353      10  0.999391          adds\n",
       "1126       8  0.999373       african\n",
       "98         2  0.999311        agrees\n",
       "11275      1  0.005429  agricultural\n",
       "...      ...       ...           ...\n",
       "100        8  0.998723          work\n",
       "552        2  0.999593       working\n",
       "112        9  0.999639         worst\n",
       "711        6  0.999421         wrong\n",
       "198        7  0.999496         young\n",
       "\n",
       "[303 rows x 3 columns], R=30, lambda_step=0.01, plot_opts={'xlab': 'PC1', 'ylab': 'PC2'}, topic_order=[2, 1, 9, 4, 10, 6, 8, 7, 5, 3])"
      ]
     },
     "execution_count": 20,
     "metadata": {},
     "output_type": "execute_result"
    }
   ],
   "source": [
    "vis"
   ]
  },
  {
   "cell_type": "code",
   "execution_count": 21,
   "metadata": {},
   "outputs": [
    {
     "name": "stderr",
     "output_type": "stream",
     "text": [
      "/usr/local/miniconda3/envs/nlp/lib/python3.8/site-packages/ipykernel/ipkernel.py:283: DeprecationWarning: `should_run_async` will not call `transform_cell` automatically in the future. Please pass the result to `transformed_cell` argument and any exception that happen during thetransform in `preprocessing_exc_tuple` in IPython 7.17 and above.\n",
      "  and should_run_async(code)\n"
     ]
    }
   ],
   "source": [
    "pyLDAvis.enable_notebook()\n",
    "vis2 = pyLDAvis.gensim_models.prepare(allnews_model_10, allnews_corpus, allnews_dict)"
   ]
  },
  {
   "cell_type": "code",
   "execution_count": 22,
   "metadata": {},
   "outputs": [
    {
     "name": "stderr",
     "output_type": "stream",
     "text": [
      "/usr/local/miniconda3/envs/nlp/lib/python3.8/site-packages/ipykernel/ipkernel.py:283: DeprecationWarning: `should_run_async` will not call `transform_cell` automatically in the future. Please pass the result to `transformed_cell` argument and any exception that happen during thetransform in `preprocessing_exc_tuple` in IPython 7.17 and above.\n",
      "  and should_run_async(code)\n"
     ]
    },
    {
     "data": {
      "text/html": [
       "\n",
       "<link rel=\"stylesheet\" type=\"text/css\" href=\"https://cdn.jsdelivr.net/gh/bmabey/pyLDAvis@3.3.1/pyLDAvis/js/ldavis.v1.0.0.css\">\n",
       "\n",
       "\n",
       "<div id=\"ldavis_el16575921405281907904484541311557\"></div>\n",
       "<script type=\"text/javascript\">\n",
       "\n",
       "var ldavis_el16575921405281907904484541311557_data = {\"mdsDat\": {\"x\": [-0.07466818605024175, -0.29706310069789016, 0.01674425656173766, 0.07533917925792435, 0.11910509725954276, -0.29944486584397256, 0.06038221730382894, 0.12461428893716396, 0.12666644788464132, 0.14832466538726552], \"y\": [0.022812960044837363, -0.04901419601835974, 0.29412183902519823, -0.06799141373243361, -0.08523457270656487, -0.08157784564294514, 0.31374996925988013, -0.1219490890073323, -0.12360110644234769, -0.1013165447799327], \"topics\": [1, 2, 3, 4, 5, 6, 7, 8, 9, 10], \"cluster\": [1, 1, 1, 1, 1, 1, 1, 1, 1, 1], \"Freq\": [17.851911770199884, 12.974550462982664, 11.40040058268103, 10.894410728665058, 10.369533733463323, 10.06120975508856, 9.08319448732624, 6.3510375473706056, 6.037445179577565, 4.97630575264507]}, \"tinfo\": {\"Term\": [\"new\", \"says\", \"coronavirus\", \"trump\", \"covid\", \"virus\", \"china\", \"cases\", \"police\", \"oil\", \"state\", \"stock\", \"security\", \"pandemic\", \"surge\", \"india\", \"amid\", \"end\", \"update\", \"million\", \"market\", \"uk\", \"eu\", \"rise\", \"set\", \"deal\", \"black\", \"warns\", \"year\", \"july\", \"trump\", \"china\", \"cases\", \"amid\", \"stocks\", \"global\", \"law\", \"hong_kong\", \"billion\", \"biden\", \"data\", \"time\", \"quarter\", \"russia\", \"plan\", \"economy\", \"court\", \"workers\", \"cuts\", \"election\", \"markets\", \"florida\", \"european\", \"protests\", \"news\", \"post\", \"despite\", \"energy\", \"jobs\", \"fight\", \"pandemic\", \"new\", \"virus\", \"million\", \"facebook\", \"york\", \"supreme_court\", \"people\", \"case\", \"ceo\", \"chief\", \"second\", \"times\", \"bill\", \"sources\", \"campaign\", \"government\", \"bans\", \"like\", \"kentucky\", \"bars\", \"exclusive\", \"financial\", \"spread\", \"mayor\", \"women\", \"official\", \"release\", \"found\", \"boeing\", \"couple\", \"coronavirus\", \"covid\", \"report\", \"city\", \"world\", \"shares\", \"iran\", \"high\", \"protesters\", \"demand\", \"reports\", \"house\", \"fears\", \"fall\", \"lockdown\", \"senate\", \"public\", \"test\", \"summer\", \"white_house\", \"japan\", \"watch\", \"won\", \"deaths\", \"change\", \"review\", \"tech\", \"republicans\", \"rally\", \"low\", \"response\", \"reform\", \"covid\", \"wirecard\", \"uk\", \"record\", \"plans\", \"years\", \"power\", \"cut\", \"close\", \"help\", \"travel\", \"risk\", \"ex\", \"support\", \"bank\", \"want\", \"apple\", \"family\", \"factbox\", \"stop\", \"racism\", \"tv\", \"netflix\", \"dies\", \"latest\", \"flag\", \"gains\", \"daily\", \"announces\", \"italy\", \"border\", \"urges\", \"police\", \"oil\", \"update\", \"eu\", \"hit\", \"best\", \"june\", \"man\", \"texas\", \"chinese\", \"face\", \"prices\", \"protest\", \"orders\", \"killed\", \"britain\", \"don\", \"shooting\", \"half\", \"return\", \"federal\", \"officers\", \"rebound\", \"money\", \"win\", \"killing\", \"star\", \"month\", \"run\", \"airlines\", \"reopening\", \"says\", \"state\", \"market\", \"july\", \"home\", \"recovery\", \"democrats\", \"americans\", \"vaccine\", \"american\", \"rules\", \"anti\", \"judge\", \"debt\", \"restrictions\", \"aid\", \"major\", \"life\", \"safe\", \"study\", \"months\", \"outbreak\", \"industry\", \"wants\", \"investors\", \"woman\", \"google\", \"way\", \"npr\", \"drug\", \"coronavirus\", \"black\", \"president\", \"calls\", \"california\", \"shows\", \"day\", \"dead\", \"europe\", \"work\", \"buy\", \"council_post\", \"group\", \"company\", \"list\", \"use\", \"hits\", \"leaders\", \"white\", \"head\", \"push\", \"pay\", \"claims\", \"takes\", \"build\", \"media\", \"firms\", \"south\", \"pakistan\", \"local\", \"administration\", \"covid\", \"stock\", \"surge\", \"rise\", \"deal\", \"warns\", \"year\", \"business\", \"crisis\", \"big\", \"states\", \"sales\", \"trade\", \"gop\", \"australia\", \"drop\", \"rising\", \"right\", \"hopes\", \"strong\", \"agency\", \"lead\", \"stimulus\", \"dollar\", \"russian\", \"mexico\", \"price\", \"extends\", \"soon\", \"johnson\", \"lower\", \"security\", \"india\", \"national\", \"economic\", \"vote\", \"death\", \"sees\", \"health\", \"brazil\", \"season\", \"spike\", \"amazon\", \"talks\", \"boost\", \"need\", \"online\", \"germany\", \"pm\", \"wins\", \"charged\", \"order\", \"likely\", \"free\", \"banks\", \"focus\", \"sale\", \"key\", \"tiktok\", \"issues\", \"today\", \"end\", \"set\", \"week\", \"officials\", \"washington_post\", \"america\", \"school\", \"german\", \"open\", \"job\", \"higher\", \"fed\", \"gold\", \"putin\", \"minister\", \"seeks\", \"history\", \"thousands\", \"led\", \"africa\", \"turn\", \"begins\", \"weeks\", \"experts\", \"past\", \"board\", \"justice\", \"stores\", \"drive\", \"protect\", \"reopening\"], \"Freq\": [45642.0, 39231.0, 63200.0, 40551.0, 40468.0, 19461.0, 22741.0, 21546.0, 15811.0, 13071.0, 12504.0, 9762.0, 8685.0, 22313.0, 8641.0, 8377.0, 13392.0, 7587.0, 9943.0, 10989.0, 9434.0, 9286.0, 9048.0, 7412.0, 6680.0, 7267.0, 8330.0, 7109.0, 7072.0, 8400.0, 40550.614091703406, 22741.08703099149, 21545.8704416288, 13391.510284254395, 10570.858119588514, 9120.085308934436, 8534.933480003827, 8388.885518943533, 8002.040858116765, 7965.3313288009795, 7400.7008741328755, 7029.362461611729, 6842.2244334023, 6332.297549223965, 5938.063404629784, 5546.6087430526795, 5356.122111936016, 5290.147309999784, 5014.8287570328785, 4991.991687089751, 4989.105575118312, 4918.096849415611, 4640.506678390556, 4447.335525605232, 4372.338423269119, 4340.586978281136, 4282.410998621012, 4146.815591989792, 4133.122684108675, 4115.604097877094, 19907.611519187823, 45641.43453060907, 19461.07832037621, 10988.256943389903, 7576.158678310635, 7553.636607092213, 7487.946329755727, 7322.059287989555, 5203.501557915142, 5200.56516638452, 5175.812888603295, 4777.428461528897, 4717.05270895688, 4343.608530178824, 4328.393753847531, 4236.977426662789, 4201.572544150228, 3563.2437545302714, 3361.9744432458388, 3352.1983275956395, 3315.1763804386283, 3253.209473944796, 2985.170821502139, 2783.857933093275, 2694.979678966646, 2672.032200792962, 2502.513653473479, 2458.442576447594, 2432.9871758748627, 2406.447293783843, 2395.455494138013, 28515.015962540147, 2923.777013082589, 8451.435341416149, 6343.51965289414, 6154.1811715747135, 5923.461661125167, 5562.610907519891, 5438.613943383031, 5282.21611402963, 5266.177327683379, 5118.495978072223, 4909.192424119079, 4481.805916542693, 4473.139938321489, 4221.589792283339, 4107.604547719349, 4077.439409676093, 3967.996404377509, 3746.998436728295, 3566.379746726264, 3549.746946587444, 3449.6274741508273, 3397.1688121963625, 3354.12847694254, 3316.639790454596, 3305.568987754, 3162.341499746428, 3148.24660801335, 3142.0450626242423, 3045.277732133425, 2809.3493209460457, 2751.317278013779, 25510.296943805268, 2999.619596723362, 9285.978689805255, 6783.280250566408, 6751.36213728961, 5593.74270733512, 5047.227692535322, 4939.1666351985505, 4770.743681926244, 4743.039227962162, 4609.968765562692, 4157.715983671813, 3864.51183113353, 3836.3888593743995, 3763.911703978616, 3595.663594624468, 3494.7533370807846, 3356.928860635105, 3330.695943719775, 3309.195877616217, 3124.236724545799, 3075.730393427365, 2964.6168856506224, 2907.5390490104464, 2836.480028109226, 2798.2016706285685, 2753.142573276626, 2746.3398790219526, 2719.5043043932424, 2657.778467666283, 2645.196628112217, 2629.255174537976, 15811.02654902877, 13070.649281973872, 9942.863884518805, 9047.783056553762, 8073.970417893067, 7532.213961701407, 6530.365921739943, 5984.89099088744, 5679.678997362998, 4937.136204973838, 4873.363385598082, 4845.12956022418, 4442.269955225823, 4003.262905936837, 3970.521051288505, 3565.1033947666806, 3248.7834183094524, 3089.480514949916, 3002.424494347493, 2959.2725296687513, 2936.5059087615136, 2935.5401445345938, 2817.7517366051143, 2754.917948801263, 2660.890541242294, 2563.0896876473826, 2492.3456695732134, 2468.024036479941, 2438.38260503885, 2402.7267027358407, 3440.3628022103135, 39230.97034456008, 12503.436523913377, 9433.790441756331, 8399.143454152054, 7311.250920768436, 5864.474641126416, 5301.966045607203, 5148.073449406968, 4883.441808259909, 4844.098555754207, 4278.192108973975, 3952.986946728277, 3854.5409557469734, 3428.8973414106717, 3353.6459504093073, 3333.3213127459553, 3331.316430720315, 3329.507360787559, 3111.0179625578594, 3096.2246511973885, 3057.0172981292853, 2895.220980605304, 2650.0421383908765, 2583.6788263331723, 2525.189279271571, 2486.116912338394, 2426.632596006418, 2389.7221991584697, 2382.3887440231388, 2325.580039199142, 30726.86868605408, 8329.553354881597, 6590.603209250228, 6515.048475606591, 5556.825300674527, 5517.454954083108, 5274.811813844246, 4944.435725056466, 4944.293577172263, 4702.091392202959, 4074.1123822682325, 3926.525609995265, 3868.3317173644673, 3736.5949288942893, 3721.021655241954, 3650.973750420889, 3533.178008505789, 3230.577484367381, 2946.5571068749846, 2813.8773931126143, 2810.9321944909716, 2788.180287781673, 2578.7895283524313, 2469.7238432699055, 2465.485461692444, 2451.949750983503, 2447.20049452755, 2413.7962364541827, 2388.5296973943, 2318.6798431636375, 2316.23925304044, 8316.80951672479, 9761.4493491096, 8640.78530105342, 7411.450372184471, 7266.942973786122, 7108.3271459860525, 7072.010969473441, 6565.129092284012, 5071.926408288824, 4900.527670083457, 4778.485835469278, 4707.510611794835, 3942.9951618990103, 3408.3177417040656, 3346.857751994542, 3286.375528559345, 3062.604723074863, 2903.2145228339477, 2822.6498103029985, 2784.9506940858737, 2691.9017049527524, 2684.7577848083283, 2636.588037061536, 2635.355451982226, 2531.4850807290477, 2513.2887120006812, 2357.013988732914, 2166.2195038763575, 2064.7561902579478, 1912.0894014819203, 1894.5455303179892, 8684.956218367424, 8376.300588762495, 5377.888648580526, 5128.40849259333, 4917.678759923756, 4738.549849935476, 4681.8905692442095, 4629.104445603369, 4452.5912538585635, 3944.3229133375826, 3804.461344502837, 3752.481945898536, 3744.6518902313896, 3496.888217134438, 3438.9432184161874, 3357.0615040825214, 3342.857224532918, 3160.3032406395064, 2940.5478331861323, 2480.246968743991, 2463.351121259978, 2415.107648762388, 2381.9481806979975, 2320.7773779273903, 2110.254149329669, 2022.537927700491, 1988.094276140436, 1950.154962234552, 1772.7257649013823, 1768.0544323460538, 7587.111288394264, 6679.481827288316, 5635.132994806065, 4681.046961445593, 4413.083454984574, 4144.838073775522, 3565.9743091705423, 3428.4844801496197, 3382.8507653326214, 3370.9621557675414, 3061.1070024585924, 2893.1517531546824, 2866.59535742229, 2748.1082229533204, 2629.159428239978, 2596.1802634091546, 2379.0127548108253, 2205.870287387359, 2177.5102546454427, 2095.6836414921727, 1972.2944160526183, 1929.5036610340421, 1836.0746495983096, 1740.644869518372, 1645.4597422646107, 1624.9410674972792, 1600.2383596110803, 1599.318833590096, 1590.93848050437, 1521.5795849722335, 2893.376168819462], \"Total\": [45642.0, 39231.0, 63200.0, 40551.0, 40468.0, 19461.0, 22741.0, 21546.0, 15811.0, 13071.0, 12504.0, 9762.0, 8685.0, 22313.0, 8641.0, 8377.0, 13392.0, 7587.0, 9943.0, 10989.0, 9434.0, 9286.0, 9048.0, 7412.0, 6680.0, 7267.0, 8330.0, 7109.0, 7072.0, 8400.0, 40551.50045034798, 22741.97344192269, 21546.756816297922, 13392.396694755593, 10571.744476865575, 9120.971690440056, 8535.82002030325, 8389.77202851254, 8002.927226446684, 7966.217742594663, 7401.587327526049, 7030.248877020573, 6843.111131812361, 6333.184035323506, 5938.949804026261, 5547.495173670278, 5357.008498255714, 5291.033691606514, 5015.715243075512, 4992.878024736457, 4989.991965397338, 4918.983208939952, 4641.393119688339, 4448.221914778919, 4373.224866952417, 4341.473404730332, 4283.297364277084, 4147.701981117317, 4134.009133117447, 4116.4904855643235, 22313.850315529813, 45642.3168247632, 19461.960599314985, 10989.139230353363, 7577.0410240225265, 7554.518876814114, 7488.828709321424, 7322.941545193934, 5204.383840013629, 5201.447447611728, 5176.695187341511, 4778.31074239066, 4717.935006160296, 4344.490793515867, 4329.276049220194, 4237.859742530417, 4202.454815126422, 3564.1262271775654, 3362.8567202616487, 3353.0807832395008, 3316.0588193024046, 3254.0917217248852, 2986.0531528085016, 2784.7402700977655, 2695.8619635662067, 2672.9144833841137, 2503.39592530907, 2459.324929170506, 2433.8695220834516, 2407.3298355652564, 2396.337947258593, 63200.475137253045, 40468.79526340191, 8452.322035561083, 6344.406342923421, 6155.06785474718, 5924.348355677453, 5563.497664140417, 5439.50062064127, 5283.1028220163935, 5267.063977294591, 5119.38269856686, 4910.079101917999, 4482.692561718729, 4474.026598115825, 4222.476428225385, 4108.491280725286, 4078.3261288607387, 3968.883125929132, 3747.8851348268454, 3567.266399881082, 3550.6336496195986, 3450.5141296624724, 3398.0555046854215, 3355.0151356963333, 3317.5264758366598, 3306.455674590567, 3163.2281455747234, 3149.133360540072, 3142.9316871239835, 3046.1644153232915, 2810.2360772431944, 2752.203908929881, 40468.79526340191, 3351.083707417475, 9286.864492096336, 6784.166000110678, 6752.247933031665, 5594.628516466104, 5048.113514509681, 4940.0524684658285, 4771.629502392008, 4743.925009797529, 4610.854605881728, 4158.601788227183, 3865.397635387727, 3837.274649157736, 3764.7974354198686, 3596.549388286037, 3495.639061116072, 3357.8146506554126, 3331.5817613813315, 3310.081674662934, 3125.1224920305053, 3076.616253074887, 2965.502719115708, 2908.424835045406, 2837.3657997716377, 2799.0874952136555, 2754.028358446172, 2747.22568696563, 2720.390050335015, 2658.664277322646, 2646.0824796474258, 2630.1409633743538, 15811.909903156315, 13071.532650433654, 9943.747275104142, 9048.666487656119, 8074.853810823724, 7533.097485759188, 6531.249375428628, 5985.774347743461, 5680.562373538968, 4938.019626233434, 4874.24679620896, 4846.012945884431, 4443.153362552383, 4004.146312793472, 3971.404453663873, 3565.9868608432944, 3249.6668376825332, 3090.3638767055945, 3003.3079537949234, 2960.155902698702, 2937.3893143968526, 2936.4235303217165, 2818.6352388671444, 2755.8013814070114, 2661.7739590174565, 2563.9731061905013, 2493.2290314541297, 2468.9073995978283, 2439.266000823566, 2403.610168357912, 6755.683673877089, 39231.85276099679, 12504.318966339668, 9434.672907366277, 8400.025924585138, 7312.133337402396, 5865.357033011121, 5302.848485751643, 5148.955867184856, 4884.32425001498, 4844.981045495652, 4279.074511365671, 3953.869423076527, 3855.423380126393, 3429.779824715255, 3354.5283838506166, 3334.203792673855, 3332.1988643030368, 3330.389806397518, 3111.900520105497, 3097.1070753925687, 3057.8997486784315, 2896.1033405202597, 2650.9245498082164, 2584.5612327731274, 2526.0716345922515, 2486.999321345733, 2427.5149846797744, 2390.6046365899, 2383.27117750517, 2326.4624806713246, 63200.475137253045, 8330.435423887351, 6591.485278465231, 6515.930611028507, 5557.707372682971, 5518.337065891382, 5275.69390884367, 4945.317834588748, 4945.175689953398, 4702.973499190616, 4074.9945114194547, 3927.407703043654, 3869.213813787657, 3737.476995604465, 3721.9039090057336, 3651.85583581318, 3534.060066078466, 3231.459562096141, 2947.439179001234, 2814.7595624480323, 2811.814289747685, 2789.062349609091, 2579.671572667355, 2470.605945270205, 2466.3675836905827, 2452.831895273422, 2448.082623444216, 2414.6783241154876, 2389.411788429378, 2319.561965011945, 2317.1212690564716, 40468.79526340191, 9762.336601812738, 8641.67253337027, 7412.337591658976, 7267.830191872692, 7109.214459912217, 7072.89821416747, 6566.016325373623, 5072.8136861607245, 4901.414894306826, 4779.373069984525, 4708.397839185119, 3943.882338247155, 3409.2050051982596, 3347.7450184147906, 3287.2627736324016, 3063.4919487736524, 2904.1017610414087, 2823.537022894357, 2785.8381021706136, 2692.7890446321903, 2685.645026006124, 2637.4752821575335, 2636.2426620881965, 2532.3724097516556, 2514.1759004797104, 2357.90127067557, 2167.1068248972297, 2065.6434935278608, 1912.976753366138, 1895.4327568803733, 8685.846831404508, 8377.191133998716, 5378.779240724974, 5129.298984222257, 4918.5692602017, 4739.440336608289, 4682.781074220436, 4629.994960394272, 4453.481766104753, 3945.213476156132, 3805.351869069579, 3753.372401186588, 3745.5423567816524, 3497.7787828813625, 3439.833772885742, 3357.9520390268867, 3343.747700365249, 3161.1938078102535, 2941.4384099466797, 2481.1374262243976, 2464.2416340656187, 2415.9982325774336, 2382.83868140809, 2321.667897570691, 2111.1446807682405, 2023.4284375629104, 1988.9847473947787, 1951.0455414433204, 1773.6162614851294, 1768.944924035931, 7587.992361540223, 6680.362850731841, 5636.0139969831425, 4681.9280143234755, 4413.964483425317, 4145.719090335258, 3566.8553906628326, 3429.365454027114, 3383.7317983047374, 3371.843227492251, 3061.988036629988, 2894.032807851718, 2867.476400896999, 2748.9893113200524, 2630.04050382995, 2597.0612678659163, 2379.8937290634476, 2206.7514084147747, 2178.3913429998815, 2096.564705352208, 1973.175490542688, 1930.3847561766102, 1836.9557053139974, 1741.5259392454236, 1646.3407700456494, 1625.8220853118225, 1601.119346776524, 1600.1998336469585, 1591.819534665931, 1522.4606513628867, 6755.683673877089], \"Category\": [\"Default\", \"Default\", \"Default\", \"Default\", \"Default\", \"Default\", \"Default\", \"Default\", \"Default\", \"Default\", \"Default\", \"Default\", \"Default\", \"Default\", \"Default\", \"Default\", \"Default\", \"Default\", \"Default\", \"Default\", \"Default\", \"Default\", \"Default\", \"Default\", \"Default\", \"Default\", \"Default\", \"Default\", \"Default\", \"Default\", \"Topic1\", \"Topic1\", \"Topic1\", \"Topic1\", \"Topic1\", \"Topic1\", \"Topic1\", \"Topic1\", \"Topic1\", \"Topic1\", \"Topic1\", \"Topic1\", \"Topic1\", \"Topic1\", \"Topic1\", \"Topic1\", \"Topic1\", \"Topic1\", \"Topic1\", \"Topic1\", \"Topic1\", \"Topic1\", \"Topic1\", \"Topic1\", \"Topic1\", \"Topic1\", \"Topic1\", \"Topic1\", \"Topic1\", \"Topic1\", \"Topic1\", \"Topic2\", \"Topic2\", \"Topic2\", \"Topic2\", \"Topic2\", \"Topic2\", \"Topic2\", \"Topic2\", \"Topic2\", \"Topic2\", \"Topic2\", \"Topic2\", \"Topic2\", \"Topic2\", \"Topic2\", \"Topic2\", \"Topic2\", \"Topic2\", \"Topic2\", \"Topic2\", \"Topic2\", \"Topic2\", \"Topic2\", \"Topic2\", \"Topic2\", \"Topic2\", \"Topic2\", \"Topic2\", \"Topic2\", \"Topic2\", \"Topic2\", \"Topic2\", \"Topic3\", \"Topic3\", \"Topic3\", \"Topic3\", \"Topic3\", \"Topic3\", \"Topic3\", \"Topic3\", \"Topic3\", \"Topic3\", \"Topic3\", \"Topic3\", \"Topic3\", \"Topic3\", \"Topic3\", \"Topic3\", \"Topic3\", \"Topic3\", \"Topic3\", \"Topic3\", \"Topic3\", \"Topic3\", \"Topic3\", \"Topic3\", \"Topic3\", \"Topic3\", \"Topic3\", \"Topic3\", \"Topic3\", \"Topic3\", \"Topic3\", \"Topic3\", \"Topic4\", \"Topic4\", \"Topic4\", \"Topic4\", \"Topic4\", \"Topic4\", \"Topic4\", \"Topic4\", \"Topic4\", \"Topic4\", \"Topic4\", \"Topic4\", \"Topic4\", \"Topic4\", \"Topic4\", \"Topic4\", \"Topic4\", \"Topic4\", \"Topic4\", \"Topic4\", \"Topic4\", \"Topic4\", \"Topic4\", \"Topic4\", \"Topic4\", \"Topic4\", \"Topic4\", \"Topic4\", \"Topic4\", \"Topic4\", \"Topic5\", \"Topic5\", \"Topic5\", \"Topic5\", \"Topic5\", \"Topic5\", \"Topic5\", \"Topic5\", \"Topic5\", \"Topic5\", \"Topic5\", \"Topic5\", \"Topic5\", \"Topic5\", \"Topic5\", \"Topic5\", \"Topic5\", \"Topic5\", \"Topic5\", \"Topic5\", \"Topic5\", \"Topic5\", \"Topic5\", \"Topic5\", \"Topic5\", \"Topic5\", \"Topic5\", \"Topic5\", \"Topic5\", \"Topic5\", \"Topic5\", \"Topic6\", \"Topic6\", \"Topic6\", \"Topic6\", \"Topic6\", \"Topic6\", \"Topic6\", \"Topic6\", \"Topic6\", \"Topic6\", \"Topic6\", \"Topic6\", \"Topic6\", \"Topic6\", \"Topic6\", \"Topic6\", \"Topic6\", \"Topic6\", \"Topic6\", \"Topic6\", \"Topic6\", \"Topic6\", \"Topic6\", \"Topic6\", \"Topic6\", \"Topic6\", \"Topic6\", \"Topic6\", \"Topic6\", \"Topic6\", \"Topic6\", \"Topic7\", \"Topic7\", \"Topic7\", \"Topic7\", \"Topic7\", \"Topic7\", \"Topic7\", \"Topic7\", \"Topic7\", \"Topic7\", \"Topic7\", \"Topic7\", \"Topic7\", \"Topic7\", \"Topic7\", \"Topic7\", \"Topic7\", \"Topic7\", \"Topic7\", \"Topic7\", \"Topic7\", \"Topic7\", \"Topic7\", \"Topic7\", \"Topic7\", \"Topic7\", \"Topic7\", \"Topic7\", \"Topic7\", \"Topic7\", \"Topic7\", \"Topic8\", \"Topic8\", \"Topic8\", \"Topic8\", \"Topic8\", \"Topic8\", \"Topic8\", \"Topic8\", \"Topic8\", \"Topic8\", \"Topic8\", \"Topic8\", \"Topic8\", \"Topic8\", \"Topic8\", \"Topic8\", \"Topic8\", \"Topic8\", \"Topic8\", \"Topic8\", \"Topic8\", \"Topic8\", \"Topic8\", \"Topic8\", \"Topic8\", \"Topic8\", \"Topic8\", \"Topic8\", \"Topic8\", \"Topic8\", \"Topic9\", \"Topic9\", \"Topic9\", \"Topic9\", \"Topic9\", \"Topic9\", \"Topic9\", \"Topic9\", \"Topic9\", \"Topic9\", \"Topic9\", \"Topic9\", \"Topic9\", \"Topic9\", \"Topic9\", \"Topic9\", \"Topic9\", \"Topic9\", \"Topic9\", \"Topic9\", \"Topic9\", \"Topic9\", \"Topic9\", \"Topic9\", \"Topic9\", \"Topic9\", \"Topic9\", \"Topic9\", \"Topic9\", \"Topic9\", \"Topic10\", \"Topic10\", \"Topic10\", \"Topic10\", \"Topic10\", \"Topic10\", \"Topic10\", \"Topic10\", \"Topic10\", \"Topic10\", \"Topic10\", \"Topic10\", \"Topic10\", \"Topic10\", \"Topic10\", \"Topic10\", \"Topic10\", \"Topic10\", \"Topic10\", \"Topic10\", \"Topic10\", \"Topic10\", \"Topic10\", \"Topic10\", \"Topic10\", \"Topic10\", \"Topic10\", \"Topic10\", \"Topic10\", \"Topic10\", \"Topic10\"], \"logprob\": [30.0, 29.0, 28.0, 27.0, 26.0, 25.0, 24.0, 23.0, 22.0, 21.0, 20.0, 19.0, 18.0, 17.0, 16.0, 15.0, 14.0, 13.0, 12.0, 11.0, 10.0, 9.0, 8.0, 7.0, 6.0, 5.0, 4.0, 3.0, 2.0, 1.0, -2.8428, -3.4212, -3.4752, -3.9507, -4.1872, -4.3349, -4.4012, -4.4184, -4.4657, -4.4703, -4.5438, -4.5953, -4.6222, -4.6997, -4.764, -4.8322, -4.8671, -4.8795, -4.933, -4.9375, -4.9381, -4.9524, -5.0105, -5.053, -5.0701, -5.0773, -5.0908, -5.123, -5.1263, -5.1306, -3.5542, -2.4054, -3.2578, -3.8294, -4.2012, -4.2042, -4.2129, -4.2353, -4.5769, -4.5775, -4.5822, -4.6623, -4.675, -4.7575, -4.761, -4.7824, -4.7908, -4.9556, -5.0137, -5.0166, -5.0277, -5.0466, -5.1326, -5.2024, -5.2348, -5.2434, -5.3089, -5.3267, -5.3371, -5.3481, -5.3527, -2.8758, -5.1534, -3.9626, -4.2495, -4.2798, -4.318, -4.3808, -4.4034, -4.4325, -4.4356, -4.464, -4.5058, -4.5969, -4.5988, -4.6567, -4.684, -4.6914, -4.7186, -4.7759, -4.8253, -4.83, -4.8586, -4.8739, -4.8867, -4.8979, -4.9013, -4.9456, -4.95, -4.952, -4.9833, -5.0639, -5.0848, -2.8578, -4.9984, -3.823, -4.137, -4.1417, -4.3298, -4.4326, -4.4543, -4.489, -4.4948, -4.5233, -4.6265, -4.6997, -4.707, -4.726, -4.7718, -4.8002, -4.8405, -4.8483, -4.8548, -4.9123, -4.9279, -4.9647, -4.9842, -5.0089, -5.0225, -5.0387, -5.0412, -5.051, -5.074, -5.0787, -5.0848, -3.2414, -3.4317, -3.7053, -3.7996, -3.9135, -3.9829, -4.1256, -4.2129, -4.2652, -4.4053, -4.4183, -4.4241, -4.5109, -4.615, -4.6232, -4.7309, -4.8238, -4.8741, -4.9027, -4.9172, -4.9249, -4.9252, -4.9662, -4.9887, -5.0234, -5.0609, -5.0889, -5.0987, -5.1108, -5.1255, -4.7665, -2.3025, -3.4459, -3.7276, -3.8438, -3.9825, -4.203, -4.3038, -4.3333, -4.3861, -4.3942, -4.5184, -4.5975, -4.6227, -4.7397, -4.7619, -4.768, -4.7686, -4.7691, -4.837, -4.8417, -4.8545, -4.9089, -4.9974, -5.0227, -5.0456, -5.0612, -5.0854, -5.1007, -5.1038, -5.128, -2.5468, -3.7499, -3.984, -3.9956, -4.1546, -4.1617, -4.2067, -4.2714, -4.2714, -4.3217, -4.465, -4.5019, -4.5168, -4.5515, -4.5557, -4.5747, -4.6075, -4.697, -4.789, -4.8351, -4.8361, -4.8443, -4.9223, -4.9656, -4.9673, -4.9728, -4.9747, -4.9885, -4.999, -5.0287, -5.0297, -3.7514, -3.2334, -3.3554, -3.5088, -3.5285, -3.5506, -3.5557, -3.6301, -3.8881, -3.9225, -3.9477, -3.9627, -4.1399, -4.2856, -4.3038, -4.3221, -4.3926, -4.446, -4.4742, -4.4876, -4.5216, -4.5243, -4.5424, -4.5428, -4.5831, -4.5903, -4.6545, -4.7389, -4.7868, -4.8637, -4.8729, -3.2996, -3.3358, -3.7789, -3.8264, -3.8684, -3.9055, -3.9175, -3.9289, -3.9677, -4.0889, -4.125, -4.1388, -4.1409, -4.2093, -4.2261, -4.2502, -4.2544, -4.3106, -4.3826, -4.5529, -4.5597, -4.5795, -4.5933, -4.6193, -4.7144, -4.7569, -4.774, -4.7933, -4.8887, -4.8913, -3.2415, -3.3689, -3.5389, -3.7244, -3.7834, -3.8461, -3.9965, -4.0358, -4.0492, -4.0527, -4.1491, -4.2056, -4.2148, -4.257, -4.3013, -4.3139, -4.4012, -4.4768, -4.4897, -4.528, -4.5887, -4.6107, -4.6603, -4.7137, -4.7699, -4.7825, -4.7978, -4.7983, -4.8036, -4.8482, -4.2055], \"loglift\": [30.0, 29.0, 28.0, 27.0, 26.0, 25.0, 24.0, 23.0, 22.0, 21.0, 20.0, 19.0, 18.0, 17.0, 16.0, 15.0, 14.0, 13.0, 12.0, 11.0, 10.0, 9.0, 8.0, 7.0, 6.0, 5.0, 4.0, 3.0, 2.0, 1.0, 1.723, 1.723, 1.723, 1.723, 1.723, 1.723, 1.723, 1.723, 1.7229, 1.7229, 1.7229, 1.7229, 1.7229, 1.7229, 1.7229, 1.7229, 1.7229, 1.7229, 1.7229, 1.7229, 1.7229, 1.7229, 1.7229, 1.7229, 1.7229, 1.7229, 1.7229, 1.7228, 1.7228, 1.7228, 1.609, 2.0422, 2.0421, 2.0421, 2.0421, 2.0421, 2.0421, 2.0421, 2.042, 2.042, 2.042, 2.042, 2.042, 2.042, 2.042, 2.042, 2.042, 2.0419, 2.0419, 2.0419, 2.0419, 2.0419, 2.0419, 2.0419, 2.0419, 2.0419, 2.0418, 2.0418, 2.0418, 2.0418, 2.0418, 1.2463, -0.5855, 2.1714, 2.1714, 2.1714, 2.1714, 2.1714, 2.1714, 2.1714, 2.1714, 2.1713, 2.1713, 2.1713, 2.1713, 2.1713, 2.1713, 2.1713, 2.1713, 2.1713, 2.1713, 2.1713, 2.1713, 2.1713, 2.1713, 2.1713, 2.1713, 2.1712, 2.1712, 2.1712, 2.1712, 2.1712, 2.1712, 1.7101, 2.0607, 2.2168, 2.2168, 2.2168, 2.2168, 2.2167, 2.2167, 2.2167, 2.2167, 2.2167, 2.2167, 2.2167, 2.2167, 2.2167, 2.2167, 2.2167, 2.2167, 2.2167, 2.2167, 2.2166, 2.2166, 2.2166, 2.2166, 2.2166, 2.2166, 2.2166, 2.2166, 2.2166, 2.2166, 2.2166, 2.2166, 2.2662, 2.2662, 2.2662, 2.2662, 2.2662, 2.2662, 2.2662, 2.2662, 2.2661, 2.2661, 2.2661, 2.2661, 2.2661, 2.2661, 2.2661, 2.2661, 2.266, 2.266, 2.266, 2.266, 2.266, 2.266, 2.266, 2.266, 2.266, 2.266, 2.2659, 2.2659, 2.2659, 2.2659, 1.5915, 2.2965, 2.2964, 2.2964, 2.2964, 2.2964, 2.2963, 2.2963, 2.2963, 2.2963, 2.2963, 2.2963, 2.2963, 2.2963, 2.2962, 2.2962, 2.2962, 2.2962, 2.2962, 2.2962, 2.2962, 2.2962, 2.2962, 2.2961, 2.2961, 2.2961, 2.2961, 2.2961, 2.2961, 2.2961, 2.2961, 1.5753, 2.3986, 2.3986, 2.3986, 2.3986, 2.3986, 2.3986, 2.3986, 2.3986, 2.3986, 2.3985, 2.3985, 2.3985, 2.3985, 2.3985, 2.3985, 2.3985, 2.3985, 2.3984, 2.3984, 2.3984, 2.3984, 2.3984, 2.3984, 2.3984, 2.3984, 2.3984, 2.3984, 2.3984, 2.3984, 2.3984, 0.8165, 2.7565, 2.7564, 2.7564, 2.7564, 2.7564, 2.7564, 2.7564, 2.7564, 2.7564, 2.7564, 2.7564, 2.7563, 2.7563, 2.7563, 2.7563, 2.7563, 2.7562, 2.7562, 2.7562, 2.7562, 2.7562, 2.7562, 2.7562, 2.7562, 2.7562, 2.7562, 2.7561, 2.7561, 2.7561, 2.7561, 2.8071, 2.8071, 2.807, 2.807, 2.807, 2.807, 2.807, 2.807, 2.807, 2.807, 2.807, 2.807, 2.807, 2.8069, 2.8069, 2.8069, 2.8069, 2.8069, 2.8069, 2.8068, 2.8068, 2.8068, 2.8068, 2.8068, 2.8068, 2.8067, 2.8067, 2.8067, 2.8067, 2.8067, 3.0004, 3.0004, 3.0003, 3.0003, 3.0003, 3.0003, 3.0002, 3.0002, 3.0002, 3.0002, 3.0002, 3.0002, 3.0002, 3.0002, 3.0001, 3.0001, 3.0001, 3.0001, 3.0001, 3.0001, 3.0, 3.0, 3.0, 3.0, 2.9999, 2.9999, 2.9999, 2.9999, 2.9999, 2.9999, 2.1525]}, \"token.table\": {\"Topic\": [7, 10, 8, 6, 5, 9, 10, 6, 6, 1, 4, 6, 4, 8, 4, 9, 2, 2, 10, 5, 1, 8, 2, 1, 7, 10, 2, 9, 4, 9, 5, 7, 8, 7, 7, 7, 2, 2, 1, 2, 3, 9, 2, 1, 5, 3, 7, 4, 7, 1, 2, 4, 5, 6, 7, 8, 9, 7, 2, 1, 1, 2, 3, 4, 5, 6, 7, 8, 9, 10, 8, 4, 1, 4, 1, 7, 7, 8, 9, 3, 6, 3, 6, 1, 4, 8, 5, 10, 8, 6, 9, 1, 1, 10, 1, 5, 7, 1, 4, 2, 10, 8, 5, 2, 4, 3, 4, 3, 10, 5, 1, 2, 7, 4, 1, 9, 2, 9, 4, 10, 9, 1, 10, 6, 8, 2, 7, 5, 7, 9, 4, 3, 10, 10, 5, 7, 6, 1, 8, 3, 9, 6, 6, 3, 9, 4, 3, 10, 1, 8, 6, 6, 5, 10, 2, 9, 5, 5, 4, 1, 8, 7, 10, 6, 2, 9, 7, 7, 3, 3, 8, 6, 5, 6, 1, 2, 7, 8, 2, 10, 5, 5, 6, 9, 9, 4, 2, 1, 6, 5, 2, 10, 5, 9, 10, 9, 5, 6, 7, 1, 2, 3, 4, 5, 6, 7, 8, 9, 10, 10, 7, 2, 1, 4, 9, 5, 1, 4, 7, 8, 5, 10, 5, 3, 1, 3, 7, 10, 1, 4, 3, 5, 4, 6, 3, 2, 1, 3, 4, 5, 7, 10, 3, 3, 3, 3, 6, 5, 3, 8, 8, 8, 4, 6, 5, 1, 8, 6, 9, 8, 6, 10, 9, 2, 9, 10, 9, 3, 10, 3, 5, 7, 8, 2, 7, 9, 2, 5, 6, 8, 8, 8, 1, 4, 10, 8, 6, 3, 4, 2, 8, 7, 9, 3, 3, 5, 10, 9, 1, 2, 9, 8, 4, 1, 10, 4, 4, 5, 4, 7, 6, 2, 9, 4, 6, 8, 10, 3, 6, 10, 10, 7, 3, 5, 9, 1, 3, 8, 6, 2, 3, 7, 1, 3, 8, 4, 2], \"Freq\": [0.999516093925922, 0.9997306520753848, 0.9997069786681718, 0.9996389564799548, 0.9997461450421768, 0.9996343551771857, 0.9998265462952048, 0.9997975130374216, 0.9998143570833559, 0.9999703791065457, 0.9998566197023964, 0.9997801082981009, 0.9998171833233069, 0.9997774566429962, 0.9997881863676472, 0.9997123199354266, 0.9996840102999222, 0.9996806994808894, 0.9998006842027845, 0.9998543114885659, 0.9998471366671097, 0.9999153521348891, 0.9998870308307248, 0.9998841390880553, 0.9999477309570034, 0.9994943571506074, 0.99944758896533, 0.9997773493037427, 0.9995909123560011, 0.9998918225940837, 0.9997232572968424, 0.9994455069472912, 0.9998452143090636, 0.9997559477892135, 0.9998727222151983, 0.9998571791070132, 0.9997971281300821, 0.9999262467901238, 0.9999648756281804, 0.9999139763275059, 0.9998413047068367, 0.999541570647246, 0.9998657082721016, 0.999957196242218, 0.9997935151516982, 0.9999359525696404, 0.9997396673768588, 0.9998680739165325, 0.9998723749724677, 0.05871791298943224, 0.4511833168670602, 0.0010917639440233965, 0.00194618790021562, 0.48618305373923054, 0.0002689853195419963, 0.0002531626536865847, 0.00034809864881905396, 0.9998961902928138, 0.9994416700448601, 0.9998117422707017, 0.05866248264985874, 0.07225320103967436, 0.6303622293167214, 0.006572965621256287, 0.006054047282736053, 0.018681060186728392, 0.20551637245108473, 0.0004942079414478411, 0.0012355198536196028, 0.00012355198536196028, 0.9998395986505587, 0.999786951966088, 0.9998573995849346, 0.9995538455499141, 0.9999206484366042, 0.9998684706020364, 0.9997335187276476, 0.9998857717020383, 0.9999070910113822, 0.9996974273869788, 0.9997726312605738, 0.9997979942337558, 0.9998399943438092, 0.9996971108548512, 0.9998539295084106, 0.9995286237848786, 0.9997947981390582, 0.9994851585571833, 0.999615858627874, 0.9998012086267598, 0.9997467520949251, 0.9999107392336946, 0.9998241445650972, 0.999869219486138, 0.9998307542054582, 0.9999263441019703, 0.9997622551700667, 0.9999153013592684, 0.9998971294999287, 0.9996645080046156, 0.9996980009119752, 0.999489261496243, 0.9997442074106855, 0.9998626081052978, 0.9998253798276617, 0.999770542688267, 0.9997573866516862, 0.9998455031860441, 0.9996431250368288, 0.9998674624453271, 0.9998808486097457, 0.9996473094233065, 0.999557766787016, 0.9996114822364377, 0.9998001194762841, 0.9994577914158759, 0.9996427408800833, 0.9996480326533921, 0.9996265984542176, 0.9996018347868085, 0.9997763885220265, 0.9998934663462365, 0.9998338605692273, 0.9997878552004726, 0.9996465436380557, 0.9998917739401303, 0.9996862892964634, 0.9995644956111575, 0.9997301501491759, 0.9997851055124718, 0.9998050117159064, 0.9999079656982903, 0.9996773218516309, 0.9996244668186091, 0.9998942629992161, 0.9997000429934281, 0.9998450059168644, 0.9999079797985075, 0.9998098049042734, 0.9997802271825769, 0.9998578122452187, 0.9996512349594094, 0.9995757703077076, 0.9999105483329983, 0.999652539560833, 0.9997501462187942, 0.9998215390034209, 0.9997499209081324, 0.9997558948021273, 0.9994894065678429, 0.9998901858279494, 0.9998778664977527, 0.9998087080500512, 0.9993008973511078, 0.999677674559795, 0.9995048994739308, 0.9998981585309198, 0.9996204694237425, 0.999518638107308, 0.9999039318657962, 0.9997598245487106, 0.99985778497694, 0.9998203522975158, 0.999882954722967, 0.9997452403319812, 0.9995868239620488, 0.9997571380057538, 0.9997577279588035, 0.9998871685293019, 0.9996177437706796, 0.9997716843930219, 0.9996402182607167, 0.9998706353266136, 0.999928677191792, 0.9998012090191293, 0.9996802642057139, 0.9996608429321939, 0.9995322918816117, 0.9998963312476544, 0.9996043772601848, 0.9997092020446691, 0.9996324691651148, 0.9997057625323328, 0.9998551268438246, 0.9997576124485101, 0.999830477607568, 0.9999711490376737, 0.9997199167685904, 0.9994666248989339, 0.9998557666095019, 0.999841844709793, 0.9998017879983125, 0.9999592511109525, 0.9997164822439922, 0.9997837304052573, 0.999496139482243, 0.9997137185547367, 0.999619025845928, 0.9998276611711, 0.892181300783603, 0.04051295438559258, 0.030205454929081197, 0.00708080397447304, 0.002464836826557071, 0.0047504127930009, 0.0018374238161607255, 0.0011651955907360698, 0.0007618586554812765, 0.01904646638703191, 0.9991856059996544, 0.9996191015201793, 0.9998714252751953, 0.999840072056912, 0.9998151825815578, 0.9996223553876058, 0.9999424545698852, 0.9998909575883118, 0.9997794196769781, 0.9999263779793582, 0.9996177657280317, 0.9997909733432943, 0.9996974297086271, 0.9997404180188547, 0.9997912548641307, 0.9997253026484898, 0.9996748350134742, 0.9997104041505678, 0.9996401181641636, 0.9998376276826493, 0.9996408166293104, 0.9997035611280384, 0.9997746289202715, 0.9998281291892535, 0.9997686359068199, 0.9995625655039676, 0.9994612630666282, 0.00843733998683329, 0.01080571612348825, 0.0034045406964415036, 0.5092008693808162, 0.0398183237975115, 0.42823201020892476, 0.9998435890687174, 0.9997299091221981, 0.9996401039872514, 0.9995601518131505, 0.999842486397444, 0.9996095128984092, 0.9998621863906815, 0.9996206189961423, 0.9998195452321976, 0.999839415679271, 0.9998552907304358, 0.9997488916440185, 0.9994809910755372, 0.9998130426469685, 0.9994580537418704, 0.999710620535689, 0.9997882615688517, 0.9999155043395425, 0.9999782635553313, 0.99976018353167, 0.9996924181255423, 0.9997256891689709, 0.9999025044510979, 0.9995913581712347, 0.999833202917656, 0.9998804230819253, 0.9997959915108965, 0.9997724043900692, 0.9995586679239054, 0.9997577049253396, 0.9996884779344175, 0.9997052511307465, 0.9997190830311793, 0.9996447453176229, 0.9997341690692972, 0.9995070523250674, 0.9998945191382899, 0.9997127091849876, 0.999819796545299, 0.9998630858710107, 0.9999295786171143, 0.9996732181350044, 0.9992501976179913, 0.999699156182134, 0.9996425453283921, 0.9997638308552681, 0.9996678243612258, 0.9998893405960277, 0.9999221755548277, 0.9997547381963663, 0.9998551993997157, 0.9996117429669303, 0.9997774875447044, 0.9999010003760213, 0.9996594956677451, 0.9994641122305392, 0.9998223566416468, 0.9998018187704842, 0.9994658261978133, 0.9997762767315347, 0.9998146534742957, 0.9999876588944324, 0.9994042645733631, 0.9997996977769746, 0.9999069123817762, 0.9999248497489459, 0.9995661968730034, 0.999765643592831, 0.9997288775381823, 0.9999506422125313, 0.9998842630505773, 0.9998472457273001, 0.9997828518179369, 0.9998291710119219, 0.9997814927082131, 0.9998509991140008, 0.9997470779648605, 0.9998200861488837, 0.9994797341540502, 0.99985099641602, 0.9996449943068103, 0.9997092318771718, 0.9998509538920831, 0.0895232784952412, 0.895232784952412, 0.014920546415873533, 0.9995981818985008, 0.999657870317289, 0.9996893797985448, 0.9997930034709352, 0.9998046333350411, 0.9998265080463157, 0.9998730062076009, 0.9998876571582449, 0.9999313157035444], \"Term\": [\"administration\", \"africa\", \"agency\", \"aid\", \"airlines\", \"amazon\", \"america\", \"american\", \"americans\", \"amid\", \"announces\", \"anti\", \"apple\", \"australia\", \"bank\", \"banks\", \"bans\", \"bars\", \"begins\", \"best\", \"biden\", \"big\", \"bill\", \"billion\", \"black\", \"board\", \"boeing\", \"boost\", \"border\", \"brazil\", \"britain\", \"build\", \"business\", \"buy\", \"california\", \"calls\", \"campaign\", \"case\", \"cases\", \"ceo\", \"change\", \"charged\", \"chief\", \"china\", \"chinese\", \"city\", \"claims\", \"close\", \"company\", \"coronavirus\", \"coronavirus\", \"coronavirus\", \"coronavirus\", \"coronavirus\", \"coronavirus\", \"coronavirus\", \"coronavirus\", \"council_post\", \"couple\", \"court\", \"covid\", \"covid\", \"covid\", \"covid\", \"covid\", \"covid\", \"covid\", \"covid\", \"covid\", \"covid\", \"crisis\", \"cut\", \"cuts\", \"daily\", \"data\", \"day\", \"dead\", \"deal\", \"death\", \"deaths\", \"debt\", \"demand\", \"democrats\", \"despite\", \"dies\", \"dollar\", \"don\", \"drive\", \"drop\", \"drug\", \"economic\", \"economy\", \"election\", \"end\", \"energy\", \"eu\", \"europe\", \"european\", \"ex\", \"exclusive\", \"experts\", \"extends\", \"face\", \"facebook\", \"factbox\", \"fall\", \"family\", \"fears\", \"fed\", \"federal\", \"fight\", \"financial\", \"firms\", \"flag\", \"florida\", \"focus\", \"found\", \"free\", \"gains\", \"german\", \"germany\", \"global\", \"gold\", \"google\", \"gop\", \"government\", \"group\", \"half\", \"head\", \"health\", \"help\", \"high\", \"higher\", \"history\", \"hit\", \"hits\", \"home\", \"hong_kong\", \"hopes\", \"house\", \"india\", \"industry\", \"investors\", \"iran\", \"issues\", \"italy\", \"japan\", \"job\", \"jobs\", \"johnson\", \"judge\", \"july\", \"june\", \"justice\", \"kentucky\", \"key\", \"killed\", \"killing\", \"latest\", \"law\", \"lead\", \"leaders\", \"led\", \"life\", \"like\", \"likely\", \"list\", \"local\", \"lockdown\", \"low\", \"lower\", \"major\", \"man\", \"market\", \"markets\", \"mayor\", \"media\", \"mexico\", \"million\", \"minister\", \"money\", \"month\", \"months\", \"national\", \"need\", \"netflix\", \"new\", \"news\", \"npr\", \"officers\", \"official\", \"officials\", \"oil\", \"online\", \"open\", \"order\", \"orders\", \"outbreak\", \"pakistan\", \"pandemic\", \"pandemic\", \"pandemic\", \"pandemic\", \"pandemic\", \"pandemic\", \"pandemic\", \"pandemic\", \"pandemic\", \"pandemic\", \"past\", \"pay\", \"people\", \"plan\", \"plans\", \"pm\", \"police\", \"post\", \"power\", \"president\", \"price\", \"prices\", \"protect\", \"protest\", \"protesters\", \"protests\", \"public\", \"push\", \"putin\", \"quarter\", \"racism\", \"rally\", \"rebound\", \"record\", \"recovery\", \"reform\", \"release\", \"reopening\", \"reopening\", \"reopening\", \"reopening\", \"reopening\", \"reopening\", \"report\", \"reports\", \"republicans\", \"response\", \"restrictions\", \"return\", \"review\", \"right\", \"rise\", \"rising\", \"risk\", \"rules\", \"run\", \"russia\", \"russian\", \"safe\", \"sale\", \"sales\", \"says\", \"school\", \"season\", \"second\", \"security\", \"seeks\", \"sees\", \"senate\", \"set\", \"shares\", \"shooting\", \"shows\", \"soon\", \"sources\", \"south\", \"spike\", \"spread\", \"star\", \"state\", \"states\", \"stimulus\", \"stock\", \"stocks\", \"stop\", \"stores\", \"strong\", \"study\", \"summer\", \"support\", \"supreme_court\", \"surge\", \"takes\", \"talks\", \"tech\", \"test\", \"texas\", \"thousands\", \"tiktok\", \"time\", \"times\", \"today\", \"trade\", \"travel\", \"trump\", \"turn\", \"tv\", \"uk\", \"update\", \"urges\", \"use\", \"vaccine\", \"virus\", \"vote\", \"want\", \"wants\", \"warns\", \"washington_post\", \"watch\", \"way\", \"week\", \"weeks\", \"white\", \"white_house\", \"win\", \"wins\", \"wirecard\", \"wirecard\", \"wirecard\", \"woman\", \"women\", \"won\", \"work\", \"workers\", \"world\", \"year\", \"years\", \"york\"]}, \"R\": 30, \"lambda.step\": 0.01, \"plot.opts\": {\"xlab\": \"PC1\", \"ylab\": \"PC2\"}, \"topic.order\": [9, 4, 2, 5, 8, 3, 1, 10, 6, 7]};\n",
       "\n",
       "function LDAvis_load_lib(url, callback){\n",
       "  var s = document.createElement('script');\n",
       "  s.src = url;\n",
       "  s.async = true;\n",
       "  s.onreadystatechange = s.onload = callback;\n",
       "  s.onerror = function(){console.warn(\"failed to load library \" + url);};\n",
       "  document.getElementsByTagName(\"head\")[0].appendChild(s);\n",
       "}\n",
       "\n",
       "if(typeof(LDAvis) !== \"undefined\"){\n",
       "   // already loaded: just create the visualization\n",
       "   !function(LDAvis){\n",
       "       new LDAvis(\"#\" + \"ldavis_el16575921405281907904484541311557\", ldavis_el16575921405281907904484541311557_data);\n",
       "   }(LDAvis);\n",
       "}else if(typeof define === \"function\" && define.amd){\n",
       "   // require.js is available: use it to load d3/LDAvis\n",
       "   require.config({paths: {d3: \"https://d3js.org/d3.v5\"}});\n",
       "   require([\"d3\"], function(d3){\n",
       "      window.d3 = d3;\n",
       "      LDAvis_load_lib(\"https://cdn.jsdelivr.net/gh/bmabey/pyLDAvis@3.3.1/pyLDAvis/js/ldavis.v3.0.0.js\", function(){\n",
       "        new LDAvis(\"#\" + \"ldavis_el16575921405281907904484541311557\", ldavis_el16575921405281907904484541311557_data);\n",
       "      });\n",
       "    });\n",
       "}else{\n",
       "    // require.js not available: dynamically load d3 & LDAvis\n",
       "    LDAvis_load_lib(\"https://d3js.org/d3.v5.js\", function(){\n",
       "         LDAvis_load_lib(\"https://cdn.jsdelivr.net/gh/bmabey/pyLDAvis@3.3.1/pyLDAvis/js/ldavis.v3.0.0.js\", function(){\n",
       "                 new LDAvis(\"#\" + \"ldavis_el16575921405281907904484541311557\", ldavis_el16575921405281907904484541311557_data);\n",
       "            })\n",
       "         });\n",
       "}\n",
       "</script>"
      ],
      "text/plain": [
       "PreparedData(topic_coordinates=              x         y  topics  cluster       Freq\n",
       "topic                                                \n",
       "8     -0.074668  0.022813       1        1  17.851912\n",
       "3     -0.297063 -0.049014       2        1  12.974550\n",
       "1      0.016744  0.294122       3        1  11.400401\n",
       "4      0.075339 -0.067991       4        1  10.894411\n",
       "7      0.119105 -0.085235       5        1  10.369534\n",
       "2     -0.299445 -0.081578       6        1  10.061210\n",
       "0      0.060382  0.313750       7        1   9.083194\n",
       "9      0.124614 -0.121949       8        1   6.351038\n",
       "5      0.126666 -0.123601       9        1   6.037445\n",
       "6      0.148325 -0.101317      10        1   4.976306, topic_info=             Term          Freq         Total Category  logprob  loglift\n",
       "66            new  45642.000000  45642.000000  Default  30.0000  30.0000\n",
       "2            says  39231.000000  39231.000000  Default  29.0000  29.0000\n",
       "6317  coronavirus  63200.000000  63200.000000  Default  28.0000  28.0000\n",
       "68          trump  40551.000000  40551.000000  Default  27.0000  27.0000\n",
       "6358        covid  40468.000000  40468.000000  Default  26.0000  26.0000\n",
       "...           ...           ...           ...      ...      ...      ...\n",
       "1481      justice   1600.238360   1601.119347  Topic10  -4.7978   2.9999\n",
       "1855       stores   1599.318834   1600.199834  Topic10  -4.7983   2.9999\n",
       "756         drive   1590.938481   1591.819535  Topic10  -4.8036   2.9999\n",
       "210       protect   1521.579585   1522.460651  Topic10  -4.8482   2.9999\n",
       "4304    reopening   2893.376169   6755.683674  Topic10  -4.2055   2.1525\n",
       "\n",
       "[339 rows x 6 columns], token_table=      Topic      Freq            Term\n",
       "term                                 \n",
       "485       7  0.999516  administration\n",
       "1182     10  0.999731          africa\n",
       "1179      8  0.999707          agency\n",
       "1828      6  0.999639             aid\n",
       "1954      5  0.999746        airlines\n",
       "...     ...       ...             ...\n",
       "63        1  0.999805         workers\n",
       "254       3  0.999827           world\n",
       "554       8  0.999873            year\n",
       "1017      4  0.999888           years\n",
       "309       2  0.999931            york\n",
       "\n",
       "[337 rows x 3 columns], R=30, lambda_step=0.01, plot_opts={'xlab': 'PC1', 'ylab': 'PC2'}, topic_order=[9, 4, 2, 5, 8, 3, 1, 10, 6, 7])"
      ]
     },
     "execution_count": 22,
     "metadata": {},
     "output_type": "execute_result"
    }
   ],
   "source": [
    "vis2"
   ]
  },
  {
   "cell_type": "code",
   "execution_count": null,
   "metadata": {},
   "outputs": [],
   "source": []
  }
 ],
 "metadata": {
  "kernelspec": {
   "display_name": "Python 3",
   "language": "python",
   "name": "python3"
  },
  "language_info": {
   "codemirror_mode": {
    "name": "ipython",
    "version": 3
   },
   "file_extension": ".py",
   "mimetype": "text/x-python",
   "name": "python",
   "nbconvert_exporter": "python",
   "pygments_lexer": "ipython3",
   "version": "3.8.0"
  }
 },
 "nbformat": 4,
 "nbformat_minor": 4
}
