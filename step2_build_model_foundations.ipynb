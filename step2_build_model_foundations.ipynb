{
 "cells": [
  {
   "cell_type": "markdown",
   "metadata": {},
   "source": [
    "# Phrase Modelling Part II - Building the Models"
   ]
  },
  {
   "cell_type": "code",
   "execution_count": 24,
   "metadata": {},
   "outputs": [],
   "source": [
    "import os\n",
    "from gensim import corpora, models, utils\n",
    "\n",
    "import time\n",
    "\n",
    "import warnings\n",
    "warnings.filterwarnings(\"ignore\",category=DeprecationWarning)"
   ]
  },
  {
   "cell_type": "code",
   "execution_count": null,
   "metadata": {},
   "outputs": [],
   "source": []
  },
  {
   "cell_type": "markdown",
   "metadata": {},
   "source": [
    "## Load data"
   ]
  },
  {
   "cell_type": "markdown",
   "metadata": {},
   "source": [
    "Load dictionaries"
   ]
  },
  {
   "cell_type": "code",
   "execution_count": 25,
   "metadata": {},
   "outputs": [],
   "source": [
    "path = os.getcwd() + '/tmp/'\n",
    "\n",
    "sanctity_dict = corpora.Dictionary.load(path + 'sanctity_dict.dict')\n",
    "degradation_dict = corpora.Dictionary.load(path + 'degradation_dict.dict')\n",
    "fairness_dict = corpora.Dictionary.load(path + 'fairness_dict.dict')\n",
    "cheating_dict = corpora.Dictionary.load(path + 'cheating_dict.dict')"
   ]
  },
  {
   "cell_type": "markdown",
   "metadata": {},
   "source": [
    "Load corpora"
   ]
  },
  {
   "cell_type": "code",
   "execution_count": 26,
   "metadata": {},
   "outputs": [],
   "source": [
    "path = os.getcwd() + '/tmp/'\n",
    "\n",
    "sanctity_corpus = corpora.MmCorpus(path + 'sanctity_corpus.mm')\n",
    "degradation_corpus = corpora.MmCorpus(path + 'degradation_corpus.mm')\n",
    "fairness_corpus = corpora.MmCorpus(path + 'fairness_corpus.mm')\n",
    "cheating_corpus = corpora.MmCorpus(path + 'cheating_corpus.mm')"
   ]
  },
  {
   "cell_type": "code",
   "execution_count": null,
   "metadata": {},
   "outputs": [],
   "source": []
  },
  {
   "cell_type": "markdown",
   "metadata": {},
   "source": [
    "## Build models\n"
   ]
  },
  {
   "cell_type": "markdown",
   "metadata": {},
   "source": [
    "Note: Each model can take ~15min to load. Running all 4 models will take about an hour. "
   ]
  },
  {
   "cell_type": "markdown",
   "metadata": {},
   "source": [
    "SANCTITY"
   ]
  },
  {
   "cell_type": "code",
   "execution_count": 27,
   "metadata": {},
   "outputs": [
    {
     "name": "stdout",
     "output_type": "stream",
     "text": [
      "Elapsed: 690.0934567451477 seconds\n"
     ]
    }
   ],
   "source": [
    "start = time.time()\n",
    "\n",
    "# Build LDA model\n",
    "sanctity_model = models.ldamodel.LdaModel(corpus=sanctity_corpus,\n",
    "                                     id2word=sanctity_dict,\n",
    "                                     num_topics=4, \n",
    "                                     random_state=100,\n",
    "                                     chunksize=100,\n",
    "                                     passes=10,\n",
    "                                     alpha='auto',\n",
    "                                     per_word_topics=True,\n",
    "                                     eval_every = None)\n",
    "\n",
    "end = time.time()\n",
    "print(\"Elapsed:\", end - start, 'seconds')"
   ]
  },
  {
   "cell_type": "markdown",
   "metadata": {},
   "source": [
    "DEGRADATION"
   ]
  },
  {
   "cell_type": "code",
   "execution_count": 28,
   "metadata": {},
   "outputs": [
    {
     "name": "stdout",
     "output_type": "stream",
     "text": [
      "Elapsed: 1018.5998075008392 seconds\n"
     ]
    }
   ],
   "source": [
    "start = time.time()\n",
    "\n",
    "# Build LDA model\n",
    "degradation_model = models.ldamodel.LdaModel(corpus=degradation_corpus,\n",
    "                                     id2word=degradation_dict,\n",
    "                                     num_topics=4, \n",
    "                                     random_state=100,\n",
    "                                     chunksize=100,\n",
    "                                     passes=10,\n",
    "                                     alpha='auto',\n",
    "                                     per_word_topics=True,\n",
    "                                     eval_every = None)\n",
    "\n",
    "end = time.time()\n",
    "print(\"Elapsed:\", end - start, 'seconds')\n"
   ]
  },
  {
   "cell_type": "markdown",
   "metadata": {},
   "source": [
    "FAIRNESS"
   ]
  },
  {
   "cell_type": "code",
   "execution_count": 29,
   "metadata": {},
   "outputs": [
    {
     "name": "stdout",
     "output_type": "stream",
     "text": [
      "Elapsed: 771.3949632644653 seconds\n"
     ]
    }
   ],
   "source": [
    "start = time.time()\n",
    "\n",
    "# Build LDA model\n",
    "fairness_model = models.ldamodel.LdaModel(corpus=fairness_corpus,\n",
    "                                     id2word=fairness_dict,\n",
    "                                     num_topics=4, \n",
    "                                     random_state=100,\n",
    "                                     chunksize=100,\n",
    "                                     passes=10,\n",
    "                                     alpha='auto',\n",
    "                                     per_word_topics=True,\n",
    "                                     eval_every = None)\n",
    "\n",
    "end = time.time()\n",
    "print(\"Elapsed:\", end - start, 'seconds')\n"
   ]
  },
  {
   "cell_type": "markdown",
   "metadata": {},
   "source": [
    "CHEATING"
   ]
  },
  {
   "cell_type": "code",
   "execution_count": 30,
   "metadata": {},
   "outputs": [
    {
     "name": "stdout",
     "output_type": "stream",
     "text": [
      "Elapsed: 912.7801024913788 seconds\n"
     ]
    }
   ],
   "source": [
    "start = time.time()\n",
    "\n",
    "# Build LDA model\n",
    "cheating_model = models.ldamodel.LdaModel(corpus=cheating_corpus,\n",
    "                                     id2word=cheating_dict,\n",
    "                                     num_topics=4, \n",
    "                                     random_state=100,\n",
    "                                     chunksize=100,\n",
    "                                     passes=10,\n",
    "                                     alpha='auto',\n",
    "                                     per_word_topics=True,\n",
    "                                     eval_every = None)\n",
    "\n",
    "end = time.time()\n",
    "print(\"Elapsed:\", end - start, 'seconds')\n"
   ]
  },
  {
   "cell_type": "code",
   "execution_count": null,
   "metadata": {},
   "outputs": [],
   "source": []
  },
  {
   "cell_type": "code",
   "execution_count": 32,
   "metadata": {},
   "outputs": [],
   "source": [
    "path = os.getcwd() + '/tmp/'\n",
    "\n",
    "sanctity_model.save(path + 'sanctity_lda_model')\n",
    "degradation_model.save(path + 'degradation_lda_model') \n",
    "fairness_model.save(path + 'fairness_lda_model') \n",
    "cheating_model.save(path + 'cheating_lda_model') "
   ]
  },
  {
   "cell_type": "markdown",
   "metadata": {},
   "source": [
    "## Load data 2"
   ]
  },
  {
   "cell_type": "markdown",
   "metadata": {},
   "source": [
    "Load dictionaries"
   ]
  },
  {
   "cell_type": "code",
   "execution_count": 33,
   "metadata": {},
   "outputs": [],
   "source": [
    "path = os.getcwd() + '/tmp_filter/'\n",
    "\n",
    "sanctity_dict2 = corpora.Dictionary.load(path + 'sanctity_dict_filter.dict')\n",
    "degradation_dict2 = corpora.Dictionary.load(path + 'degradation_dict_filter.dict')\n",
    "fairness_dict2 = corpora.Dictionary.load(path + 'fairness_dict_filter.dict')\n",
    "cheating_dict2 = corpora.Dictionary.load(path + 'cheating_dict_filter.dict')"
   ]
  },
  {
   "cell_type": "markdown",
   "metadata": {},
   "source": [
    "Load corpora"
   ]
  },
  {
   "cell_type": "code",
   "execution_count": 34,
   "metadata": {},
   "outputs": [],
   "source": [
    "path = os.getcwd() + '/tmp_filter/'\n",
    "\n",
    "sanctity_corpus2 = corpora.MmCorpus(path + 'sanctity_corpus_filter.mm')\n",
    "degradation_corpus2 = corpora.MmCorpus(path + 'degradation_corpus_filter.mm')\n",
    "fairness_corpus2 = corpora.MmCorpus(path + 'fairness_corpus_filter.mm')\n",
    "cheating_corpus2 = corpora.MmCorpus(path + 'cheating_corpus_filter.mm')"
   ]
  },
  {
   "cell_type": "code",
   "execution_count": null,
   "metadata": {},
   "outputs": [],
   "source": []
  },
  {
   "cell_type": "markdown",
   "metadata": {},
   "source": [
    "## Build models 2 (with filtered set)\n"
   ]
  },
  {
   "cell_type": "markdown",
   "metadata": {},
   "source": [
    "SANCTITY"
   ]
  },
  {
   "cell_type": "code",
   "execution_count": 35,
   "metadata": {},
   "outputs": [
    {
     "name": "stdout",
     "output_type": "stream",
     "text": [
      "Elapsed: 186.24144625663757 seconds\n"
     ]
    }
   ],
   "source": [
    "start = time.time()\n",
    "\n",
    "# Build LDA model\n",
    "sanctity_model2 = models.ldamodel.LdaModel(corpus=sanctity_corpus2,\n",
    "                                     id2word=sanctity_dict2,\n",
    "                                     num_topics=4, \n",
    "                                     random_state=100,\n",
    "                                     chunksize=100,\n",
    "                                     passes=10,\n",
    "                                     alpha='auto',\n",
    "                                     per_word_topics=True,\n",
    "                                     eval_every = None)\n",
    "\n",
    "end = time.time()\n",
    "print(\"Elapsed:\", end - start, 'seconds')"
   ]
  },
  {
   "cell_type": "markdown",
   "metadata": {},
   "source": [
    "DEGRADATION"
   ]
  },
  {
   "cell_type": "code",
   "execution_count": 36,
   "metadata": {},
   "outputs": [
    {
     "name": "stdout",
     "output_type": "stream",
     "text": [
      "Elapsed: 267.1609296798706 seconds\n"
     ]
    }
   ],
   "source": [
    "start = time.time()\n",
    "\n",
    "# Build LDA model\n",
    "degradation_model2 = models.ldamodel.LdaModel(corpus=degradation_corpus2,\n",
    "                                     id2word=degradation_dict2,\n",
    "                                     num_topics=4, \n",
    "                                     random_state=100,\n",
    "                                     chunksize=100,\n",
    "                                     passes=10,\n",
    "                                     alpha='auto',\n",
    "                                     per_word_topics=True,\n",
    "                                     eval_every = None)\n",
    "\n",
    "end = time.time()\n",
    "print(\"Elapsed:\", end - start, 'seconds')\n"
   ]
  },
  {
   "cell_type": "markdown",
   "metadata": {},
   "source": [
    "FAIRNESS"
   ]
  },
  {
   "cell_type": "code",
   "execution_count": 37,
   "metadata": {},
   "outputs": [
    {
     "name": "stdout",
     "output_type": "stream",
     "text": [
      "Elapsed: 215.07920598983765 seconds\n"
     ]
    }
   ],
   "source": [
    "start = time.time()\n",
    "\n",
    "# Build LDA model\n",
    "fairness_model2 = models.ldamodel.LdaModel(corpus=fairness_corpus2,\n",
    "                                     id2word=fairness_dict2,\n",
    "                                     num_topics=4, \n",
    "                                     random_state=100,\n",
    "                                     chunksize=100,\n",
    "                                     passes=10,\n",
    "                                     alpha='auto',\n",
    "                                     per_word_topics=True,\n",
    "                                     eval_every = None)\n",
    "\n",
    "end = time.time()\n",
    "print(\"Elapsed:\", end - start, 'seconds')\n"
   ]
  },
  {
   "cell_type": "markdown",
   "metadata": {},
   "source": [
    "CHEATING"
   ]
  },
  {
   "cell_type": "code",
   "execution_count": 38,
   "metadata": {},
   "outputs": [
    {
     "name": "stdout",
     "output_type": "stream",
     "text": [
      "Elapsed: 249.31983375549316 seconds\n"
     ]
    }
   ],
   "source": [
    "start = time.time()\n",
    "\n",
    "# Build LDA model\n",
    "cheating_model2 = models.ldamodel.LdaModel(corpus=cheating_corpus2,\n",
    "                                     id2word=cheating_dict2,\n",
    "                                     num_topics=4, \n",
    "                                     random_state=100,\n",
    "                                     chunksize=100,\n",
    "                                     passes=10,\n",
    "                                     alpha='auto',\n",
    "                                     per_word_topics=True,\n",
    "                                     eval_every = None)\n",
    "\n",
    "end = time.time()\n",
    "print(\"Elapsed:\", end - start, 'seconds')\n"
   ]
  },
  {
   "cell_type": "code",
   "execution_count": 39,
   "metadata": {},
   "outputs": [],
   "source": [
    "path = os.getcwd() + '/tmp_filter/'\n",
    "\n",
    "sanctity_model2.save(path + 'sanctity_lda_model_filter')\n",
    "degradation_model2.save(path + 'degradation_lda_model_filter') \n",
    "fairness_model2.save(path + 'fairness_lda_model_filter') \n",
    "cheating_model2.save(path + 'cheating_lda_model_filter') "
   ]
  },
  {
   "cell_type": "code",
   "execution_count": null,
   "metadata": {},
   "outputs": [],
   "source": []
  },
  {
   "cell_type": "code",
   "execution_count": null,
   "metadata": {},
   "outputs": [],
   "source": []
  },
  {
   "cell_type": "code",
   "execution_count": null,
   "metadata": {},
   "outputs": [],
   "source": []
  },
  {
   "cell_type": "code",
   "execution_count": null,
   "metadata": {},
   "outputs": [],
   "source": []
  },
  {
   "cell_type": "code",
   "execution_count": null,
   "metadata": {},
   "outputs": [],
   "source": []
  },
  {
   "cell_type": "code",
   "execution_count": null,
   "metadata": {},
   "outputs": [],
   "source": []
  },
  {
   "cell_type": "code",
   "execution_count": 6,
   "metadata": {},
   "outputs": [
    {
     "name": "stderr",
     "output_type": "stream",
     "text": [
      "/usr/local/miniconda3/envs/nlp/lib/python3.8/site-packages/sklearn/linear_model/_least_angle.py:34: DeprecationWarning: `np.float` is a deprecated alias for the builtin `float`. To silence this warning, use `float` by itself. Doing this will not modify any behavior and is safe. If you specifically wanted the numpy scalar type, use `np.float64` here.\n",
      "Deprecated in NumPy 1.20; for more details and guidance: https://numpy.org/devdocs/release/1.20.0-notes.html#deprecations\n",
      "  method='lar', copy_X=True, eps=np.finfo(np.float).eps,\n",
      "/usr/local/miniconda3/envs/nlp/lib/python3.8/site-packages/sklearn/linear_model/_least_angle.py:164: DeprecationWarning: `np.float` is a deprecated alias for the builtin `float`. To silence this warning, use `float` by itself. Doing this will not modify any behavior and is safe. If you specifically wanted the numpy scalar type, use `np.float64` here.\n",
      "Deprecated in NumPy 1.20; for more details and guidance: https://numpy.org/devdocs/release/1.20.0-notes.html#deprecations\n",
      "  method='lar', copy_X=True, eps=np.finfo(np.float).eps,\n",
      "/usr/local/miniconda3/envs/nlp/lib/python3.8/site-packages/sklearn/linear_model/_least_angle.py:281: DeprecationWarning: `np.float` is a deprecated alias for the builtin `float`. To silence this warning, use `float` by itself. Doing this will not modify any behavior and is safe. If you specifically wanted the numpy scalar type, use `np.float64` here.\n",
      "Deprecated in NumPy 1.20; for more details and guidance: https://numpy.org/devdocs/release/1.20.0-notes.html#deprecations\n",
      "  eps=np.finfo(np.float).eps, copy_Gram=True, verbose=0,\n",
      "/usr/local/miniconda3/envs/nlp/lib/python3.8/site-packages/sklearn/linear_model/_least_angle.py:865: DeprecationWarning: `np.float` is a deprecated alias for the builtin `float`. To silence this warning, use `float` by itself. Doing this will not modify any behavior and is safe. If you specifically wanted the numpy scalar type, use `np.float64` here.\n",
      "Deprecated in NumPy 1.20; for more details and guidance: https://numpy.org/devdocs/release/1.20.0-notes.html#deprecations\n",
      "  eps=np.finfo(np.float).eps, copy_X=True, fit_path=True,\n",
      "/usr/local/miniconda3/envs/nlp/lib/python3.8/site-packages/sklearn/linear_model/_least_angle.py:1121: DeprecationWarning: `np.float` is a deprecated alias for the builtin `float`. To silence this warning, use `float` by itself. Doing this will not modify any behavior and is safe. If you specifically wanted the numpy scalar type, use `np.float64` here.\n",
      "Deprecated in NumPy 1.20; for more details and guidance: https://numpy.org/devdocs/release/1.20.0-notes.html#deprecations\n",
      "  eps=np.finfo(np.float).eps, copy_X=True, fit_path=True,\n",
      "/usr/local/miniconda3/envs/nlp/lib/python3.8/site-packages/sklearn/linear_model/_least_angle.py:1149: DeprecationWarning: `np.float` is a deprecated alias for the builtin `float`. To silence this warning, use `float` by itself. Doing this will not modify any behavior and is safe. If you specifically wanted the numpy scalar type, use `np.float64` here.\n",
      "Deprecated in NumPy 1.20; for more details and guidance: https://numpy.org/devdocs/release/1.20.0-notes.html#deprecations\n",
      "  eps=np.finfo(np.float).eps, positive=False):\n",
      "/usr/local/miniconda3/envs/nlp/lib/python3.8/site-packages/sklearn/linear_model/_least_angle.py:1379: DeprecationWarning: `np.float` is a deprecated alias for the builtin `float`. To silence this warning, use `float` by itself. Doing this will not modify any behavior and is safe. If you specifically wanted the numpy scalar type, use `np.float64` here.\n",
      "Deprecated in NumPy 1.20; for more details and guidance: https://numpy.org/devdocs/release/1.20.0-notes.html#deprecations\n",
      "  max_n_alphas=1000, n_jobs=None, eps=np.finfo(np.float).eps,\n",
      "/usr/local/miniconda3/envs/nlp/lib/python3.8/site-packages/sklearn/linear_model/_least_angle.py:1621: DeprecationWarning: `np.float` is a deprecated alias for the builtin `float`. To silence this warning, use `float` by itself. Doing this will not modify any behavior and is safe. If you specifically wanted the numpy scalar type, use `np.float64` here.\n",
      "Deprecated in NumPy 1.20; for more details and guidance: https://numpy.org/devdocs/release/1.20.0-notes.html#deprecations\n",
      "  max_n_alphas=1000, n_jobs=None, eps=np.finfo(np.float).eps,\n",
      "/usr/local/miniconda3/envs/nlp/lib/python3.8/site-packages/sklearn/linear_model/_least_angle.py:1755: DeprecationWarning: `np.float` is a deprecated alias for the builtin `float`. To silence this warning, use `float` by itself. Doing this will not modify any behavior and is safe. If you specifically wanted the numpy scalar type, use `np.float64` here.\n",
      "Deprecated in NumPy 1.20; for more details and guidance: https://numpy.org/devdocs/release/1.20.0-notes.html#deprecations\n",
      "  eps=np.finfo(np.float).eps, copy_X=True, positive=False):\n",
      "/usr/local/miniconda3/envs/nlp/lib/python3.8/site-packages/sklearn/decomposition/_lda.py:28: DeprecationWarning: `np.float` is a deprecated alias for the builtin `float`. To silence this warning, use `float` by itself. Doing this will not modify any behavior and is safe. If you specifically wanted the numpy scalar type, use `np.float64` here.\n",
      "Deprecated in NumPy 1.20; for more details and guidance: https://numpy.org/devdocs/release/1.20.0-notes.html#deprecations\n",
      "  EPS = np.finfo(np.float).eps\n"
     ]
    }
   ],
   "source": [
    "\n",
    "\n",
    "import warnings\n",
    "warnings.filterwarnings(\"ignore\",category=DeprecationWarning)\n",
    "\n",
    "import pyLDAvis\n",
    "import pyLDAvis.gensim_models"
   ]
  },
  {
   "cell_type": "code",
   "execution_count": 12,
   "metadata": {},
   "outputs": [
    {
     "name": "stderr",
     "output_type": "stream",
     "text": [
      "/usr/local/miniconda3/envs/nlp/lib/python3.8/site-packages/ipykernel/ipkernel.py:283: DeprecationWarning: `should_run_async` will not call `transform_cell` automatically in the future. Please pass the result to `transformed_cell` argument and any exception that happen during thetransform in `preprocessing_exc_tuple` in IPython 7.17 and above.\n",
      "  and should_run_async(code)\n"
     ]
    }
   ],
   "source": [
    "pyLDAvis.enable_notebook()\n",
    "vis = pyLDAvis.gensim_models.prepare(degradation_model, degradation_corpus, degradation_dict)"
   ]
  },
  {
   "cell_type": "code",
   "execution_count": 13,
   "metadata": {},
   "outputs": [
    {
     "name": "stderr",
     "output_type": "stream",
     "text": [
      "/usr/local/miniconda3/envs/nlp/lib/python3.8/site-packages/ipykernel/ipkernel.py:283: DeprecationWarning: `should_run_async` will not call `transform_cell` automatically in the future. Please pass the result to `transformed_cell` argument and any exception that happen during thetransform in `preprocessing_exc_tuple` in IPython 7.17 and above.\n",
      "  and should_run_async(code)\n"
     ]
    },
    {
     "data": {
      "text/html": [
       "\n",
       "<link rel=\"stylesheet\" type=\"text/css\" href=\"https://cdn.jsdelivr.net/gh/bmabey/pyLDAvis@3.3.1/pyLDAvis/js/ldavis.v1.0.0.css\">\n",
       "\n",
       "\n",
       "<div id=\"ldavis_el11452211404601558431845696766977\"></div>\n",
       "<script type=\"text/javascript\">\n",
       "\n",
       "var ldavis_el11452211404601558431845696766977_data = {\"mdsDat\": {\"x\": [0.32938080689219695, -0.1642302077211633, -0.13381067062825114, -0.03133992854278263], \"y\": [-0.01670660261928062, -0.26311136495526705, 0.28240768214917994, -0.0025897145746322427], \"topics\": [1, 2, 3, 4], \"cluster\": [1, 1, 1, 1], \"Freq\": [34.25084022366862, 24.57745862914126, 22.27568861085486, 18.89601253633527]}, \"tinfo\": {\"Term\": [\"new\", \"trump\", \"says\", \"cases\", \"china\", \"virus\", \"police\", \"amid\", \"oil\", \"stocks\", \"million\", \"uk\", \"stock\", \"deal\", \"global\", \"market\", \"surge\", \"update\", \"black\", \"eu\", \"july\", \"state\", \"plans\", \"hong_kong\", \"best\", \"rise\", \"hit\", \"man\", \"quarter\", \"data\", \"new\", \"trump\", \"says\", \"state\", \"report\", \"billion\", \"india\", \"facebook\", \"biden\", \"world\", \"end\", \"law\", \"city\", \"president\", \"set\", \"texas\", \"demand\", \"european\", \"business\", \"florida\", \"fears\", \"home\", \"high\", \"europe\", \"shows\", \"bill\", \"talks\", \"york\", \"calls\", \"reports\", \"coronavirus\", \"covid\", \"pandemic\", \"police\", \"oil\", \"uk\", \"stock\", \"market\", \"update\", \"hit\", \"data\", \"people\", \"year\", \"quarter\", \"plan\", \"record\", \"week\", \"chief\", \"time\", \"workers\", \"prices\", \"recovery\", \"years\", \"chinese\", \"election\", \"fall\", \"economic\", \"crisis\", \"sees\", \"americans\", \"summer\", \"bank\", \"ex\", \"coronavirus\", \"covid\", \"china\", \"virus\", \"amid\", \"stocks\", \"million\", \"deal\", \"global\", \"surge\", \"eu\", \"july\", \"hong_kong\", \"rise\", \"shares\", \"warns\", \"day\", \"markets\", \"ceo\", \"trade\", \"protests\", \"second\", \"russia\", \"june\", \"sources\", \"protesters\", \"security\", \"california\", \"test\", \"dead\", \"big\", \"exclusive\", \"killed\", \"coronavirus\", \"covid\", \"pandemic\", \"cases\", \"black\", \"plans\", \"man\", \"best\", \"iran\", \"democrats\", \"supreme_court\", \"house\", \"travel\", \"protest\", \"help\", \"court\", \"health\", \"american\", \"buy\", \"vaccine\", \"face\", \"energy\", \"group\", \"public\", \"companies\", \"flag\", \"factbox\", \"want\", \"germany\", \"faces\", \"bans\", \"latest\", \"canada\", \"covid\", \"coronavirus\"], \"Freq\": [27584.0, 24522.0, 23311.0, 13508.0, 13398.0, 12842.0, 10706.0, 8051.0, 8606.0, 7922.0, 7736.0, 7057.0, 6906.0, 5965.0, 5846.0, 6012.0, 5425.0, 5737.0, 4763.0, 5264.0, 5107.0, 7135.0, 4334.0, 4793.0, 4220.0, 4558.0, 4837.0, 4029.0, 4736.0, 4666.0, 27583.5742477984, 24521.581420581617, 23310.724103763754, 7134.82508943282, 5318.630291874615, 5235.349771455006, 5165.670366882406, 4847.554162876326, 4687.102919731189, 4524.525538500409, 4518.421104198596, 4633.379607161423, 4321.826407496228, 4067.079130107901, 4036.4420926143925, 3989.9374590905027, 3832.083438652046, 3879.1981580466327, 3610.036987407734, 3564.5493871430167, 3566.914419659347, 3552.5738261031306, 3527.3844308330545, 3460.806407840501, 3394.3412395602927, 3338.705654171644, 3208.354885818352, 3197.7945899136753, 3159.4706939240677, 3206.4991520929807, 15955.67544603434, 7666.15669583621, 5078.352105982303, 10705.724534480265, 8606.160529083394, 7056.869991698852, 6905.361914286755, 6012.010697795464, 5736.538492201598, 4837.130185456657, 4665.875467839263, 4344.867965352303, 4237.362791672656, 4735.179215367645, 3963.620221138515, 3783.8388805473014, 3475.0151544897553, 3464.2649899121793, 3416.148550248705, 3253.444509495261, 3182.62889479248, 3099.979086863529, 3172.547749079095, 3130.1926971799207, 3014.8854036972166, 2982.42066998305, 2748.9597060187466, 2639.1019015249703, 2615.6594612806, 2587.3533244516375, 2525.94133755687, 2431.2092606148603, 2473.9842934357307, 7756.913242663106, 4759.986473338078, 13397.619703258391, 12841.976301232055, 8050.695937988486, 7921.92785648143, 7735.661120094573, 5964.292920642534, 5845.320824441534, 5424.802720499207, 5263.413135876822, 5106.674464159389, 4792.367223453045, 4557.427811469699, 4096.325841518765, 3823.011165792551, 3531.8893072815035, 3439.1073736944554, 3202.6668795710366, 3121.891568330177, 3125.959663711727, 3086.941411259749, 3128.270004697262, 3027.57861235123, 2867.999104895041, 2868.2572305612657, 2991.4907257114282, 2839.4613939923147, 2891.61178971348, 2848.5126518694638, 2753.7357673282477, 2687.605018096854, 2705.1494243025577, 8890.797893743356, 4694.104479689568, 3440.64043086075, 13507.362686947678, 4762.754241697004, 4333.220852922649, 4028.263701615853, 4219.612725433168, 3339.172669298325, 3273.7358515612623, 3174.690225793535, 3057.7350259621007, 2914.6756701353156, 2818.9176910108226, 2819.662115012617, 2721.7837973682726, 2714.062155229753, 2771.004057005962, 2632.320010714732, 2588.866756229069, 2463.3266388598827, 2496.926076863363, 2460.7750325099096, 2382.055708080346, 2278.4229608467754, 2322.939959997473, 2101.9954587401544, 2076.5479443866648, 1973.3447389255766, 2024.7495710852588, 2012.4727395472196, 1870.5709519471402, 1843.3036796826725, 7205.185473357132, 4120.964586081768], \"Total\": [27584.0, 24522.0, 23311.0, 13508.0, 13398.0, 12842.0, 10706.0, 8051.0, 8606.0, 7922.0, 7736.0, 7057.0, 6906.0, 5965.0, 5846.0, 6012.0, 5425.0, 5737.0, 4763.0, 5264.0, 5107.0, 7135.0, 4334.0, 4793.0, 4220.0, 4558.0, 4837.0, 4029.0, 4736.0, 4666.0, 27584.393037735892, 24522.38837774401, 23311.53995012746, 7135.647481557849, 5319.453757438558, 5236.163247753777, 5166.512269561963, 4848.394844665647, 4687.924584019293, 4525.3528946708, 4519.249749066389, 4634.240509816068, 4322.6429448225135, 4067.889001759512, 4037.265913872253, 3990.7657958056598, 3832.9035646590064, 3880.047597330659, 3610.8522928337106, 3565.367675468468, 3567.7364124707537, 3553.3926136111972, 3528.2038852300598, 3461.6400864675506, 3395.1702388985864, 3339.5230693975136, 3209.161945976164, 3198.602886602812, 3160.2885824854507, 3207.3354698787143, 36724.351168522575, 24325.433122220988, 12646.052761070776, 10706.536259525808, 8606.980413765303, 7057.704217241638, 6906.192664249971, 6012.850593886277, 5737.358494500273, 4837.955211442185, 4666.7187240795165, 4345.687251544651, 4238.185818852891, 4736.129706678178, 3964.4429425566236, 3784.6536545327167, 3475.834194083635, 3465.087430333726, 3416.9716925957327, 3254.2736333199587, 3183.4502079676563, 3100.7954305327876, 3173.383458701714, 3131.0178080179876, 3015.6970026728895, 2983.2469605177735, 2749.773913903442, 2639.9319548432873, 2616.482395928501, 2588.180752295255, 2526.7789687100935, 2432.0213757743286, 2474.8197046090236, 36724.351168522575, 24325.433122220988, 13398.448205111628, 12842.80962625867, 8051.528688127655, 7922.754362773937, 7736.497781455023, 5965.116981920931, 5846.155217174129, 5425.642920574581, 5264.245123566339, 5107.530526637588, 4793.2324895178535, 4558.254960061498, 4097.160561920526, 3823.854706613516, 3532.722315099706, 3439.9438985862594, 3203.495956779882, 3122.705222652343, 3126.7800470331454, 3087.7737158844384, 3129.1157272549963, 3028.416794224086, 2868.8209674296304, 2869.0820840757874, 2992.3524406283314, 2840.2895252759595, 2892.4685334683577, 2849.360384769194, 2754.5708441375714, 2688.424511932913, 2705.9793991451293, 36724.351168522575, 24325.433122220988, 12646.052761070776, 13508.198244104233, 4763.576463897164, 4334.057722434663, 4029.0871878306193, 4220.48767573474, 3340.0297812202807, 3274.577702332727, 3175.5350288736126, 3058.569232095917, 2915.5267704923094, 2819.753039177723, 2820.500198596306, 2722.611784775686, 2714.89551085127, 2771.855325013639, 2633.1667224249713, 2589.69997776377, 2464.1539608068165, 2497.766607073363, 2461.60499627, 2382.8914840373636, 2279.2573330539676, 2323.811407174022, 2102.8424658506697, 2077.3919808045275, 1974.1664049597516, 2025.5943022678991, 2013.3598912867403, 1871.3978523872686, 1844.1429471955437, 24325.433122220988, 36724.351168522575], \"Category\": [\"Default\", \"Default\", \"Default\", \"Default\", \"Default\", \"Default\", \"Default\", \"Default\", \"Default\", \"Default\", \"Default\", \"Default\", \"Default\", \"Default\", \"Default\", \"Default\", \"Default\", \"Default\", \"Default\", \"Default\", \"Default\", \"Default\", \"Default\", \"Default\", \"Default\", \"Default\", \"Default\", \"Default\", \"Default\", \"Default\", \"Topic1\", \"Topic1\", \"Topic1\", \"Topic1\", \"Topic1\", \"Topic1\", \"Topic1\", \"Topic1\", \"Topic1\", \"Topic1\", \"Topic1\", \"Topic1\", \"Topic1\", \"Topic1\", \"Topic1\", \"Topic1\", \"Topic1\", \"Topic1\", \"Topic1\", \"Topic1\", \"Topic1\", \"Topic1\", \"Topic1\", \"Topic1\", \"Topic1\", \"Topic1\", \"Topic1\", \"Topic1\", \"Topic1\", \"Topic1\", \"Topic1\", \"Topic1\", \"Topic1\", \"Topic2\", \"Topic2\", \"Topic2\", \"Topic2\", \"Topic2\", \"Topic2\", \"Topic2\", \"Topic2\", \"Topic2\", \"Topic2\", \"Topic2\", \"Topic2\", \"Topic2\", \"Topic2\", \"Topic2\", \"Topic2\", \"Topic2\", \"Topic2\", \"Topic2\", \"Topic2\", \"Topic2\", \"Topic2\", \"Topic2\", \"Topic2\", \"Topic2\", \"Topic2\", \"Topic2\", \"Topic2\", \"Topic2\", \"Topic2\", \"Topic2\", \"Topic2\", \"Topic3\", \"Topic3\", \"Topic3\", \"Topic3\", \"Topic3\", \"Topic3\", \"Topic3\", \"Topic3\", \"Topic3\", \"Topic3\", \"Topic3\", \"Topic3\", \"Topic3\", \"Topic3\", \"Topic3\", \"Topic3\", \"Topic3\", \"Topic3\", \"Topic3\", \"Topic3\", \"Topic3\", \"Topic3\", \"Topic3\", \"Topic3\", \"Topic3\", \"Topic3\", \"Topic3\", \"Topic3\", \"Topic3\", \"Topic3\", \"Topic3\", \"Topic3\", \"Topic3\", \"Topic3\", \"Topic4\", \"Topic4\", \"Topic4\", \"Topic4\", \"Topic4\", \"Topic4\", \"Topic4\", \"Topic4\", \"Topic4\", \"Topic4\", \"Topic4\", \"Topic4\", \"Topic4\", \"Topic4\", \"Topic4\", \"Topic4\", \"Topic4\", \"Topic4\", \"Topic4\", \"Topic4\", \"Topic4\", \"Topic4\", \"Topic4\", \"Topic4\", \"Topic4\", \"Topic4\", \"Topic4\", \"Topic4\", \"Topic4\", \"Topic4\", \"Topic4\", \"Topic4\"], \"logprob\": [30.0, 29.0, 28.0, 27.0, 26.0, 25.0, 24.0, 23.0, 22.0, 21.0, 20.0, 19.0, 18.0, 17.0, 16.0, 15.0, 14.0, 13.0, 12.0, 11.0, 10.0, 9.0, 8.0, 7.0, 6.0, 5.0, 4.0, 3.0, 2.0, 1.0, -3.5495, -3.6672, -3.7178, -4.9018, -5.1955, -5.2113, -5.2247, -5.2883, -5.3219, -5.3572, -5.3586, -5.3335, -5.4031, -5.4638, -5.4714, -5.483, -5.5233, -5.5111, -5.583, -5.5957, -5.595, -5.5991, -5.6062, -5.6252, -5.6446, -5.6612, -5.701, -5.7043, -5.7163, -5.7016, -4.0969, -4.8299, -5.2418, -4.1641, -4.3824, -4.5809, -4.6026, -4.7411, -4.788, -4.9585, -4.9946, -5.0659, -5.0909, -4.9798, -5.1577, -5.2041, -5.2893, -5.2924, -5.3063, -5.3551, -5.3772, -5.4035, -5.3803, -5.3938, -5.4313, -5.4421, -5.5236, -5.5644, -5.5733, -5.5842, -5.6082, -5.6465, -5.629, -4.4863, -4.9746, -3.8414, -3.8838, -4.3508, -4.3669, -4.3907, -4.6507, -4.6709, -4.7455, -4.7757, -4.806, -4.8695, -4.9198, -5.0264, -5.0955, -5.1747, -5.2013, -5.2725, -5.2981, -5.2968, -5.3093, -5.296, -5.3288, -5.3829, -5.3828, -5.3408, -5.3929, -5.3747, -5.3897, -5.4236, -5.4479, -5.4414, -4.2515, -4.8902, -5.2009, -3.6687, -4.7112, -4.8057, -4.8786, -4.8322, -5.0663, -5.0861, -5.1168, -5.1543, -5.2022, -5.2356, -5.2354, -5.2707, -5.2735, -5.2528, -5.3041, -5.3208, -5.3705, -5.3569, -5.3715, -5.404, -5.4485, -5.4291, -5.5291, -5.5413, -5.5923, -5.5665, -5.5726, -5.6457, -5.6604, -4.2972, -4.8559], \"loglift\": [30.0, 29.0, 28.0, 27.0, 26.0, 25.0, 24.0, 23.0, 22.0, 21.0, 20.0, 19.0, 18.0, 17.0, 16.0, 15.0, 14.0, 13.0, 12.0, 11.0, 10.0, 9.0, 8.0, 7.0, 6.0, 5.0, 4.0, 3.0, 2.0, 1.0, 1.0714, 1.0714, 1.0714, 1.0713, 1.0713, 1.0713, 1.0713, 1.0713, 1.0713, 1.0713, 1.0713, 1.0713, 1.0713, 1.0713, 1.0713, 1.0713, 1.0712, 1.0712, 1.0712, 1.0712, 1.0712, 1.0712, 1.0712, 1.0712, 1.0712, 1.0712, 1.0712, 1.0712, 1.0712, 1.0712, 0.2378, -0.0832, 0.1591, 1.4033, 1.4032, 1.4032, 1.4032, 1.4032, 1.4032, 1.4032, 1.4032, 1.4032, 1.4031, 1.4031, 1.4031, 1.4031, 1.4031, 1.4031, 1.4031, 1.4031, 1.4031, 1.4031, 1.4031, 1.4031, 1.4031, 1.4031, 1.403, 1.403, 1.403, 1.403, 1.403, 1.403, 1.403, -0.1515, -0.2279, 1.5016, 1.5016, 1.5016, 1.5016, 1.5016, 1.5015, 1.5015, 1.5015, 1.5015, 1.5015, 1.5015, 1.5015, 1.5015, 1.5015, 1.5014, 1.5014, 1.5014, 1.5014, 1.5014, 1.5014, 1.5014, 1.5014, 1.5014, 1.5014, 1.5014, 1.5014, 1.5014, 1.5014, 1.5014, 1.5014, 1.5014, 0.0833, -0.1435, 0.2, 1.6662, 1.666, 1.666, 1.666, 1.666, 1.666, 1.666, 1.666, 1.6659, 1.6659, 1.6659, 1.6659, 1.6659, 1.6659, 1.6659, 1.6659, 1.6659, 1.6659, 1.6659, 1.6659, 1.6659, 1.6659, 1.6658, 1.6658, 1.6658, 1.6658, 1.6658, 1.6658, 1.6658, 1.6658, 0.4495, -0.5211]}, \"token.table\": {\"Topic\": [4, 2, 3, 2, 4, 4, 1, 3, 1, 1, 4, 1, 4, 3, 1, 4, 4, 3, 2, 3, 2, 1, 4, 1, 2, 3, 4, 4, 1, 2, 3, 4, 2, 2, 3, 3, 3, 1, 4, 2, 2, 1, 4, 3, 1, 1, 2, 3, 4, 1, 4, 4, 2, 1, 4, 1, 4, 3, 4, 4, 4, 1, 2, 1, 3, 4, 1, 4, 3, 3, 3, 4, 1, 4, 2, 3, 3, 1, 2, 1, 2, 3, 4, 2, 2, 4, 2, 1, 2, 4, 3, 3, 4, 2, 2, 2, 1, 1, 3, 3, 1, 3, 3, 2, 1, 3, 1, 3, 1, 2, 3, 2, 4, 3, 1, 3, 1, 2, 3, 4, 1, 2, 2, 4, 3, 4, 3, 2, 2, 1, 2, 2, 1], \"Freq\": [0.999691425087767, 0.9995437906358713, 0.9999343369255537, 0.9995800300998574, 0.999324566217582, 0.9998844503829394, 0.9998027732736049, 0.9997927647645054, 0.9998433700301977, 0.9997778434898347, 0.9998789850647862, 0.9997639635286655, 0.9995569128171661, 0.9995459880887199, 0.9995922579689108, 0.999380228524431, 0.9999112950459729, 0.9998451826421594, 0.9996861752104127, 0.9999665479834107, 0.9996749274260335, 0.999851261177312, 0.9994483584474058, 0.43448010631366346, 0.21122224772343243, 0.24210094166675747, 0.11221437190515211, 0.9997752948917995, 0.31514341230772175, 0.19567996903010118, 0.1929667593754821, 0.2961920539625796, 0.9996469777027481, 0.9998459894152592, 0.9997955358402729, 0.9998735208185247, 0.9998127476922387, 0.9997642610507247, 0.9998235795924723, 0.9997185536237984, 0.999768875098436, 0.9997234609424612, 0.9996930829841378, 0.9997634753821084, 0.9998150915601963, 0.9997300040001108, 0.9996687820904703, 0.9998420963910168, 0.9995317010117182, 0.9999185617759492, 0.9997066035053348, 0.999599368062824, 0.9995820123059618, 0.9997935911217601, 0.9996508291630221, 0.9998968758619209, 0.999409165834845, 0.9998023971086613, 0.999754226908494, 0.9996701490544698, 0.999822656067688, 0.999658782409061, 0.9998025588496715, 0.9998895102078804, 0.9997428688217088, 0.9998138894192933, 0.9999008480895359, 0.9996916850184777, 0.9998961285429776, 0.9998623722385634, 0.9996380611229196, 0.9997874036315896, 0.999732316479164, 0.9997301652260335, 0.9998585373321696, 0.9997256064011255, 0.9999356580368682, 0.9999857514451975, 0.9998860908567034, 0.4015482218793172, 0.17863281473520629, 0.27210071514114426, 0.14771407610684611, 0.9998418543478004, 0.999888271173771, 0.9997559510042544, 0.9999499128837928, 0.9997814586978337, 0.9998585786055239, 0.9997329414430057, 0.999622846595504, 0.9997505270529389, 0.9996258813952144, 0.9997614704942339, 0.999827288150414, 0.999743475327345, 0.9999146984898735, 0.9995836201447412, 0.999724684101154, 0.9996434368836927, 0.9999768376465642, 0.9997494259762436, 0.9995480343124129, 0.9998156318845288, 0.9996864427810159, 0.9997167399463638, 0.9996553224680227, 0.9997138310689475, 0.9999092609942515, 0.9998273051002262, 0.9999047852881213, 0.9996917147404899, 0.9998315153607982, 0.9998815033381311, 0.9996379285322072, 0.9998380160534379, 0.9998081080562371, 0.9997156275547033, 0.9997741629125839, 0.9998193223613514, 0.999984162319835, 0.9999002200687417, 0.9999375157573618, 0.9997297070047572, 0.9999369587899977, 0.9998113111015401, 0.9997764803636399, 0.9997600017615758, 0.9996086274654602, 0.9999220183090658, 0.9997202060259802, 0.9998791640825307, 0.9998115156447407], \"Term\": [\"american\", \"americans\", \"amid\", \"bank\", \"bans\", \"best\", \"biden\", \"big\", \"bill\", \"billion\", \"black\", \"business\", \"buy\", \"california\", \"calls\", \"canada\", \"cases\", \"ceo\", \"chief\", \"china\", \"chinese\", \"city\", \"companies\", \"coronavirus\", \"coronavirus\", \"coronavirus\", \"coronavirus\", \"court\", \"covid\", \"covid\", \"covid\", \"covid\", \"crisis\", \"data\", \"day\", \"dead\", \"deal\", \"demand\", \"democrats\", \"economic\", \"election\", \"end\", \"energy\", \"eu\", \"europe\", \"european\", \"ex\", \"exclusive\", \"face\", \"facebook\", \"faces\", \"factbox\", \"fall\", \"fears\", \"flag\", \"florida\", \"germany\", \"global\", \"group\", \"health\", \"help\", \"high\", \"hit\", \"home\", \"hong_kong\", \"house\", \"india\", \"iran\", \"july\", \"june\", \"killed\", \"latest\", \"law\", \"man\", \"market\", \"markets\", \"million\", \"new\", \"oil\", \"pandemic\", \"pandemic\", \"pandemic\", \"pandemic\", \"people\", \"plan\", \"plans\", \"police\", \"president\", \"prices\", \"protest\", \"protesters\", \"protests\", \"public\", \"quarter\", \"record\", \"recovery\", \"report\", \"reports\", \"rise\", \"russia\", \"says\", \"second\", \"security\", \"sees\", \"set\", \"shares\", \"shows\", \"sources\", \"state\", \"stock\", \"stocks\", \"summer\", \"supreme_court\", \"surge\", \"talks\", \"test\", \"texas\", \"time\", \"trade\", \"travel\", \"trump\", \"uk\", \"update\", \"vaccine\", \"virus\", \"want\", \"warns\", \"week\", \"workers\", \"world\", \"year\", \"years\", \"york\"]}, \"R\": 30, \"lambda.step\": 0.01, \"plot.opts\": {\"xlab\": \"PC1\", \"ylab\": \"PC2\"}, \"topic.order\": [4, 2, 3, 1]};\n",
       "\n",
       "function LDAvis_load_lib(url, callback){\n",
       "  var s = document.createElement('script');\n",
       "  s.src = url;\n",
       "  s.async = true;\n",
       "  s.onreadystatechange = s.onload = callback;\n",
       "  s.onerror = function(){console.warn(\"failed to load library \" + url);};\n",
       "  document.getElementsByTagName(\"head\")[0].appendChild(s);\n",
       "}\n",
       "\n",
       "if(typeof(LDAvis) !== \"undefined\"){\n",
       "   // already loaded: just create the visualization\n",
       "   !function(LDAvis){\n",
       "       new LDAvis(\"#\" + \"ldavis_el11452211404601558431845696766977\", ldavis_el11452211404601558431845696766977_data);\n",
       "   }(LDAvis);\n",
       "}else if(typeof define === \"function\" && define.amd){\n",
       "   // require.js is available: use it to load d3/LDAvis\n",
       "   require.config({paths: {d3: \"https://d3js.org/d3.v5\"}});\n",
       "   require([\"d3\"], function(d3){\n",
       "      window.d3 = d3;\n",
       "      LDAvis_load_lib(\"https://cdn.jsdelivr.net/gh/bmabey/pyLDAvis@3.3.1/pyLDAvis/js/ldavis.v3.0.0.js\", function(){\n",
       "        new LDAvis(\"#\" + \"ldavis_el11452211404601558431845696766977\", ldavis_el11452211404601558431845696766977_data);\n",
       "      });\n",
       "    });\n",
       "}else{\n",
       "    // require.js not available: dynamically load d3 & LDAvis\n",
       "    LDAvis_load_lib(\"https://d3js.org/d3.v5.js\", function(){\n",
       "         LDAvis_load_lib(\"https://cdn.jsdelivr.net/gh/bmabey/pyLDAvis@3.3.1/pyLDAvis/js/ldavis.v3.0.0.js\", function(){\n",
       "                 new LDAvis(\"#\" + \"ldavis_el11452211404601558431845696766977\", ldavis_el11452211404601558431845696766977_data);\n",
       "            })\n",
       "         });\n",
       "}\n",
       "</script>"
      ],
      "text/plain": [
       "PreparedData(topic_coordinates=              x         y  topics  cluster       Freq\n",
       "topic                                                \n",
       "3      0.329381 -0.016707       1        1  34.250840\n",
       "1     -0.164230 -0.263111       2        1  24.577459\n",
       "2     -0.133811  0.282408       3        1  22.275689\n",
       "0     -0.031340 -0.002590       4        1  18.896013, topic_info=              Term          Freq         Total Category  logprob  loglift\n",
       "57             new  27584.000000  27584.000000  Default  30.0000  30.0000\n",
       "59           trump  24522.000000  24522.000000  Default  29.0000  29.0000\n",
       "4             says  23311.000000  23311.000000  Default  28.0000  28.0000\n",
       "3551         cases  13508.000000  13508.000000  Default  27.0000  27.0000\n",
       "526          china  13398.000000  13398.000000  Default  26.0000  26.0000\n",
       "...            ...           ...           ...      ...      ...      ...\n",
       "3153          bans   2012.472740   2013.359891   Topic4  -5.5726   1.6658\n",
       "1173        latest   1870.570952   1871.397852   Topic4  -5.6457   1.6658\n",
       "616         canada   1843.303680   1844.142947   Topic4  -5.6604   1.6658\n",
       "53904        covid   7205.185473  24325.433122   Topic4  -4.2972   0.4495\n",
       "44765  coronavirus   4120.964586  36724.351169   Topic4  -4.8559  -0.5211\n",
       "\n",
       "[161 rows x 6 columns], token_table=      Topic      Freq       Term\n",
       "term                            \n",
       "275       4  0.999691   american\n",
       "130       2  0.999544  americans\n",
       "66        3  0.999934       amid\n",
       "2714      2  0.999580       bank\n",
       "3153      4  0.999325       bans\n",
       "...     ...       ...        ...\n",
       "53        2  0.999609    workers\n",
       "230       1  0.999922      world\n",
       "453       2  0.999720       year\n",
       "1239      2  0.999879      years\n",
       "256       1  0.999812       york\n",
       "\n",
       "[133 rows x 3 columns], R=30, lambda_step=0.01, plot_opts={'xlab': 'PC1', 'ylab': 'PC2'}, topic_order=[4, 2, 3, 1])"
      ]
     },
     "execution_count": 13,
     "metadata": {},
     "output_type": "execute_result"
    }
   ],
   "source": [
    "vis"
   ]
  },
  {
   "cell_type": "code",
   "execution_count": 23,
   "metadata": {},
   "outputs": [],
   "source": [
    "vis2 = pyLDAvis.gensim_models.prepare(sanctity_model2, sanctity_corpus2, sanctity_dict2)"
   ]
  },
  {
   "cell_type": "code",
   "execution_count": 24,
   "metadata": {
    "collapsed": true,
    "jupyter": {
     "outputs_hidden": true
    }
   },
   "outputs": [
    {
     "data": {
      "text/html": [
       "\n",
       "<link rel=\"stylesheet\" type=\"text/css\" href=\"https://cdn.jsdelivr.net/gh/bmabey/pyLDAvis@3.3.1/pyLDAvis/js/ldavis.v1.0.0.css\">\n",
       "\n",
       "\n",
       "<div id=\"ldavis_el10073061399664999619846993337437\"></div>\n",
       "<script type=\"text/javascript\">\n",
       "\n",
       "var ldavis_el10073061399664999619846993337437_data = {\"mdsDat\": {\"x\": [-0.16575280754063498, -0.050441106945456844, -0.16890257252226248, 0.38509648700835425], \"y\": [0.16865788609376384, -0.38268462998719294, 0.13315630079833257, 0.08087044309509617], \"topics\": [1, 2, 3, 4], \"cluster\": [1, 1, 1, 1], \"Freq\": [31.678684504788496, 24.747707697978935, 23.311942351120898, 20.261665446111667]}, \"tinfo\": {\"Term\": [\"trump\", \"coronavirus\", \"says\", \"new\", \"pandemic\", \"cases\", \"china\", \"virus\", \"police\", \"covid\", \"amid\", \"state\", \"oil\", \"update\", \"black\", \"supreme_court\", \"law\", \"india\", \"biden\", \"russia\", \"time\", \"stocks\", \"home\", \"record\", \"calls\", \"surge\", \"stock\", \"people\", \"warns\", \"hit\", \"new\", \"china\", \"report\", \"global\", \"million\", \"billion\", \"eu\", \"year\", \"economy\", \"rise\", \"power\", \"hong_kong\", \"court\", \"facebook\", \"crisis\", \"brazil\", \"best\", \"americans\", \"day\", \"protesters\", \"lockdown\", \"shows\", \"data\", \"high\", \"workers\", \"city\", \"york\", \"health\", \"dead\", \"man\", \"coronavirus\", \"covid\", \"says\", \"virus\", \"police\", \"time\", \"surge\", \"hit\", \"recovery\", \"cuts\", \"market\", \"council_post\", \"sales\", \"business\", \"election\", \"sees\", \"japan\", \"years\", \"washington_post\", \"fight\", \"review\", \"demand\", \"fall\", \"reports\", \"orders\", \"chinese\", \"apple\", \"energy\", \"government\", \"job\", \"need\", \"like\", \"america\", \"pandemic\", \"amid\", \"oil\", \"update\", \"black\", \"supreme_court\", \"stocks\", \"home\", \"record\", \"stock\", \"people\", \"warns\", \"june\", \"cut\", \"economic\", \"california\", \"end\", \"case\", \"set\", \"big\", \"plans\", \"security\", \"week\", \"despite\", \"states\", \"campaign\", \"close\", \"chief\", \"future\", \"amazon\", \"covid\", \"trump\", \"cases\", \"state\", \"biden\", \"india\", \"law\", \"russia\", \"calls\", \"july\", \"president\", \"uk\", \"rules\", \"vote\", \"death\", \"help\", \"plan\", \"work\", \"judge\", \"texas\", \"news\", \"house\", \"won\", \"want\", \"democrats\", \"family\", \"ban\", \"public\", \"ex\", \"officials\", \"second\"], \"Freq\": [19313.0, 28242.0, 16462.0, 18476.0, 9829.0, 8827.0, 9406.0, 7209.0, 6683.0, 17188.0, 5630.0, 4829.0, 4749.0, 4547.0, 4017.0, 3811.0, 3373.0, 3372.0, 3310.0, 3234.0, 3644.0, 3482.0, 3446.0, 3380.0, 3082.0, 3521.0, 3351.0, 3282.0, 3139.0, 3264.0, 18475.697603127977, 9405.231155485255, 3717.8658353361016, 3569.2771399088206, 3519.649735560378, 3424.902994911797, 3461.1965416905173, 3243.909794496965, 3259.6381799915766, 3184.8775631462695, 3128.511516807466, 3104.2090044902893, 2882.9473729324422, 2731.679962676695, 2715.666057319296, 2656.296853880306, 2633.5405742467583, 2621.0462143875097, 2503.603977045358, 2570.469209897845, 2474.551331287336, 2416.7491546956517, 2479.700019531979, 2388.7226209375067, 2333.34403078149, 2355.632441732319, 2311.372330938963, 2301.960039365134, 2300.050975184536, 2202.4413047446633, 27313.82926046333, 13816.43465754852, 16462.204768817326, 7208.96234755768, 6682.550752556751, 3643.9651569542166, 3520.6768953728797, 3263.3939244393796, 3127.9005456552436, 3064.0883841826912, 2969.210696424591, 2837.083492463826, 2765.3912371478104, 2406.3707710979106, 2407.500188041989, 2355.2196172376325, 2345.7600474391834, 2321.9485727079777, 2220.7425679182033, 2160.915334309932, 2145.8576218862145, 1977.4684907231212, 1942.9364062531392, 1948.6801255783728, 1950.2283618981735, 1847.8075518281462, 1761.1354749121429, 1818.3519080758322, 1785.8662279747448, 1816.0955733584901, 1761.662175161373, 1708.8560495610764, 1709.4762604516288, 9828.911024227165, 5629.451360114182, 4749.103102010339, 4547.165578055215, 4016.563914450253, 3810.928368144346, 3481.2978381443786, 3445.9121783324276, 3379.638909449042, 3350.764123153152, 3281.213641358901, 3139.061858376392, 3084.77959862428, 3072.5619997945896, 2897.9443271140126, 2769.255503485479, 2762.6418308335124, 2726.3068484668966, 2632.743940268752, 2561.018589732815, 2454.653657846467, 2583.433902080596, 2246.0145719018083, 2062.076509626361, 2082.3169532324564, 1938.6092543208201, 1929.4826921043355, 1861.7771016727766, 1873.4824704569553, 1815.1290510325125, 2445.5353352553793, 19312.891649654634, 8826.584557241424, 4828.764117387547, 3309.673711731839, 3372.1653234836435, 3372.569095814509, 3233.944574163132, 3081.4806194617636, 2805.1755303919786, 2597.500313267762, 2604.116518496752, 2263.3164726095624, 2226.3053162052693, 2128.7259230036325, 2078.209536998882, 2076.467075238276, 2040.9639266440229, 2007.9628706102105, 2017.671821843103, 1900.4264312679911, 1835.4008412184692, 1781.7616991041436, 1745.1435727769813, 1721.231827498711, 1727.1213107369285, 1666.1510067283598, 1644.7863691690386, 1526.054114267428, 1490.6449177653658, 1479.5394735469201], \"Total\": [19313.0, 28242.0, 16462.0, 18476.0, 9829.0, 8827.0, 9406.0, 7209.0, 6683.0, 17188.0, 5630.0, 4829.0, 4749.0, 4547.0, 4017.0, 3811.0, 3373.0, 3372.0, 3310.0, 3234.0, 3644.0, 3482.0, 3446.0, 3380.0, 3082.0, 3521.0, 3351.0, 3282.0, 3139.0, 3264.0, 18476.47893003848, 9406.020138309097, 3718.6487958373923, 3570.060658612622, 3520.4233315471806, 3425.6899579298197, 3461.996860643283, 3244.6929289176724, 3260.426614430636, 3185.66040768614, 3129.3199760554003, 3105.0189320120144, 2883.742767243903, 2732.4744192916974, 2716.457629729368, 2657.0825981168387, 2634.330804456223, 2621.8338547731246, 2504.3742288232725, 2571.262832634068, 2475.3286212399194, 2417.5339061092377, 2480.506889141324, 2389.500068332967, 2334.1198983705176, 2356.419625998224, 2312.1492226689893, 2302.7434840871047, 2300.836320793241, 2203.21067824098, 28242.111521285406, 17188.37399199039, 16462.999124094255, 7209.754922866006, 6683.338358579871, 3644.7653980823525, 3521.485355118226, 3264.1895528809628, 3128.685397828365, 3064.8967264388366, 2969.9977789232044, 2837.8649790187965, 2766.180535420139, 2407.1544113269842, 2408.301105414455, 2356.0148963069573, 2346.5577776737987, 2322.7499778052133, 2221.5346231249378, 2161.7102578762333, 2146.650343233241, 1978.2453407306284, 1943.7169616390945, 1949.4806648087815, 1951.0397956840325, 1848.5998310688901, 1761.9069497205257, 1819.1552972271916, 1786.6554714911617, 1816.903875950484, 1762.4612274775661, 1709.642758704707, 1710.2662405864023, 9829.703172561272, 5630.237051414302, 4749.881814354789, 4547.946881723554, 4017.3486135595044, 3811.750803161087, 3482.071221461073, 3446.703014078248, 3380.426296824635, 3351.5494448164486, 3282.001185572488, 3139.8706259422147, 3085.5793460535974, 3073.366381616692, 2898.735396412387, 2770.0477631102185, 2763.4349816177278, 2727.105615585272, 2633.5294226743426, 2561.8077666558024, 2455.4432730125186, 2584.270066598034, 2246.801230807552, 2062.8590432971896, 2083.1162565001237, 1939.4001027309328, 1930.283684221329, 1862.567653979324, 1874.285604560993, 1815.9075427942196, 17188.37399199039, 19313.68274271069, 8827.406665537754, 4829.574022780883, 3310.468782695443, 3372.9866656570807, 3373.420255737936, 3234.769580682065, 3082.288097223895, 2806.0056286328104, 2598.2976763430893, 2604.928147945776, 2264.1332134866884, 2227.113194139299, 2129.5339710857816, 2079.006064031176, 2077.2699040703396, 2041.7682992815794, 2008.772599766075, 2018.4883311892174, 1901.2384331057826, 1836.1998559500091, 1782.5659640707781, 1745.9485453333775, 1722.0271395305815, 1727.9303724011015, 1666.9658416217833, 1645.598357137537, 1526.8411559693884, 1491.4451262022112, 1480.3498550483441], \"Category\": [\"Default\", \"Default\", \"Default\", \"Default\", \"Default\", \"Default\", \"Default\", \"Default\", \"Default\", \"Default\", \"Default\", \"Default\", \"Default\", \"Default\", \"Default\", \"Default\", \"Default\", \"Default\", \"Default\", \"Default\", \"Default\", \"Default\", \"Default\", \"Default\", \"Default\", \"Default\", \"Default\", \"Default\", \"Default\", \"Default\", \"Topic1\", \"Topic1\", \"Topic1\", \"Topic1\", \"Topic1\", \"Topic1\", \"Topic1\", \"Topic1\", \"Topic1\", \"Topic1\", \"Topic1\", \"Topic1\", \"Topic1\", \"Topic1\", \"Topic1\", \"Topic1\", \"Topic1\", \"Topic1\", \"Topic1\", \"Topic1\", \"Topic1\", \"Topic1\", \"Topic1\", \"Topic1\", \"Topic1\", \"Topic1\", \"Topic1\", \"Topic1\", \"Topic1\", \"Topic1\", \"Topic1\", \"Topic1\", \"Topic2\", \"Topic2\", \"Topic2\", \"Topic2\", \"Topic2\", \"Topic2\", \"Topic2\", \"Topic2\", \"Topic2\", \"Topic2\", \"Topic2\", \"Topic2\", \"Topic2\", \"Topic2\", \"Topic2\", \"Topic2\", \"Topic2\", \"Topic2\", \"Topic2\", \"Topic2\", \"Topic2\", \"Topic2\", \"Topic2\", \"Topic2\", \"Topic2\", \"Topic2\", \"Topic2\", \"Topic2\", \"Topic2\", \"Topic2\", \"Topic2\", \"Topic3\", \"Topic3\", \"Topic3\", \"Topic3\", \"Topic3\", \"Topic3\", \"Topic3\", \"Topic3\", \"Topic3\", \"Topic3\", \"Topic3\", \"Topic3\", \"Topic3\", \"Topic3\", \"Topic3\", \"Topic3\", \"Topic3\", \"Topic3\", \"Topic3\", \"Topic3\", \"Topic3\", \"Topic3\", \"Topic3\", \"Topic3\", \"Topic3\", \"Topic3\", \"Topic3\", \"Topic3\", \"Topic3\", \"Topic3\", \"Topic3\", \"Topic4\", \"Topic4\", \"Topic4\", \"Topic4\", \"Topic4\", \"Topic4\", \"Topic4\", \"Topic4\", \"Topic4\", \"Topic4\", \"Topic4\", \"Topic4\", \"Topic4\", \"Topic4\", \"Topic4\", \"Topic4\", \"Topic4\", \"Topic4\", \"Topic4\", \"Topic4\", \"Topic4\", \"Topic4\", \"Topic4\", \"Topic4\", \"Topic4\", \"Topic4\", \"Topic4\", \"Topic4\", \"Topic4\", \"Topic4\"], \"logprob\": [30.0, 29.0, 28.0, 27.0, 26.0, 25.0, 24.0, 23.0, 22.0, 21.0, 20.0, 19.0, 18.0, 17.0, 16.0, 15.0, 14.0, 13.0, 12.0, 11.0, 10.0, 9.0, 8.0, 7.0, 6.0, 5.0, 4.0, 3.0, 2.0, 1.0, -3.4336, -4.1087, -5.0369, -5.0777, -5.0917, -5.1189, -5.1084, -5.1732, -5.1684, -5.1916, -5.2095, -5.2173, -5.2912, -5.3451, -5.351, -5.3731, -5.3817, -5.3864, -5.4323, -5.4059, -5.444, -5.4676, -5.4419, -5.4793, -5.5027, -5.4932, -5.5122, -5.5163, -5.5171, -5.5604, -3.0426, -3.7242, -3.302, -4.1278, -4.2036, -4.81, -4.8445, -4.9203, -4.9627, -4.9834, -5.0148, -5.0603, -5.0859, -5.225, -5.2245, -5.2465, -5.2505, -5.2607, -5.3053, -5.3326, -5.3396, -5.4213, -5.4389, -5.436, -5.4352, -5.4891, -5.5371, -5.5052, -5.5232, -5.5064, -5.5368, -5.5673, -5.5669, -3.758, -4.3153, -4.4854, -4.5288, -4.6529, -4.7055, -4.7959, -4.8061, -4.8256, -4.8341, -4.8551, -4.8994, -4.9169, -4.9208, -4.9793, -5.0248, -5.0271, -5.0404, -5.0753, -5.1029, -5.1454, -5.0942, -5.2342, -5.3196, -5.3099, -5.3814, -5.3861, -5.4218, -5.4155, -5.4472, -5.1491, -2.9423, -3.7253, -4.3285, -4.7063, -4.6875, -4.6874, -4.7294, -4.7777, -4.8716, -4.9486, -4.946, -5.0863, -5.1028, -5.1476, -5.1716, -5.1724, -5.1897, -5.206, -5.2012, -5.261, -5.2958, -5.3255, -5.3463, -5.3601, -5.3566, -5.3926, -5.4055, -5.4804, -5.5039, -5.5114], \"loglift\": [30.0, 29.0, 28.0, 27.0, 26.0, 25.0, 24.0, 23.0, 22.0, 21.0, 20.0, 19.0, 18.0, 17.0, 16.0, 15.0, 14.0, 13.0, 12.0, 11.0, 10.0, 9.0, 8.0, 7.0, 6.0, 5.0, 4.0, 3.0, 2.0, 1.0, 1.1495, 1.1494, 1.1493, 1.1493, 1.1493, 1.1493, 1.1493, 1.1493, 1.1493, 1.1493, 1.1493, 1.1493, 1.1493, 1.1492, 1.1492, 1.1492, 1.1492, 1.1492, 1.1492, 1.1492, 1.1492, 1.1492, 1.1492, 1.1492, 1.1492, 1.1492, 1.1492, 1.1492, 1.1492, 1.1492, 1.1161, 0.9312, 1.3964, 1.3963, 1.3963, 1.3962, 1.3962, 1.3962, 1.3962, 1.3962, 1.3962, 1.3962, 1.3962, 1.3961, 1.3961, 1.3961, 1.3961, 1.3961, 1.3961, 1.3961, 1.3961, 1.396, 1.396, 1.396, 1.396, 1.396, 1.396, 1.396, 1.396, 1.396, 1.396, 1.396, 1.396, 1.4561, 1.4561, 1.456, 1.456, 1.456, 1.456, 1.456, 1.456, 1.456, 1.456, 1.456, 1.4559, 1.4559, 1.4559, 1.4559, 1.4559, 1.4559, 1.4559, 1.4559, 1.4559, 1.4559, 1.4559, 1.4559, 1.4558, 1.4558, 1.4558, 1.4558, 1.4558, 1.4558, 1.4558, -0.4938, 1.5964, 1.5963, 1.5963, 1.5962, 1.5962, 1.5962, 1.5962, 1.5962, 1.5961, 1.5961, 1.5961, 1.5961, 1.5961, 1.5961, 1.5961, 1.5961, 1.596, 1.596, 1.596, 1.596, 1.596, 1.596, 1.596, 1.596, 1.596, 1.596, 1.5959, 1.5959, 1.5959, 1.5959]}, \"token.table\": {\"Topic\": [3, 2, 1, 3, 2, 4, 1, 4, 3, 1, 3, 1, 2, 3, 4, 3, 3, 4, 3, 1, 2, 1, 3, 1, 2, 3, 4, 2, 1, 1, 2, 3, 4, 1, 3, 2, 1, 1, 1, 4, 2, 4, 3, 3, 1, 2, 3, 2, 1, 4, 1, 2, 4, 2, 3, 1, 2, 1, 4, 1, 2, 3, 1, 4, 4, 2, 2, 4, 4, 3, 4, 2, 1, 1, 2, 1, 2, 1, 4, 4, 3, 2, 3, 3, 4, 3, 2, 1, 4, 1, 4, 3, 2, 1, 2, 2, 1, 4, 4, 2, 2, 4, 3, 2, 3, 1, 4, 3, 3, 3, 3, 2, 4, 2, 4, 4, 3, 2, 4, 4, 3, 2, 3, 4, 4, 1, 1, 2, 1], \"Freq\": [0.999500226320541, 0.9992596237028171, 0.9996819574315868, 0.999780284310766, 0.999485245392403, 0.9994205990322851, 0.9998744256204788, 0.9998583938631611, 0.9996846888098646, 0.9997985930022002, 0.9999132229753903, 0.9995925613612441, 0.9995204248960714, 0.9996217526917146, 0.999582097070986, 0.9997936976849855, 0.9995945827770829, 0.9999539314825789, 0.9996952304104975, 0.9998915441074868, 0.9996755214087933, 0.999821922210461, 0.9993349763913864, 0.9671373183061787, 0.0049217283167810955, 0.02772455591395394, 0.00021244870432148613, 0.9996952007846773, 0.9997424294384576, 0.8037991264582746, 0.04951020965662939, 0.14230549097545886, 0.00436341448207662, 0.9998315343761083, 0.9998807881745296, 0.9997074203410833, 0.9997956509842634, 0.9998505699272235, 0.999636514433607, 0.9997492544880562, 0.9993704821616471, 0.9994035288370301, 0.9995835666523213, 0.9997463044011201, 0.9998691538006873, 0.9998749718572242, 0.9998425938657427, 0.9993649265519263, 0.9997120561677523, 0.9994490874403668, 0.9998263774078366, 0.9996311388678267, 0.9994615683502289, 0.9996714370607044, 0.9993140828922419, 0.9997029017952221, 0.9996331293292855, 0.9996771311732103, 0.9995160841285738, 0.999790722611983, 0.9996355748152209, 0.9997960328826195, 0.9996718435428816, 0.9993465548174829, 0.9997074801192881, 0.9997622996207016, 0.9995025185633384, 0.9996153871442865, 0.9996416156038502, 0.9998122407533164, 0.9998754214695839, 0.9996240391734271, 0.9998672413686411, 0.999450493657762, 0.9996640472493666, 0.99987974981776, 0.9997383048941019, 0.9999740789335299, 0.9993486176777104, 0.9997015470469607, 0.9998143502534897, 0.9994670556252453, 0.9999284645172974, 0.9996949466146177, 0.9993886667939245, 0.9998194733238636, 0.9999493728191337, 0.9998977490132526, 0.9998854340879417, 0.9995088667645949, 0.999636389320066, 0.9998738925841882, 0.999780931048919, 0.9998255291443175, 0.9997534395608747, 0.9996970427739705, 0.9997926936328346, 0.999499493457391, 0.9997620910352746, 0.99957322546196, 0.9999393109307287, 0.9997636673201601, 0.9995085395236164, 0.9995692317953727, 0.9997989683844865, 0.9997791525869033, 0.9998811442213795, 0.9994641410451095, 0.9998360624464907, 0.9996923608413089, 0.9998030293164851, 0.9998621731828246, 0.9997580708386212, 0.9997900007274116, 0.9999646497915604, 0.9996436953754337, 0.99979180017969, 0.999895291466342, 0.9995001627477991, 0.9994567163299785, 0.9997227191671462, 0.9997593451304461, 0.9996433904358936, 0.999682500349392, 0.9996237088792839, 0.9995202052939528, 0.9997864423744087, 0.9996771164299302, 0.9995029634516138], \"Term\": [\"amazon\", \"america\", \"americans\", \"amid\", \"apple\", \"ban\", \"best\", \"biden\", \"big\", \"billion\", \"black\", \"brazil\", \"business\", \"california\", \"calls\", \"campaign\", \"case\", \"cases\", \"chief\", \"china\", \"chinese\", \"city\", \"close\", \"coronavirus\", \"coronavirus\", \"coronavirus\", \"coronavirus\", \"council_post\", \"court\", \"covid\", \"covid\", \"covid\", \"covid\", \"crisis\", \"cut\", \"cuts\", \"data\", \"day\", \"dead\", \"death\", \"demand\", \"democrats\", \"despite\", \"economic\", \"economy\", \"election\", \"end\", \"energy\", \"eu\", \"ex\", \"facebook\", \"fall\", \"family\", \"fight\", \"future\", \"global\", \"government\", \"health\", \"help\", \"high\", \"hit\", \"home\", \"hong_kong\", \"house\", \"india\", \"japan\", \"job\", \"judge\", \"july\", \"june\", \"law\", \"like\", \"lockdown\", \"man\", \"market\", \"million\", \"need\", \"new\", \"news\", \"officials\", \"oil\", \"orders\", \"pandemic\", \"people\", \"plan\", \"plans\", \"police\", \"power\", \"president\", \"protesters\", \"public\", \"record\", \"recovery\", \"report\", \"reports\", \"review\", \"rise\", \"rules\", \"russia\", \"sales\", \"says\", \"second\", \"security\", \"sees\", \"set\", \"shows\", \"state\", \"states\", \"stock\", \"stocks\", \"supreme_court\", \"surge\", \"texas\", \"time\", \"trump\", \"uk\", \"update\", \"virus\", \"vote\", \"want\", \"warns\", \"washington_post\", \"week\", \"won\", \"work\", \"workers\", \"year\", \"years\", \"york\"]}, \"R\": 30, \"lambda.step\": 0.01, \"plot.opts\": {\"xlab\": \"PC1\", \"ylab\": \"PC2\"}, \"topic.order\": [1, 4, 2, 3]};\n",
       "\n",
       "function LDAvis_load_lib(url, callback){\n",
       "  var s = document.createElement('script');\n",
       "  s.src = url;\n",
       "  s.async = true;\n",
       "  s.onreadystatechange = s.onload = callback;\n",
       "  s.onerror = function(){console.warn(\"failed to load library \" + url);};\n",
       "  document.getElementsByTagName(\"head\")[0].appendChild(s);\n",
       "}\n",
       "\n",
       "if(typeof(LDAvis) !== \"undefined\"){\n",
       "   // already loaded: just create the visualization\n",
       "   !function(LDAvis){\n",
       "       new LDAvis(\"#\" + \"ldavis_el10073061399664999619846993337437\", ldavis_el10073061399664999619846993337437_data);\n",
       "   }(LDAvis);\n",
       "}else if(typeof define === \"function\" && define.amd){\n",
       "   // require.js is available: use it to load d3/LDAvis\n",
       "   require.config({paths: {d3: \"https://d3js.org/d3.v5\"}});\n",
       "   require([\"d3\"], function(d3){\n",
       "      window.d3 = d3;\n",
       "      LDAvis_load_lib(\"https://cdn.jsdelivr.net/gh/bmabey/pyLDAvis@3.3.1/pyLDAvis/js/ldavis.v3.0.0.js\", function(){\n",
       "        new LDAvis(\"#\" + \"ldavis_el10073061399664999619846993337437\", ldavis_el10073061399664999619846993337437_data);\n",
       "      });\n",
       "    });\n",
       "}else{\n",
       "    // require.js not available: dynamically load d3 & LDAvis\n",
       "    LDAvis_load_lib(\"https://d3js.org/d3.v5.js\", function(){\n",
       "         LDAvis_load_lib(\"https://cdn.jsdelivr.net/gh/bmabey/pyLDAvis@3.3.1/pyLDAvis/js/ldavis.v3.0.0.js\", function(){\n",
       "                 new LDAvis(\"#\" + \"ldavis_el10073061399664999619846993337437\", ldavis_el10073061399664999619846993337437_data);\n",
       "            })\n",
       "         });\n",
       "}\n",
       "</script>"
      ],
      "text/plain": [
       "PreparedData(topic_coordinates=              x         y  topics  cluster       Freq\n",
       "topic                                                \n",
       "0     -0.165753  0.168658       1        1  31.678685\n",
       "3     -0.050441 -0.382685       2        1  24.747708\n",
       "1     -0.168903  0.133156       3        1  23.311942\n",
       "2      0.385096  0.080870       4        1  20.261665, topic_info=              Term          Freq         Total Category  logprob  loglift\n",
       "79           trump  19313.000000  19313.000000  Default  30.0000  30.0000\n",
       "11368  coronavirus  28242.000000  28242.000000  Default  29.0000  29.0000\n",
       "78            says  16462.000000  16462.000000  Default  28.0000  28.0000\n",
       "161            new  18476.000000  18476.000000  Default  27.0000  27.0000\n",
       "11100     pandemic   9829.000000   9829.000000  Default  26.0000  26.0000\n",
       "...            ...           ...           ...      ...      ...      ...\n",
       "214            ban   1666.151007   1666.965842   Topic4  -5.3926   1.5960\n",
       "1440        public   1644.786369   1645.598357   Topic4  -5.4055   1.5959\n",
       "534             ex   1526.054114   1526.841156   Topic4  -5.4804   1.5959\n",
       "314      officials   1490.644918   1491.445126   Topic4  -5.5039   1.5959\n",
       "741         second   1479.539474   1480.349855   Topic4  -5.5114   1.5959\n",
       "\n",
       "[154 rows x 6 columns], token_table=      Topic      Freq       Term\n",
       "term                            \n",
       "751       3  0.999500     amazon\n",
       "222       2  0.999260    america\n",
       "599       1  0.999682  americans\n",
       "32        3  0.999780       amid\n",
       "422       2  0.999485      apple\n",
       "...     ...       ...        ...\n",
       "137       4  0.999624       work\n",
       "952       1  0.999520    workers\n",
       "404       1  0.999786       year\n",
       "596       2  0.999677      years\n",
       "605       1  0.999503       york\n",
       "\n",
       "[129 rows x 3 columns], R=30, lambda_step=0.01, plot_opts={'xlab': 'PC1', 'ylab': 'PC2'}, topic_order=[1, 4, 2, 3])"
      ]
     },
     "execution_count": 24,
     "metadata": {},
     "output_type": "execute_result"
    }
   ],
   "source": [
    "vis2"
   ]
  },
  {
   "cell_type": "code",
   "execution_count": 20,
   "metadata": {
    "collapsed": true,
    "jupyter": {
     "outputs_hidden": true
    }
   },
   "outputs": [
    {
     "name": "stderr",
     "output_type": "stream",
     "text": [
      "/usr/local/miniconda3/envs/nlp/lib/python3.8/site-packages/ipykernel/ipkernel.py:283: DeprecationWarning: `should_run_async` will not call `transform_cell` automatically in the future. Please pass the result to `transformed_cell` argument and any exception that happen during thetransform in `preprocessing_exc_tuple` in IPython 7.17 and above.\n",
      "  and should_run_async(code)\n"
     ]
    }
   ],
   "source": [
    "vis3 = pyLDAvis.gensim_models.prepare(degradation_model2, degradation_corpus2, degradation_dict2)"
   ]
  },
  {
   "cell_type": "code",
   "execution_count": 21,
   "metadata": {},
   "outputs": [
    {
     "name": "stderr",
     "output_type": "stream",
     "text": [
      "/usr/local/miniconda3/envs/nlp/lib/python3.8/site-packages/ipykernel/ipkernel.py:283: DeprecationWarning: `should_run_async` will not call `transform_cell` automatically in the future. Please pass the result to `transformed_cell` argument and any exception that happen during thetransform in `preprocessing_exc_tuple` in IPython 7.17 and above.\n",
      "  and should_run_async(code)\n"
     ]
    },
    {
     "data": {
      "text/html": [
       "\n",
       "<link rel=\"stylesheet\" type=\"text/css\" href=\"https://cdn.jsdelivr.net/gh/bmabey/pyLDAvis@3.3.1/pyLDAvis/js/ldavis.v1.0.0.css\">\n",
       "\n",
       "\n",
       "<div id=\"ldavis_el11452211404601688434406687910383\"></div>\n",
       "<script type=\"text/javascript\">\n",
       "\n",
       "var ldavis_el11452211404601688434406687910383_data = {\"mdsDat\": {\"x\": [0.3683353366465971, -0.12571406255067888, -0.13905242649818628, -0.10356884759773191], \"y\": [0.011260366164485152, -0.25224918885992437, 0.3071822729249403, -0.06619345022950111], \"topics\": [1, 2, 3, 4], \"cluster\": [1, 1, 1, 1], \"Freq\": [30.283650780224843, 25.427882198369005, 24.25482503728107, 20.03364198412508]}, \"tinfo\": {\"Term\": [\"police\", \"oil\", \"stock\", \"million\", \"uk\", \"state\", \"market\", \"amid\", \"stocks\", \"global\", \"eu\", \"data\", \"report\", \"july\", \"deal\", \"facebook\", \"biden\", \"law\", \"surge\", \"rise\", \"world\", \"city\", \"demand\", \"people\", \"billion\", \"best\", \"india\", \"shares\", \"black\", \"hong_kong\", \"amid\", \"stocks\", \"deal\", \"surge\", \"billion\", \"india\", \"black\", \"hit\", \"hong_kong\", \"end\", \"plans\", \"year\", \"man\", \"president\", \"quarter\", \"plan\", \"set\", \"texas\", \"record\", \"warns\", \"european\", \"day\", \"week\", \"markets\", \"protests\", \"europe\", \"trade\", \"talks\", \"russia\", \"june\", \"million\", \"state\", \"global\", \"report\", \"july\", \"rise\", \"people\", \"shares\", \"best\", \"business\", \"home\", \"high\", \"democrats\", \"travel\", \"house\", \"election\", \"death\", \"vote\", \"help\", \"test\", \"gop\", \"buy\", \"vaccine\", \"group\", \"lockdown\", \"white_house\", \"apple\", \"rebound\", \"tech\", \"want\", \"police\", \"uk\", \"eu\", \"facebook\", \"biden\", \"world\", \"law\", \"city\", \"fears\", \"florida\", \"chief\", \"time\", \"iran\", \"supreme_court\", \"calls\", \"years\", \"court\", \"season\", \"close\", \"amazon\", \"crisis\", \"news\", \"senate\", \"ex\", \"public\", \"brazil\", \"deaths\", \"risk\", \"dies\", \"list\", \"oil\", \"stock\", \"market\", \"data\", \"demand\", \"prices\", \"shows\", \"bill\", \"workers\", \"ceo\", \"york\", \"chinese\", \"recovery\", \"second\", \"reports\", \"protesters\", \"security\", \"california\", \"officials\", \"health\", \"killed\", \"case\", \"government\", \"bank\", \"gets\", \"post\", \"work\", \"boost\", \"federal\", \"mississippi\", \"strong\"], \"Freq\": [10736.0, 8474.0, 6799.0, 7876.0, 7077.0, 7119.0, 5920.0, 7897.0, 7784.0, 5952.0, 5354.0, 4594.0, 5265.0, 5200.0, 5850.0, 4795.0, 4636.0, 4583.0, 5321.0, 4640.0, 4475.0, 4275.0, 3721.0, 4362.0, 4993.0, 4327.0, 4927.0, 4218.0, 4705.0, 4701.0, 7896.582982114707, 7783.272098276744, 5850.123901596052, 5320.965797626883, 4993.020554409932, 4926.875965411641, 4704.255104438473, 4677.782374622676, 4700.633861057687, 4354.335671976878, 4280.009355789883, 4097.775833183418, 3978.7860073186384, 3878.819367059344, 4579.209805186314, 3833.055146943983, 3849.6190468516, 3805.2565534648384, 3659.191269210792, 3749.8486761739673, 3699.668390471235, 3464.2987065829107, 3360.5058534683653, 3373.276252117675, 3270.445259151553, 3300.633887181845, 3062.13746181972, 3059.8532179650706, 3068.4055605872313, 2969.6492494148465, 7875.861077509203, 7118.852691679665, 5951.253660671677, 5265.163840887562, 5199.256454562952, 4640.033050076923, 4361.384867666526, 4217.347783848683, 4326.170445787024, 3761.11595660662, 3516.9382623399115, 3493.021932302097, 3356.3984725003743, 3302.8559895137014, 3138.1249249269144, 3026.353410175603, 2920.288796364653, 2884.5133561140747, 2890.8724409108117, 2944.063410824357, 2837.1610680186795, 2698.809262558146, 2654.2480408588563, 2522.9218217077814, 2325.857544433158, 2336.5862902873237, 2298.1460127741325, 2324.2942901179194, 2190.624358282259, 2129.0024802594157, 10736.101667114659, 7076.916867366306, 5353.70191337317, 4794.257911919337, 4635.557996233482, 4474.775226724229, 4582.451216157151, 4274.300337184166, 3527.7041295514996, 3525.35231360585, 3474.127989668049, 3425.866429833383, 3420.2346695823994, 3251.7554026183975, 3124.7392249336826, 3181.5766350683834, 2817.316076635513, 2849.008454870632, 2798.212519307856, 2669.0716802159727, 2646.618499276699, 2604.471995361392, 2597.1495364227685, 2481.0470891224813, 2445.374628912502, 2358.591561392574, 2306.740820491292, 2310.208480847751, 2289.192783997087, 2400.6742390633262, 8473.465980162773, 6798.904805004471, 5919.335426218915, 4593.962958791227, 3720.963564176471, 3294.5382339559064, 3296.069595766207, 3241.8832835558696, 3229.6199576937643, 3198.32119677328, 3105.05292889735, 3081.9611806854073, 3052.199536843603, 3082.7508035070146, 3113.522151633242, 2864.3671448635127, 2987.4350413525494, 2835.615895938336, 2872.3497021052717, 2729.3384194183745, 2701.484301728126, 2525.60168858885, 2483.777232435267, 2393.74434623131, 2330.2326575610105, 2340.5182429973347, 2304.519039286303, 2354.9388736586475, 2273.572500790617, 2377.820439469386, 2277.4727310657395], \"Total\": [10736.0, 8474.0, 6799.0, 7876.0, 7077.0, 7119.0, 5920.0, 7897.0, 7784.0, 5952.0, 5354.0, 4594.0, 5265.0, 5200.0, 5850.0, 4795.0, 4636.0, 4583.0, 5321.0, 4640.0, 4475.0, 4275.0, 3721.0, 4362.0, 4993.0, 4327.0, 4927.0, 4218.0, 4705.0, 4701.0, 7897.417865914983, 7784.101396151735, 5850.949505978452, 5321.808923341899, 4993.8435694666805, 4927.729832154686, 4705.0782198292945, 4678.614537149353, 4701.509345661202, 4355.175618353868, 4280.845632865135, 4098.606167387439, 3979.61022488996, 3879.641799492962, 4580.183792304702, 3833.8840656759157, 3850.452461234041, 3806.098016193834, 3660.012774107221, 3750.6953478301093, 3700.5281623946144, 3465.1334085131207, 3361.3314316700094, 3374.119663087667, 3271.268755951828, 3301.477824180851, 3062.9533116489606, 3060.6701266949763, 3069.2557983081106, 2970.4886596149763, 7876.684054618476, 7119.673190653457, 5952.079512061456, 5265.984388551062, 5200.098102466966, 4640.849661372568, 4362.195769988752, 4218.172015641076, 4327.029463915688, 3761.927537654152, 3517.7532548069157, 3493.8377330004337, 3357.227509863521, 3303.696329404845, 3138.9445288515817, 3027.156253854887, 2921.0887017431637, 2885.332998002633, 2891.6951101940767, 2944.9059344627026, 2837.9971795603324, 2699.6394432299617, 2655.066897871091, 2523.73696334848, 2326.6600803903166, 2337.3965930451886, 2298.954018742053, 2325.152129090879, 2191.4329372551397, 2129.832353692589, 10736.907136003101, 7077.744864969365, 5354.523664508818, 4795.097690105728, 4636.38024427656, 4475.601737391677, 4583.311080202752, 4275.116176829589, 3528.523393508029, 3526.1712889099626, 3474.942893257008, 3426.683925032052, 3421.0777698960314, 3252.5863100205065, 3125.5560094565267, 3182.4085553506607, 2818.130452591157, 2849.8420618468126, 2799.048303786149, 2669.890195825096, 2647.443870950586, 2605.298202915511, 2597.976072148882, 2481.875652216699, 2446.197775359757, 2359.404342267322, 2307.555831085526, 2311.028263306229, 2290.0172615334145, 2401.5483563906496, 8474.284797191181, 6799.734135302869, 5920.174497527843, 4594.804551435863, 3721.7839694364316, 3295.3584956514524, 3296.901717702447, 3242.704923412775, 3230.446219052507, 3199.142627941514, 3105.8660515339793, 3082.7830353155127, 3053.015311834153, 3083.5761953387655, 3114.363219612316, 2865.1849887437947, 2988.293790589605, 2836.4359883042603, 2873.1816843313804, 2730.1629763017163, 2702.306472856375, 2526.4192854758116, 2484.593507936791, 2394.5556445989823, 2331.0547012928882, 2341.348715464886, 2305.34353158047, 2355.7863921015983, 2274.4121189887696, 2378.7003313234436, 2278.3871205824707], \"Category\": [\"Default\", \"Default\", \"Default\", \"Default\", \"Default\", \"Default\", \"Default\", \"Default\", \"Default\", \"Default\", \"Default\", \"Default\", \"Default\", \"Default\", \"Default\", \"Default\", \"Default\", \"Default\", \"Default\", \"Default\", \"Default\", \"Default\", \"Default\", \"Default\", \"Default\", \"Default\", \"Default\", \"Default\", \"Default\", \"Default\", \"Topic1\", \"Topic1\", \"Topic1\", \"Topic1\", \"Topic1\", \"Topic1\", \"Topic1\", \"Topic1\", \"Topic1\", \"Topic1\", \"Topic1\", \"Topic1\", \"Topic1\", \"Topic1\", \"Topic1\", \"Topic1\", \"Topic1\", \"Topic1\", \"Topic1\", \"Topic1\", \"Topic1\", \"Topic1\", \"Topic1\", \"Topic1\", \"Topic1\", \"Topic1\", \"Topic1\", \"Topic1\", \"Topic1\", \"Topic1\", \"Topic2\", \"Topic2\", \"Topic2\", \"Topic2\", \"Topic2\", \"Topic2\", \"Topic2\", \"Topic2\", \"Topic2\", \"Topic2\", \"Topic2\", \"Topic2\", \"Topic2\", \"Topic2\", \"Topic2\", \"Topic2\", \"Topic2\", \"Topic2\", \"Topic2\", \"Topic2\", \"Topic2\", \"Topic2\", \"Topic2\", \"Topic2\", \"Topic2\", \"Topic2\", \"Topic2\", \"Topic2\", \"Topic2\", \"Topic2\", \"Topic3\", \"Topic3\", \"Topic3\", \"Topic3\", \"Topic3\", \"Topic3\", \"Topic3\", \"Topic3\", \"Topic3\", \"Topic3\", \"Topic3\", \"Topic3\", \"Topic3\", \"Topic3\", \"Topic3\", \"Topic3\", \"Topic3\", \"Topic3\", \"Topic3\", \"Topic3\", \"Topic3\", \"Topic3\", \"Topic3\", \"Topic3\", \"Topic3\", \"Topic3\", \"Topic3\", \"Topic3\", \"Topic3\", \"Topic3\", \"Topic4\", \"Topic4\", \"Topic4\", \"Topic4\", \"Topic4\", \"Topic4\", \"Topic4\", \"Topic4\", \"Topic4\", \"Topic4\", \"Topic4\", \"Topic4\", \"Topic4\", \"Topic4\", \"Topic4\", \"Topic4\", \"Topic4\", \"Topic4\", \"Topic4\", \"Topic4\", \"Topic4\", \"Topic4\", \"Topic4\", \"Topic4\", \"Topic4\", \"Topic4\", \"Topic4\", \"Topic4\", \"Topic4\", \"Topic4\", \"Topic4\"], \"logprob\": [30.0, 29.0, 28.0, 27.0, 26.0, 25.0, 24.0, 23.0, 22.0, 21.0, 20.0, 19.0, 18.0, 17.0, 16.0, 15.0, 14.0, 13.0, 12.0, 11.0, 10.0, 9.0, 8.0, 7.0, 6.0, 5.0, 4.0, 3.0, 2.0, 1.0, -4.5501, -4.5645, -4.85, -4.9448, -5.0084, -5.0218, -5.068, -5.0737, -5.0688, -5.1453, -5.1625, -5.206, -5.2355, -5.261, -5.095, -5.2728, -5.2685, -5.2801, -5.3192, -5.2948, -5.3082, -5.374, -5.4044, -5.4006, -5.4316, -5.4224, -5.4974, -5.4981, -5.4953, -5.528, -4.3779, -4.479, -4.6581, -4.7806, -4.7932, -4.907, -4.9689, -5.0025, -4.977, -5.117, -5.1841, -5.191, -5.2309, -5.2469, -5.2981, -5.3344, -5.37, -5.3824, -5.3802, -5.3619, -5.3989, -5.4489, -5.4656, -5.5163, -5.5976, -5.593, -5.6096, -5.5983, -5.6575, -5.6861, -4.0209, -4.4377, -4.7167, -4.8271, -4.8607, -4.896, -4.8723, -4.9419, -5.1338, -5.1345, -5.1492, -5.1631, -5.1648, -5.2153, -5.2551, -5.2371, -5.3587, -5.3475, -5.3655, -5.4128, -5.4212, -5.4373, -5.4401, -5.4858, -5.5003, -5.5364, -5.5587, -5.5572, -5.5663, -5.5187, -4.0664, -4.2865, -4.4251, -4.6785, -4.8893, -5.011, -5.0106, -5.0271, -5.0309, -5.0407, -5.0703, -5.0777, -5.0874, -5.0775, -5.0675, -5.1509, -5.1089, -5.161, -5.1482, -5.1992, -5.2095, -5.2768, -5.2935, -5.3304, -5.3573, -5.3529, -5.3684, -5.3468, -5.3819, -5.3371, -5.3802], \"loglift\": [30.0, 29.0, 28.0, 27.0, 26.0, 25.0, 24.0, 23.0, 22.0, 21.0, 20.0, 19.0, 18.0, 17.0, 16.0, 15.0, 14.0, 13.0, 12.0, 11.0, 10.0, 9.0, 8.0, 7.0, 6.0, 5.0, 4.0, 3.0, 2.0, 1.0, 1.1945, 1.1945, 1.1944, 1.1944, 1.1944, 1.1944, 1.1944, 1.1944, 1.1944, 1.1944, 1.1944, 1.1944, 1.1944, 1.1944, 1.1943, 1.1943, 1.1943, 1.1943, 1.1943, 1.1943, 1.1943, 1.1943, 1.1943, 1.1943, 1.1943, 1.1943, 1.1943, 1.1943, 1.1943, 1.1943, 1.3692, 1.3692, 1.3692, 1.3692, 1.3692, 1.3691, 1.3691, 1.3691, 1.3691, 1.3691, 1.3691, 1.3691, 1.3691, 1.3691, 1.3691, 1.3691, 1.369, 1.369, 1.369, 1.369, 1.369, 1.369, 1.369, 1.369, 1.369, 1.369, 1.369, 1.369, 1.369, 1.3689, 1.4165, 1.4164, 1.4164, 1.4164, 1.4164, 1.4164, 1.4164, 1.4164, 1.4163, 1.4163, 1.4163, 1.4163, 1.4163, 1.4163, 1.4163, 1.4163, 1.4163, 1.4163, 1.4163, 1.4162, 1.4162, 1.4162, 1.4162, 1.4162, 1.4162, 1.4162, 1.4162, 1.4162, 1.4162, 1.4162, 1.6077, 1.6076, 1.6076, 1.6076, 1.6075, 1.6075, 1.6075, 1.6075, 1.6075, 1.6075, 1.6075, 1.6075, 1.6075, 1.6075, 1.6075, 1.6075, 1.6075, 1.6075, 1.6075, 1.6075, 1.6075, 1.6074, 1.6074, 1.6074, 1.6074, 1.6074, 1.6074, 1.6074, 1.6074, 1.6074, 1.6074]}, \"token.table\": {\"Topic\": [3, 1, 2, 4, 2, 3, 4, 1, 1, 4, 3, 2, 2, 4, 3, 4, 4, 3, 4, 3, 3, 3, 3, 4, 1, 1, 2, 3, 4, 2, 3, 2, 1, 3, 1, 1, 3, 3, 3, 4, 3, 4, 2, 2, 4, 2, 4, 2, 2, 1, 2, 1, 2, 1, 3, 2, 1, 4, 3, 3, 2, 1, 4, 1, 2, 4, 3, 4, 4, 2, 1, 1, 3, 4, 1, 4, 4, 1, 3, 1, 2, 1, 4, 2, 4, 2, 3, 1, 3, 4, 4, 3, 1, 2, 4, 2, 4, 1, 4, 3, 1, 1, 2, 2, 1, 3, 1, 2, 3, 2, 2, 2, 1, 1, 2, 4, 4, 3, 1, 3, 4], \"Freq\": [0.9996665796119676, 0.9999470882860604, 0.999585020520517, 0.9997679550273824, 0.9997620853002567, 0.9999179868223644, 0.9997826125319991, 0.9998310781154944, 0.9997708391276577, 0.9996661870090451, 0.9998286252762706, 0.9997534408505034, 0.9997631375435837, 0.9998462900957195, 0.9998221086248832, 0.9998340396314175, 0.9996428330729821, 0.9997286593518305, 0.9997459972672282, 0.9997389131000373, 0.9996254784939828, 0.9995988643499035, 0.9998323398069147, 0.999824899747779, 0.999672910569522, 0.9998377176255782, 0.9996272958974118, 0.9997591256176609, 0.9997893565443697, 0.9996343679837263, 0.9995557843381786, 0.9996180395863562, 0.9997300640761961, 0.9999022014764284, 0.9998552696076433, 0.9998572737805426, 0.9996471812695704, 0.9997710807627562, 0.9998516678367523, 0.9998188019729015, 0.9996678298318501, 0.9995475433106297, 0.999818632788882, 0.9996486326457565, 0.9997611247333236, 0.9997079872589011, 0.9995740267845505, 0.9997596184356967, 0.9997602255558348, 0.9998686497584972, 0.9997858704825626, 0.9998916633736628, 0.999699093487349, 0.999851892822954, 0.9996849618837913, 0.9997888304325556, 0.9998354952093843, 0.9995165341646116, 0.9997139447487178, 0.9997716654802347, 0.9997162970234114, 0.9998466621464224, 0.999801610995025, 0.9996681614170606, 0.9999131544932192, 0.9997055823660419, 0.9995017065938716, 0.9995887192453493, 0.9998483887169325, 0.9997258788803156, 0.9997694073005935, 0.9998024612570371, 0.9999155123545719, 0.9998510621409862, 0.9998345724873245, 0.99989121194191, 0.9995864180677861, 0.9996121517226245, 0.9995103521997191, 0.999741540436283, 0.9995044930280198, 0.9997232867288371, 0.9996674396521309, 0.9998130665648759, 0.9998833727517624, 0.9998169168504552, 0.9995550624271649, 0.9995908459930897, 0.9997045233284728, 0.9998131405542576, 0.9995670470575285, 0.999624295173714, 0.9998824914114389, 0.9997221508187125, 0.9997264954252032, 0.9999054464108913, 0.9998920347048487, 0.9998585069623734, 0.9993911831005627, 0.9998197403651672, 0.9998479984243044, 0.999781052296642, 0.9998024410203116, 0.999692372359979, 0.9997115113196868, 0.9998004119880869, 0.9996887606332963, 0.999789227176043, 0.9998947595620391, 0.9995981653524638, 0.9998845894034195, 0.9996091928591723, 0.9998146082884307, 0.999901398693718, 0.9998303270200835, 0.999850984646859, 0.9998618707688507, 0.9998655516225563, 0.9998521040171504, 0.9998716207100519, 0.9997211561865162], \"Term\": [\"amazon\", \"amid\", \"apple\", \"bank\", \"best\", \"biden\", \"bill\", \"billion\", \"black\", \"boost\", \"brazil\", \"business\", \"buy\", \"california\", \"calls\", \"case\", \"ceo\", \"chief\", \"chinese\", \"city\", \"close\", \"court\", \"crisis\", \"data\", \"day\", \"deal\", \"death\", \"deaths\", \"demand\", \"democrats\", \"dies\", \"election\", \"end\", \"eu\", \"europe\", \"european\", \"ex\", \"facebook\", \"fears\", \"federal\", \"florida\", \"gets\", \"global\", \"gop\", \"government\", \"group\", \"health\", \"help\", \"high\", \"hit\", \"home\", \"hong_kong\", \"house\", \"india\", \"iran\", \"july\", \"june\", \"killed\", \"law\", \"list\", \"lockdown\", \"man\", \"market\", \"markets\", \"million\", \"mississippi\", \"news\", \"officials\", \"oil\", \"people\", \"plan\", \"plans\", \"police\", \"post\", \"president\", \"prices\", \"protesters\", \"protests\", \"public\", \"quarter\", \"rebound\", \"record\", \"recovery\", \"report\", \"reports\", \"rise\", \"risk\", \"russia\", \"season\", \"second\", \"security\", \"senate\", \"set\", \"shares\", \"shows\", \"state\", \"stock\", \"stocks\", \"strong\", \"supreme_court\", \"surge\", \"talks\", \"tech\", \"test\", \"texas\", \"time\", \"trade\", \"travel\", \"uk\", \"vaccine\", \"vote\", \"want\", \"warns\", \"week\", \"white_house\", \"work\", \"workers\", \"world\", \"year\", \"years\", \"york\"]}, \"R\": 30, \"lambda.step\": 0.01, \"plot.opts\": {\"xlab\": \"PC1\", \"ylab\": \"PC2\"}, \"topic.order\": [2, 1, 4, 3]};\n",
       "\n",
       "function LDAvis_load_lib(url, callback){\n",
       "  var s = document.createElement('script');\n",
       "  s.src = url;\n",
       "  s.async = true;\n",
       "  s.onreadystatechange = s.onload = callback;\n",
       "  s.onerror = function(){console.warn(\"failed to load library \" + url);};\n",
       "  document.getElementsByTagName(\"head\")[0].appendChild(s);\n",
       "}\n",
       "\n",
       "if(typeof(LDAvis) !== \"undefined\"){\n",
       "   // already loaded: just create the visualization\n",
       "   !function(LDAvis){\n",
       "       new LDAvis(\"#\" + \"ldavis_el11452211404601688434406687910383\", ldavis_el11452211404601688434406687910383_data);\n",
       "   }(LDAvis);\n",
       "}else if(typeof define === \"function\" && define.amd){\n",
       "   // require.js is available: use it to load d3/LDAvis\n",
       "   require.config({paths: {d3: \"https://d3js.org/d3.v5\"}});\n",
       "   require([\"d3\"], function(d3){\n",
       "      window.d3 = d3;\n",
       "      LDAvis_load_lib(\"https://cdn.jsdelivr.net/gh/bmabey/pyLDAvis@3.3.1/pyLDAvis/js/ldavis.v3.0.0.js\", function(){\n",
       "        new LDAvis(\"#\" + \"ldavis_el11452211404601688434406687910383\", ldavis_el11452211404601688434406687910383_data);\n",
       "      });\n",
       "    });\n",
       "}else{\n",
       "    // require.js not available: dynamically load d3 & LDAvis\n",
       "    LDAvis_load_lib(\"https://d3js.org/d3.v5.js\", function(){\n",
       "         LDAvis_load_lib(\"https://cdn.jsdelivr.net/gh/bmabey/pyLDAvis@3.3.1/pyLDAvis/js/ldavis.v3.0.0.js\", function(){\n",
       "                 new LDAvis(\"#\" + \"ldavis_el11452211404601688434406687910383\", ldavis_el11452211404601688434406687910383_data);\n",
       "            })\n",
       "         });\n",
       "}\n",
       "</script>"
      ],
      "text/plain": [
       "PreparedData(topic_coordinates=              x         y  topics  cluster       Freq\n",
       "topic                                                \n",
       "1      0.368335  0.011260       1        1  30.283651\n",
       "0     -0.125714 -0.252249       2        1  25.427882\n",
       "3     -0.139052  0.307182       3        1  24.254825\n",
       "2     -0.103569 -0.066193       4        1  20.033642, topic_info=             Term          Freq         Total Category  logprob  loglift\n",
       "106        police  10736.000000  10736.000000  Default  30.0000  30.0000\n",
       "910           oil   8474.000000   8474.000000  Default  29.0000  29.0000\n",
       "8           stock   6799.000000   6799.000000  Default  28.0000  28.0000\n",
       "191       million   7876.000000   7876.000000  Default  27.0000  27.0000\n",
       "1313           uk   7077.000000   7077.000000  Default  26.0000  26.0000\n",
       "...           ...           ...           ...      ...      ...      ...\n",
       "739          work   2304.519039   2305.343532   Topic4  -5.3684   1.6074\n",
       "2030        boost   2354.938874   2355.786392   Topic4  -5.3468   1.6074\n",
       "3801      federal   2273.572501   2274.412119   Topic4  -5.3819   1.6074\n",
       "1597  mississippi   2377.820439   2378.700331   Topic4  -5.3371   1.6074\n",
       "1401       strong   2277.472731   2278.387121   Topic4  -5.3802   1.6074\n",
       "\n",
       "[151 rows x 6 columns], token_table=      Topic      Freq     Term\n",
       "term                          \n",
       "268       3  0.999667   amazon\n",
       "59        1  0.999947     amid\n",
       "460       2  0.999585    apple\n",
       "2408      4  0.999768     bank\n",
       "2737      2  0.999762     best\n",
       "...     ...       ...      ...\n",
       "48        4  0.999862  workers\n",
       "203       3  0.999866    world\n",
       "408       1  0.999852     year\n",
       "1103      3  0.999872    years\n",
       "225       4  0.999721     york\n",
       "\n",
       "[121 rows x 3 columns], R=30, lambda_step=0.01, plot_opts={'xlab': 'PC1', 'ylab': 'PC2'}, topic_order=[2, 1, 4, 3])"
      ]
     },
     "execution_count": 21,
     "metadata": {},
     "output_type": "execute_result"
    }
   ],
   "source": [
    "vis3"
   ]
  },
  {
   "cell_type": "code",
   "execution_count": null,
   "metadata": {},
   "outputs": [],
   "source": [
    "vis3 = pyLDAvis.gensim_models.prepare(sanctity_model2, sanctity_corpus2, sanctity_dict2)"
   ]
  },
  {
   "cell_type": "code",
   "execution_count": null,
   "metadata": {},
   "outputs": [],
   "source": []
  }
 ],
 "metadata": {
  "kernelspec": {
   "display_name": "Python 3",
   "language": "python",
   "name": "python3"
  },
  "language_info": {
   "codemirror_mode": {
    "name": "ipython",
    "version": 3
   },
   "file_extension": ".py",
   "mimetype": "text/x-python",
   "name": "python",
   "nbconvert_exporter": "python",
   "pygments_lexer": "ipython3",
   "version": "3.8.0"
  }
 },
 "nbformat": 4,
 "nbformat_minor": 4
}
